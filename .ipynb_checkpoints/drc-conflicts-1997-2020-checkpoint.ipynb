{
 "cells": [
  {
   "cell_type": "markdown",
   "metadata": {},
   "source": [
    "# ***Les conflits politiques en République Démocratique du Congo entre 1997 et 2020.*** "
   ]
  },
  {
   "cell_type": "markdown",
   "metadata": {},
   "source": [
    "## 0) PLAN :\n",
    "  **1° Bon à savoir**\n",
    "  \n",
    "  **2° Data privacy**\n",
    "  \n",
    "  **3° Etude du projet***\n",
    "  \n",
    ">        3.1) Importation des données et des librairies\n",
    "       3.2) Phase de Data Pré-processing\n",
    "       3.3) Questions\n",
    "       3.4) Réponses : Visualisations\n",
    "       3.5) Phase finale de la Data processing\n",
    "       3.6) Modélisation : jeu de données, modèle, observation et optimisation\n",
    "       3.7) Prédiction, Classification et conclusion\n",
    "   \n",
    "  **4° Conlusion Générale**"
   ]
  },
  {
   "cell_type": "markdown",
   "metadata": {},
   "source": [
    "### 1) Bon à savoir :  \n",
    "***ce notebook est évolutif, il passera de version en version.***"
   ]
  },
  {
   "cell_type": "markdown",
   "metadata": {},
   "source": [
    "- ***Quoi ?*** : Le projet Armed Conflict Location and Event Data Project est conçu pour l'analyse désagrégée des conflits et la cartographie des crises. Cet ensemble de données code les dates et les lieux de tous les événements de violence politique et de protestation signalés en\n",
    "République démocratique du Congo. La violence politique et les manifestations comprennent les événements qui se produisent pendant les guerres civiles et les périodes d'instabilité, les manifestations publiques et l'effondrement du régime. Le projet couvre toutes les régions de 1997 à 2020."
   ]
  },
  {
   "cell_type": "markdown",
   "metadata": {},
   "source": [
    "- ***Pourquoi ? L'objectif de notre notebook*** :\n",
    "est de permettre à tous, d'avoir une idée beaucoup plus détaillées du dataset des conflits politiques en RDC entre 1997 et 2020, à l'aide des visualisations, des modèles de prédictions et de classifications que nous essayerons de mettre en place plus loin."
   ]
  },
  {
   "cell_type": "markdown",
   "metadata": {},
   "source": [
    "- ***Comment ?*** : Pour parvenir à nos fins, nous procéderons de la manière suivante : "
   ]
  },
  {
   "cell_type": "markdown",
   "metadata": {},
   "source": [
    ">    - Etape de prétraitement des données : Afin d'exploiter efficacement notre dataset nous devons avoir un dataset prêt à l'emploi, d'où nous allons d'abord commencer par comprendre les données, élaguer les données et plus précisément les colonnes, formatter les données en des types plus simple à manipuler afin d'obtenir un dataset \"propre\" que que nous allons visualiser à l'étape suivante\n",
    "    \n",
    ">    - Etape de l'analyse des données :  matérialisée par des visualisations statistiques réalisées à l'aide des librairies Pandas, Sklearn, Seaborn, Folium, Matplotlib et le célèbre Plotly.\n",
    "\n",
    ">    - Etape de prétraitement finale : Obtention des deux derniers dataset pour la phase d'apprentissage et, grâce au feature engineering.\n",
    "\n",
    ">    - Etape de modélisation : Création des jeux de données d'entrainement (apprentissage), de test (décision), de validation et, Choix des modèles de machine learning ainsi que observation du comportement des courbes (du modèle), usage des booster pour l'optimisation.\n",
    "\n",
    ">    - Etape de Prédictions : Appication d'un modèle prédictif et, d'un modèle de classification aisni qu'une conclusion pour l'étape.\n",
    "\n",
    ">    - Conclusion générale"
   ]
  },
  {
   "cell_type": "markdown",
   "metadata": {},
   "source": [
    "- ***Qui ?*** : Ce travail est une réalisation de la communauté Data Science for All (DSFA), une petie association de quelques Data Scientist (Débutant, Junior, Senior, etc.), originaire de la République Démocratique du Congo. Ce travail est en particulier réalisé par 5 membres de la communauté, il s'agit notamment de : Christian Labiem, Anthony Kamoto, Grace Suana, Jessy Ndaya et Ketsia Mulapi."
   ]
  },
  {
   "cell_type": "markdown",
   "metadata": {},
   "source": [
    "- ***Notre but principal :***\n",
    "Nous démocratisons les connaissances en Science de Données. \n",
    "\n",
    "- ***Notre devise :***\n",
    "Tout s'apprend. "
   ]
  },
  {
   "cell_type": "markdown",
   "metadata": {},
   "source": [
    "### 2) Data Privacy"
   ]
  },
  {
   "cell_type": "markdown",
   "metadata": {},
   "source": [
    "- ***Source*** : Le DataSet (Les données) est disponible sur Kaggle grâce à ***Manassé Ngudia***, qui se propose d'expliquer ce qui s'est passé en République Démocratique du Congo de façon brève."
   ]
  },
  {
   "cell_type": "markdown",
   "metadata": {},
   "source": [
    "- ***Remerciements :***\n",
    "\n",
    "ACLED est dirigé par le professeur Clionadh Raleigh (Université du Sussex). Il est exploité par la directrice de recherche principale Andrea Carboni (Université du Sussex) pour l'Afrique et Hillary Tanoff pour l'Asie du Sud et du Sud-Est. La collecte de données implique plusieurs analystes de recherche, dont Charles Vannice, James Moody, Daniel Wigmore-Shepherd, Andrea Carboni, Matt Batten-Carew, Margaux Pinaud, Roudabeh Kishi, Helen Morris, Braden Fuller, Daniel Moody et d'autres. Veuillez citer :\n",
    "\n",
    "Raleigh, Clionadh, Andrew Linke, Håvard Hegre et Joakim Karlsen. 2010. Présentation des données d'événement et de localisation des conflits armés d'ACLED. Journal of Peace Research 47 (5) 651-660."
   ]
  },
  {
   "cell_type": "markdown",
   "metadata": {},
   "source": [
    "- ***Inspiration :***\n",
    "\n",
    "Les conflits dans une région prédisent-ils de futures flambées ? Comment les acteurs individuels interagissent-ils dans le temps ? Certaines sources rapportent-elles plus souvent sur certains acteurs ?"
   ]
  },
  {
   "cell_type": "markdown",
   "metadata": {},
   "source": [
    "- ***Vers le lien Kaggle :***\n",
    "    https://www.kaggle.com/manassengudia/drc-conflicts-19972020"
   ]
  },
  {
   "cell_type": "markdown",
   "metadata": {},
   "source": [
    "## 3) Etude du projet"
   ]
  },
  {
   "cell_type": "markdown",
   "metadata": {
    "execution": {
     "iopub.execute_input": "2021-07-28T12:06:28.322377Z",
     "iopub.status.busy": "2021-07-28T12:06:28.321623Z",
     "iopub.status.idle": "2021-07-28T12:06:28.326906Z",
     "shell.execute_reply": "2021-07-28T12:06:28.325513Z",
     "shell.execute_reply.started": "2021-07-28T12:06:28.322247Z"
    }
   },
   "source": [
    "### 3.1 ) Etape 1 : Importation des données et des librairies"
   ]
  },
  {
   "cell_type": "code",
   "execution_count": 2,
   "metadata": {
    "_cell_guid": "b1076dfc-b9ad-4769-8c92-a6c4dae69d19",
    "_uuid": "8f2839f25d086af736a60e9eeb907d3b93b6e0e5",
    "execution": {
     "iopub.execute_input": "2021-07-28T21:55:49.163978Z",
     "iopub.status.busy": "2021-07-28T21:55:49.163594Z",
     "iopub.status.idle": "2021-07-28T21:55:49.181177Z",
     "shell.execute_reply": "2021-07-28T21:55:49.179923Z",
     "shell.execute_reply.started": "2021-07-28T21:55:49.163945Z"
    }
   },
   "outputs": [
    {
     "name": "stdout",
     "output_type": "stream",
     "text": [
      "/kaggle/input/drc-conflicts-19972020/conflict_data_cod.csv\n",
      "/kaggle/input/drc-conflicts-19972020/qc_conflict_data_cod.csv\n"
     ]
    }
   ],
   "source": [
    "# This Python 3 environment comes with many helpful analytics libraries installed\n",
    "# It is defined by the kaggle/python Docker image: https://github.com/kaggle/docker-python\n",
    "# For example, here's several helpful packages to load\n",
    "\n",
    "import numpy as np # linear algebra\n",
    "import pandas as pd # data processing, CSV file I/O (e.g. pd.read_csv)\n",
    "\n",
    "# Input data files are available in the read-only \"../input/\" directory\n",
    "# For example, running this (by clicking run or pressing Shift+Enter) will list all files under the input directory\n",
    "\n",
    "import os\n",
    "for dirname, _, filenames in os.walk('/kaggle/input'):\n",
    "    for filename in filenames:\n",
    "        print(os.path.join(dirname, filename))\n",
    "\n",
    "# You can write up to 20GB to the current directory (/kaggle/working/) that gets preserved as output when you create a version using \"Save & Run All\" \n",
    "# You can also write temporary files to /kaggle/temp/, but they won't be saved outside of the current session"
   ]
  },
  {
   "cell_type": "code",
   "execution_count": 3,
   "metadata": {
    "execution": {
     "iopub.execute_input": "2021-07-28T21:55:49.184561Z",
     "iopub.status.busy": "2021-07-28T21:55:49.184259Z",
     "iopub.status.idle": "2021-07-28T21:55:49.306624Z",
     "shell.execute_reply": "2021-07-28T21:55:49.305594Z",
     "shell.execute_reply.started": "2021-07-28T21:55:49.184529Z"
    }
   },
   "outputs": [],
   "source": [
    "df1 = pd.read_csv(\"/kaggle/input/drc-conflicts-19972020/qc_conflict_data_cod.csv\")"
   ]
  },
  {
   "cell_type": "code",
   "execution_count": null,
   "metadata": {},
   "outputs": [],
   "source": [
    "df1 = pd.read_csv(\"qc_conflict_data_cod.csv\")"
   ]
  },
  {
   "cell_type": "code",
   "execution_count": 4,
   "metadata": {
    "execution": {
     "iopub.execute_input": "2021-07-28T21:55:49.309090Z",
     "iopub.status.busy": "2021-07-28T21:55:49.308655Z",
     "iopub.status.idle": "2021-07-28T21:55:49.602554Z",
     "shell.execute_reply": "2021-07-28T21:55:49.601650Z",
     "shell.execute_reply.started": "2021-07-28T21:55:49.309033Z"
    }
   },
   "outputs": [],
   "source": [
    "df2 = pd.read_csv(\"/kaggle/input/drc-conflicts-19972020/conflict_data_cod.csv\")"
   ]
  },
  {
   "cell_type": "code",
   "execution_count": null,
   "metadata": {},
   "outputs": [],
   "source": [
    "df2 = pd.read_csv(\"conflict_data_cod.csv\")"
   ]
  },
  {
   "cell_type": "markdown",
   "metadata": {},
   "source": [
    "***Autres libraires utiles*** :"
   ]
  },
  {
   "cell_type": "code",
   "execution_count": 44,
   "metadata": {
    "execution": {
     "iopub.execute_input": "2021-07-28T22:06:39.311890Z",
     "iopub.status.busy": "2021-07-28T22:06:39.311319Z",
     "iopub.status.idle": "2021-07-28T22:06:48.108664Z",
     "shell.execute_reply": "2021-07-28T22:06:48.107507Z",
     "shell.execute_reply.started": "2021-07-28T22:06:39.311850Z"
    }
   },
   "outputs": [
    {
     "name": "stdout",
     "output_type": "stream",
     "text": [
      "Requirement already satisfied: plotly in /opt/conda/lib/python3.7/site-packages (5.1.0)\n",
      "Requirement already satisfied: tenacity>=6.2.0 in /opt/conda/lib/python3.7/site-packages (from plotly) (7.0.0)\n",
      "Requirement already satisfied: six in /opt/conda/lib/python3.7/site-packages (from plotly) (1.15.0)\n",
      "\u001b[33mWARNING: Running pip as root will break packages and permissions. You should install packages reliably by using venv: https://pip.pypa.io/warnings/venv\u001b[0m\n"
     ]
    }
   ],
   "source": [
    "!pip install plotly"
   ]
  },
  {
   "cell_type": "code",
   "execution_count": 47,
   "metadata": {
    "execution": {
     "iopub.execute_input": "2021-07-28T22:08:30.143799Z",
     "iopub.status.busy": "2021-07-28T22:08:30.143393Z",
     "iopub.status.idle": "2021-07-28T22:08:30.148290Z",
     "shell.execute_reply": "2021-07-28T22:08:30.147559Z",
     "shell.execute_reply.started": "2021-07-28T22:08:30.143767Z"
    }
   },
   "outputs": [],
   "source": [
    "import matplotlib.pyplot as plt\n",
    "import seaborn as sns\n",
    "import folium as flm\n",
    "import plotly as pty"
   ]
  },
  {
   "cell_type": "markdown",
   "metadata": {},
   "source": [
    "### 3.2 ) Data pré-processing"
   ]
  },
  {
   "cell_type": "markdown",
   "metadata": {},
   "source": [
    "Affichage du premier DataFrame."
   ]
  },
  {
   "cell_type": "code",
   "execution_count": 5,
   "metadata": {
    "execution": {
     "iopub.execute_input": "2021-07-28T21:55:49.604251Z",
     "iopub.status.busy": "2021-07-28T21:55:49.603964Z",
     "iopub.status.idle": "2021-07-28T21:55:49.638950Z",
     "shell.execute_reply": "2021-07-28T21:55:49.637948Z",
     "shell.execute_reply.started": "2021-07-28T21:55:49.604224Z"
    }
   },
   "outputs": [
    {
     "data": {
      "text/html": [
       "<div>\n",
       "<style scoped>\n",
       "    .dataframe tbody tr th:only-of-type {\n",
       "        vertical-align: middle;\n",
       "    }\n",
       "\n",
       "    .dataframe tbody tr th {\n",
       "        vertical-align: top;\n",
       "    }\n",
       "\n",
       "    .dataframe thead th {\n",
       "        text-align: right;\n",
       "    }\n",
       "</style>\n",
       "<table border=\"1\" class=\"dataframe\">\n",
       "  <thead>\n",
       "    <tr style=\"text-align: right;\">\n",
       "      <th></th>\n",
       "      <th>year</th>\n",
       "      <th>admin1</th>\n",
       "      <th>fatalities</th>\n",
       "    </tr>\n",
       "  </thead>\n",
       "  <tbody>\n",
       "    <tr>\n",
       "      <th>0</th>\n",
       "      <td>#date+year</td>\n",
       "      <td>#adm1+name</td>\n",
       "      <td>#affected+killed</td>\n",
       "    </tr>\n",
       "    <tr>\n",
       "      <th>1</th>\n",
       "      <td>2020</td>\n",
       "      <td>Sud-Ubangi</td>\n",
       "      <td>0</td>\n",
       "    </tr>\n",
       "    <tr>\n",
       "      <th>2</th>\n",
       "      <td>2020</td>\n",
       "      <td>Ituri</td>\n",
       "      <td>0</td>\n",
       "    </tr>\n",
       "    <tr>\n",
       "      <th>3</th>\n",
       "      <td>2020</td>\n",
       "      <td>Sud-Kivu</td>\n",
       "      <td>0</td>\n",
       "    </tr>\n",
       "    <tr>\n",
       "      <th>4</th>\n",
       "      <td>2020</td>\n",
       "      <td>Sud-Kivu</td>\n",
       "      <td>0</td>\n",
       "    </tr>\n",
       "    <tr>\n",
       "      <th>...</th>\n",
       "      <td>...</td>\n",
       "      <td>...</td>\n",
       "      <td>...</td>\n",
       "    </tr>\n",
       "    <tr>\n",
       "      <th>17413</th>\n",
       "      <td>1997</td>\n",
       "      <td>Haut-Lomami</td>\n",
       "      <td>0</td>\n",
       "    </tr>\n",
       "    <tr>\n",
       "      <th>17414</th>\n",
       "      <td>1997</td>\n",
       "      <td>Maniema</td>\n",
       "      <td>0</td>\n",
       "    </tr>\n",
       "    <tr>\n",
       "      <th>17415</th>\n",
       "      <td>1997</td>\n",
       "      <td>Tshopo</td>\n",
       "      <td>0</td>\n",
       "    </tr>\n",
       "    <tr>\n",
       "      <th>17416</th>\n",
       "      <td>1997</td>\n",
       "      <td>Tshopo</td>\n",
       "      <td>0</td>\n",
       "    </tr>\n",
       "    <tr>\n",
       "      <th>17417</th>\n",
       "      <td>1997</td>\n",
       "      <td>Maniema</td>\n",
       "      <td>0</td>\n",
       "    </tr>\n",
       "  </tbody>\n",
       "</table>\n",
       "<p>17418 rows × 3 columns</p>\n",
       "</div>"
      ],
      "text/plain": [
       "             year       admin1        fatalities\n",
       "0      #date+year   #adm1+name  #affected+killed\n",
       "1            2020   Sud-Ubangi                 0\n",
       "2            2020        Ituri                 0\n",
       "3            2020     Sud-Kivu                 0\n",
       "4            2020     Sud-Kivu                 0\n",
       "...           ...          ...               ...\n",
       "17413        1997  Haut-Lomami                 0\n",
       "17414        1997      Maniema                 0\n",
       "17415        1997       Tshopo                 0\n",
       "17416        1997       Tshopo                 0\n",
       "17417        1997      Maniema                 0\n",
       "\n",
       "[17418 rows x 3 columns]"
      ]
     },
     "execution_count": 5,
     "metadata": {},
     "output_type": "execute_result"
    }
   ],
   "source": [
    "df1"
   ]
  },
  {
   "cell_type": "markdown",
   "metadata": {},
   "source": [
    "Affichage des caractéristiques du premier DataFrame"
   ]
  },
  {
   "cell_type": "code",
   "execution_count": 6,
   "metadata": {
    "execution": {
     "iopub.execute_input": "2021-07-28T21:55:49.640527Z",
     "iopub.status.busy": "2021-07-28T21:55:49.640228Z",
     "iopub.status.idle": "2021-07-28T21:55:49.664008Z",
     "shell.execute_reply": "2021-07-28T21:55:49.662757Z",
     "shell.execute_reply.started": "2021-07-28T21:55:49.640496Z"
    }
   },
   "outputs": [
    {
     "name": "stdout",
     "output_type": "stream",
     "text": [
      "<class 'pandas.core.frame.DataFrame'>\n",
      "RangeIndex: 17418 entries, 0 to 17417\n",
      "Data columns (total 3 columns):\n",
      " #   Column      Non-Null Count  Dtype \n",
      "---  ------      --------------  ----- \n",
      " 0   year        17418 non-null  object\n",
      " 1   admin1      17418 non-null  object\n",
      " 2   fatalities  17418 non-null  object\n",
      "dtypes: object(3)\n",
      "memory usage: 408.4+ KB\n"
     ]
    }
   ],
   "source": [
    "df1.info()"
   ]
  },
  {
   "cell_type": "markdown",
   "metadata": {},
   "source": [
    "Deuxième DataFrame"
   ]
  },
  {
   "cell_type": "code",
   "execution_count": 7,
   "metadata": {
    "execution": {
     "iopub.execute_input": "2021-07-28T21:55:49.666088Z",
     "iopub.status.busy": "2021-07-28T21:55:49.665555Z",
     "iopub.status.idle": "2021-07-28T21:55:49.739458Z",
     "shell.execute_reply": "2021-07-28T21:55:49.738232Z",
     "shell.execute_reply.started": "2021-07-28T21:55:49.666037Z"
    }
   },
   "outputs": [
    {
     "data": {
      "text/html": [
       "<div>\n",
       "<style scoped>\n",
       "    .dataframe tbody tr th:only-of-type {\n",
       "        vertical-align: middle;\n",
       "    }\n",
       "\n",
       "    .dataframe tbody tr th {\n",
       "        vertical-align: top;\n",
       "    }\n",
       "\n",
       "    .dataframe thead th {\n",
       "        text-align: right;\n",
       "    }\n",
       "</style>\n",
       "<table border=\"1\" class=\"dataframe\">\n",
       "  <thead>\n",
       "    <tr style=\"text-align: right;\">\n",
       "      <th></th>\n",
       "      <th>data_id</th>\n",
       "      <th>iso</th>\n",
       "      <th>event_id_cnty</th>\n",
       "      <th>event_id_no_cnty</th>\n",
       "      <th>event_date</th>\n",
       "      <th>year</th>\n",
       "      <th>time_precision</th>\n",
       "      <th>event_type</th>\n",
       "      <th>sub_event_type</th>\n",
       "      <th>actor1</th>\n",
       "      <th>...</th>\n",
       "      <th>location</th>\n",
       "      <th>latitude</th>\n",
       "      <th>longitude</th>\n",
       "      <th>geo_precision</th>\n",
       "      <th>source</th>\n",
       "      <th>source_scale</th>\n",
       "      <th>notes</th>\n",
       "      <th>fatalities</th>\n",
       "      <th>timestamp</th>\n",
       "      <th>iso3</th>\n",
       "    </tr>\n",
       "  </thead>\n",
       "  <tbody>\n",
       "    <tr>\n",
       "      <th>0</th>\n",
       "      <td>NaN</td>\n",
       "      <td>NaN</td>\n",
       "      <td>#event+code</td>\n",
       "      <td>NaN</td>\n",
       "      <td>#date+occurred</td>\n",
       "      <td>#date+year</td>\n",
       "      <td>NaN</td>\n",
       "      <td>#event+type</td>\n",
       "      <td>NaN</td>\n",
       "      <td>#group+name+first</td>\n",
       "      <td>...</td>\n",
       "      <td>#loc+name</td>\n",
       "      <td>#geo+lat</td>\n",
       "      <td>#geo+lon</td>\n",
       "      <td>NaN</td>\n",
       "      <td>#meta+source</td>\n",
       "      <td>NaN</td>\n",
       "      <td>#description</td>\n",
       "      <td>#affected+killed</td>\n",
       "      <td>NaN</td>\n",
       "      <td>#country+code</td>\n",
       "    </tr>\n",
       "    <tr>\n",
       "      <th>1</th>\n",
       "      <td>7173389.0</td>\n",
       "      <td>180.0</td>\n",
       "      <td>DRC18042</td>\n",
       "      <td>18042.0</td>\n",
       "      <td>2020-08-01</td>\n",
       "      <td>2020</td>\n",
       "      <td>1.0</td>\n",
       "      <td>Protests</td>\n",
       "      <td>Peaceful protest</td>\n",
       "      <td>Protesters (Democratic Republic of Congo)</td>\n",
       "      <td>...</td>\n",
       "      <td>Gemena</td>\n",
       "      <td>3.2500</td>\n",
       "      <td>19.7667</td>\n",
       "      <td>1.0</td>\n",
       "      <td>Actualite</td>\n",
       "      <td>National</td>\n",
       "      <td>On 1 August 2020, members and leaders of the F...</td>\n",
       "      <td>0</td>\n",
       "      <td>1.596482e+09</td>\n",
       "      <td>COD</td>\n",
       "    </tr>\n",
       "    <tr>\n",
       "      <th>2</th>\n",
       "      <td>7173390.0</td>\n",
       "      <td>180.0</td>\n",
       "      <td>DRC18041</td>\n",
       "      <td>18041.0</td>\n",
       "      <td>2020-08-01</td>\n",
       "      <td>2020</td>\n",
       "      <td>1.0</td>\n",
       "      <td>Protests</td>\n",
       "      <td>Peaceful protest</td>\n",
       "      <td>Protesters (Democratic Republic of Congo)</td>\n",
       "      <td>...</td>\n",
       "      <td>Bunia</td>\n",
       "      <td>1.5667</td>\n",
       "      <td>30.2500</td>\n",
       "      <td>1.0</td>\n",
       "      <td>Actualite</td>\n",
       "      <td>National</td>\n",
       "      <td>On 1 August 2020, members and supporters of th...</td>\n",
       "      <td>0</td>\n",
       "      <td>1.596482e+09</td>\n",
       "      <td>COD</td>\n",
       "    </tr>\n",
       "    <tr>\n",
       "      <th>3</th>\n",
       "      <td>7173480.0</td>\n",
       "      <td>180.0</td>\n",
       "      <td>DRC18043</td>\n",
       "      <td>18043.0</td>\n",
       "      <td>2020-08-01</td>\n",
       "      <td>2020</td>\n",
       "      <td>1.0</td>\n",
       "      <td>Protests</td>\n",
       "      <td>Peaceful protest</td>\n",
       "      <td>Protesters (Democratic Republic of Congo)</td>\n",
       "      <td>...</td>\n",
       "      <td>Sange</td>\n",
       "      <td>-3.0833</td>\n",
       "      <td>29.1167</td>\n",
       "      <td>1.0</td>\n",
       "      <td>Election-Net</td>\n",
       "      <td>National</td>\n",
       "      <td>On 1 August 2020, members of the civil society...</td>\n",
       "      <td>0</td>\n",
       "      <td>1.596482e+09</td>\n",
       "      <td>COD</td>\n",
       "    </tr>\n",
       "    <tr>\n",
       "      <th>4</th>\n",
       "      <td>7173575.0</td>\n",
       "      <td>180.0</td>\n",
       "      <td>DRC18040</td>\n",
       "      <td>18040.0</td>\n",
       "      <td>2020-08-01</td>\n",
       "      <td>2020</td>\n",
       "      <td>1.0</td>\n",
       "      <td>Protests</td>\n",
       "      <td>Peaceful protest</td>\n",
       "      <td>Protesters (Democratic Republic of Congo)</td>\n",
       "      <td>...</td>\n",
       "      <td>Bukavu</td>\n",
       "      <td>-2.5000</td>\n",
       "      <td>28.8667</td>\n",
       "      <td>1.0</td>\n",
       "      <td>La Prunelle</td>\n",
       "      <td>Subnational</td>\n",
       "      <td>On 1 August 2020, tens of members of the civil...</td>\n",
       "      <td>0</td>\n",
       "      <td>1.596482e+09</td>\n",
       "      <td>COD</td>\n",
       "    </tr>\n",
       "    <tr>\n",
       "      <th>...</th>\n",
       "      <td>...</td>\n",
       "      <td>...</td>\n",
       "      <td>...</td>\n",
       "      <td>...</td>\n",
       "      <td>...</td>\n",
       "      <td>...</td>\n",
       "      <td>...</td>\n",
       "      <td>...</td>\n",
       "      <td>...</td>\n",
       "      <td>...</td>\n",
       "      <td>...</td>\n",
       "      <td>...</td>\n",
       "      <td>...</td>\n",
       "      <td>...</td>\n",
       "      <td>...</td>\n",
       "      <td>...</td>\n",
       "      <td>...</td>\n",
       "      <td>...</td>\n",
       "      <td>...</td>\n",
       "      <td>...</td>\n",
       "      <td>...</td>\n",
       "    </tr>\n",
       "    <tr>\n",
       "      <th>17413</th>\n",
       "      <td>7016366.0</td>\n",
       "      <td>180.0</td>\n",
       "      <td>DRC68</td>\n",
       "      <td>68.0</td>\n",
       "      <td>1997-03-01</td>\n",
       "      <td>1997</td>\n",
       "      <td>1.0</td>\n",
       "      <td>Battles</td>\n",
       "      <td>Non-state actor overtakes territory</td>\n",
       "      <td>ADFL: Alliance of Democratic Forces for Libera...</td>\n",
       "      <td>...</td>\n",
       "      <td>Kanamononga</td>\n",
       "      <td>-8.8116</td>\n",
       "      <td>24.5602</td>\n",
       "      <td>1.0</td>\n",
       "      <td>Africa Confidential; Africa Contemporary Record</td>\n",
       "      <td>Other-Regional</td>\n",
       "      <td>NaN</td>\n",
       "      <td>0</td>\n",
       "      <td>1.585692e+09</td>\n",
       "      <td>COD</td>\n",
       "    </tr>\n",
       "    <tr>\n",
       "      <th>17414</th>\n",
       "      <td>7016367.0</td>\n",
       "      <td>180.0</td>\n",
       "      <td>DRC69</td>\n",
       "      <td>69.0</td>\n",
       "      <td>1997-03-01</td>\n",
       "      <td>1997</td>\n",
       "      <td>1.0</td>\n",
       "      <td>Battles</td>\n",
       "      <td>Non-state actor overtakes territory</td>\n",
       "      <td>ADFL: Alliance of Democratic Forces for Libera...</td>\n",
       "      <td>...</td>\n",
       "      <td>Kindu</td>\n",
       "      <td>-2.9437</td>\n",
       "      <td>25.9224</td>\n",
       "      <td>1.0</td>\n",
       "      <td>Africa Contemporary Record; Africa Confidential</td>\n",
       "      <td>Other-Regional</td>\n",
       "      <td>NaN</td>\n",
       "      <td>0</td>\n",
       "      <td>1.585692e+09</td>\n",
       "      <td>COD</td>\n",
       "    </tr>\n",
       "    <tr>\n",
       "      <th>17415</th>\n",
       "      <td>6354326.0</td>\n",
       "      <td>180.0</td>\n",
       "      <td>DRC66</td>\n",
       "      <td>66.0</td>\n",
       "      <td>1997-02-28</td>\n",
       "      <td>1997</td>\n",
       "      <td>1.0</td>\n",
       "      <td>Strategic developments</td>\n",
       "      <td>Change to group/activity</td>\n",
       "      <td>ADFL: Alliance of Democratic Forces for Libera...</td>\n",
       "      <td>...</td>\n",
       "      <td>Kisangani</td>\n",
       "      <td>0.5147</td>\n",
       "      <td>25.1896</td>\n",
       "      <td>1.0</td>\n",
       "      <td>Local Source</td>\n",
       "      <td>Subnational</td>\n",
       "      <td>Movement of forces: Rebels nearing Kisangani n...</td>\n",
       "      <td>0</td>\n",
       "      <td>1.574110e+09</td>\n",
       "      <td>COD</td>\n",
       "    </tr>\n",
       "    <tr>\n",
       "      <th>17416</th>\n",
       "      <td>7016368.0</td>\n",
       "      <td>180.0</td>\n",
       "      <td>DRC67</td>\n",
       "      <td>67.0</td>\n",
       "      <td>1997-02-28</td>\n",
       "      <td>1997</td>\n",
       "      <td>1.0</td>\n",
       "      <td>Battles</td>\n",
       "      <td>Armed clash</td>\n",
       "      <td>ADFL: Alliance of Democratic Forces for Libera...</td>\n",
       "      <td>...</td>\n",
       "      <td>Kisangani</td>\n",
       "      <td>0.5147</td>\n",
       "      <td>25.1896</td>\n",
       "      <td>1.0</td>\n",
       "      <td>All Africa</td>\n",
       "      <td>Regional</td>\n",
       "      <td>ADLF rebels claim to have shot down Zaire arme...</td>\n",
       "      <td>0</td>\n",
       "      <td>1.585692e+09</td>\n",
       "      <td>COD</td>\n",
       "    </tr>\n",
       "    <tr>\n",
       "      <th>17417</th>\n",
       "      <td>7016369.0</td>\n",
       "      <td>180.0</td>\n",
       "      <td>DRC65</td>\n",
       "      <td>65.0</td>\n",
       "      <td>1997-02-27</td>\n",
       "      <td>1997</td>\n",
       "      <td>1.0</td>\n",
       "      <td>Battles</td>\n",
       "      <td>Non-state actor overtakes territory</td>\n",
       "      <td>ADFL: Alliance of Democratic Forces for Libera...</td>\n",
       "      <td>...</td>\n",
       "      <td>Kindu</td>\n",
       "      <td>-2.9437</td>\n",
       "      <td>25.9224</td>\n",
       "      <td>1.0</td>\n",
       "      <td>Reuters</td>\n",
       "      <td>International</td>\n",
       "      <td>ADLF rebels take control of the town of Kindu ...</td>\n",
       "      <td>0</td>\n",
       "      <td>1.585692e+09</td>\n",
       "      <td>COD</td>\n",
       "    </tr>\n",
       "  </tbody>\n",
       "</table>\n",
       "<p>17418 rows × 31 columns</p>\n",
       "</div>"
      ],
      "text/plain": [
       "         data_id    iso event_id_cnty  event_id_no_cnty      event_date  \\\n",
       "0            NaN    NaN   #event+code               NaN  #date+occurred   \n",
       "1      7173389.0  180.0      DRC18042           18042.0      2020-08-01   \n",
       "2      7173390.0  180.0      DRC18041           18041.0      2020-08-01   \n",
       "3      7173480.0  180.0      DRC18043           18043.0      2020-08-01   \n",
       "4      7173575.0  180.0      DRC18040           18040.0      2020-08-01   \n",
       "...          ...    ...           ...               ...             ...   \n",
       "17413  7016366.0  180.0         DRC68              68.0      1997-03-01   \n",
       "17414  7016367.0  180.0         DRC69              69.0      1997-03-01   \n",
       "17415  6354326.0  180.0         DRC66              66.0      1997-02-28   \n",
       "17416  7016368.0  180.0         DRC67              67.0      1997-02-28   \n",
       "17417  7016369.0  180.0         DRC65              65.0      1997-02-27   \n",
       "\n",
       "             year  time_precision              event_type  \\\n",
       "0      #date+year             NaN             #event+type   \n",
       "1            2020             1.0                Protests   \n",
       "2            2020             1.0                Protests   \n",
       "3            2020             1.0                Protests   \n",
       "4            2020             1.0                Protests   \n",
       "...           ...             ...                     ...   \n",
       "17413        1997             1.0                 Battles   \n",
       "17414        1997             1.0                 Battles   \n",
       "17415        1997             1.0  Strategic developments   \n",
       "17416        1997             1.0                 Battles   \n",
       "17417        1997             1.0                 Battles   \n",
       "\n",
       "                            sub_event_type  \\\n",
       "0                                      NaN   \n",
       "1                         Peaceful protest   \n",
       "2                         Peaceful protest   \n",
       "3                         Peaceful protest   \n",
       "4                         Peaceful protest   \n",
       "...                                    ...   \n",
       "17413  Non-state actor overtakes territory   \n",
       "17414  Non-state actor overtakes territory   \n",
       "17415             Change to group/activity   \n",
       "17416                          Armed clash   \n",
       "17417  Non-state actor overtakes territory   \n",
       "\n",
       "                                                  actor1  ...     location  \\\n",
       "0                                      #group+name+first  ...    #loc+name   \n",
       "1              Protesters (Democratic Republic of Congo)  ...       Gemena   \n",
       "2              Protesters (Democratic Republic of Congo)  ...        Bunia   \n",
       "3              Protesters (Democratic Republic of Congo)  ...        Sange   \n",
       "4              Protesters (Democratic Republic of Congo)  ...       Bukavu   \n",
       "...                                                  ...  ...          ...   \n",
       "17413  ADFL: Alliance of Democratic Forces for Libera...  ...  Kanamononga   \n",
       "17414  ADFL: Alliance of Democratic Forces for Libera...  ...        Kindu   \n",
       "17415  ADFL: Alliance of Democratic Forces for Libera...  ...    Kisangani   \n",
       "17416  ADFL: Alliance of Democratic Forces for Libera...  ...    Kisangani   \n",
       "17417  ADFL: Alliance of Democratic Forces for Libera...  ...        Kindu   \n",
       "\n",
       "       latitude longitude geo_precision  \\\n",
       "0      #geo+lat  #geo+lon           NaN   \n",
       "1        3.2500   19.7667           1.0   \n",
       "2        1.5667   30.2500           1.0   \n",
       "3       -3.0833   29.1167           1.0   \n",
       "4       -2.5000   28.8667           1.0   \n",
       "...         ...       ...           ...   \n",
       "17413   -8.8116   24.5602           1.0   \n",
       "17414   -2.9437   25.9224           1.0   \n",
       "17415    0.5147   25.1896           1.0   \n",
       "17416    0.5147   25.1896           1.0   \n",
       "17417   -2.9437   25.9224           1.0   \n",
       "\n",
       "                                                source    source_scale  \\\n",
       "0                                         #meta+source             NaN   \n",
       "1                                            Actualite        National   \n",
       "2                                            Actualite        National   \n",
       "3                                         Election-Net        National   \n",
       "4                                          La Prunelle     Subnational   \n",
       "...                                                ...             ...   \n",
       "17413  Africa Confidential; Africa Contemporary Record  Other-Regional   \n",
       "17414  Africa Contemporary Record; Africa Confidential  Other-Regional   \n",
       "17415                                     Local Source     Subnational   \n",
       "17416                                       All Africa        Regional   \n",
       "17417                                          Reuters   International   \n",
       "\n",
       "                                                   notes        fatalities  \\\n",
       "0                                           #description  #affected+killed   \n",
       "1      On 1 August 2020, members and leaders of the F...                 0   \n",
       "2      On 1 August 2020, members and supporters of th...                 0   \n",
       "3      On 1 August 2020, members of the civil society...                 0   \n",
       "4      On 1 August 2020, tens of members of the civil...                 0   \n",
       "...                                                  ...               ...   \n",
       "17413                                                NaN                 0   \n",
       "17414                                                NaN                 0   \n",
       "17415  Movement of forces: Rebels nearing Kisangani n...                 0   \n",
       "17416  ADLF rebels claim to have shot down Zaire arme...                 0   \n",
       "17417  ADLF rebels take control of the town of Kindu ...                 0   \n",
       "\n",
       "          timestamp           iso3  \n",
       "0               NaN  #country+code  \n",
       "1      1.596482e+09            COD  \n",
       "2      1.596482e+09            COD  \n",
       "3      1.596482e+09            COD  \n",
       "4      1.596482e+09            COD  \n",
       "...             ...            ...  \n",
       "17413  1.585692e+09            COD  \n",
       "17414  1.585692e+09            COD  \n",
       "17415  1.574110e+09            COD  \n",
       "17416  1.585692e+09            COD  \n",
       "17417  1.585692e+09            COD  \n",
       "\n",
       "[17418 rows x 31 columns]"
      ]
     },
     "execution_count": 7,
     "metadata": {},
     "output_type": "execute_result"
    }
   ],
   "source": [
    "df2"
   ]
  },
  {
   "cell_type": "markdown",
   "metadata": {},
   "source": [
    "Caractéristiques du deuxième DataFrame"
   ]
  },
  {
   "cell_type": "code",
   "execution_count": 8,
   "metadata": {
    "execution": {
     "iopub.execute_input": "2021-07-28T21:55:49.742667Z",
     "iopub.status.busy": "2021-07-28T21:55:49.742227Z",
     "iopub.status.idle": "2021-07-28T21:55:49.799384Z",
     "shell.execute_reply": "2021-07-28T21:55:49.798317Z",
     "shell.execute_reply.started": "2021-07-28T21:55:49.742598Z"
    }
   },
   "outputs": [
    {
     "name": "stdout",
     "output_type": "stream",
     "text": [
      "<class 'pandas.core.frame.DataFrame'>\n",
      "RangeIndex: 17418 entries, 0 to 17417\n",
      "Data columns (total 31 columns):\n",
      " #   Column            Non-Null Count  Dtype  \n",
      "---  ------            --------------  -----  \n",
      " 0   data_id           17417 non-null  float64\n",
      " 1   iso               17417 non-null  float64\n",
      " 2   event_id_cnty     17418 non-null  object \n",
      " 3   event_id_no_cnty  17417 non-null  float64\n",
      " 4   event_date        17418 non-null  object \n",
      " 5   year              17418 non-null  object \n",
      " 6   time_precision    17417 non-null  float64\n",
      " 7   event_type        17418 non-null  object \n",
      " 8   sub_event_type    17417 non-null  object \n",
      " 9   actor1            17418 non-null  object \n",
      " 10  assoc_actor_1     2862 non-null   object \n",
      " 11  inter1            17417 non-null  float64\n",
      " 12  actor2            15023 non-null  object \n",
      " 13  assoc_actor_2     2624 non-null   object \n",
      " 14  inter2            17417 non-null  float64\n",
      " 15  interaction       17417 non-null  float64\n",
      " 16  region            17418 non-null  object \n",
      " 17  country           17418 non-null  object \n",
      " 18  admin1            17418 non-null  object \n",
      " 19  admin2            17418 non-null  object \n",
      " 20  admin3            17394 non-null  object \n",
      " 21  location          17418 non-null  object \n",
      " 22  latitude          17418 non-null  object \n",
      " 23  longitude         17418 non-null  object \n",
      " 24  geo_precision     17417 non-null  float64\n",
      " 25  source            17418 non-null  object \n",
      " 26  source_scale      17417 non-null  object \n",
      " 27  notes             16880 non-null  object \n",
      " 28  fatalities        17418 non-null  object \n",
      " 29  timestamp         17417 non-null  float64\n",
      " 30  iso3              17418 non-null  object \n",
      "dtypes: float64(9), object(22)\n",
      "memory usage: 4.1+ MB\n"
     ]
    }
   ],
   "source": [
    "df2.info()"
   ]
  },
  {
   "cell_type": "markdown",
   "metadata": {},
   "source": [
    "### Explication des datasets"
   ]
  },
  {
   "cell_type": "markdown",
   "metadata": {},
   "source": [
    "Ces données contiennent des informations sur :\n",
    "\n",
    "Dates et lieux des événements de conflit \n",
    "\n",
    "Types spécifiques d'événements, y compris les batailles, les meurtres de civils, les émeutes, les manifestations et les activités de recrutement ;\n",
    "\n",
    "Des événements organisés par divers acteurs, notamment des rebelles, des gouvernements, des milices, des groupes armés, des manifestants et des civils ;\n",
    "\n",
    "Changements dans le contrôle territorial ; \n",
    "\n",
    "et Décès signalés.\n",
    "\n",
    "Les données sur les événements sont dérivées de diverses sources, notamment des rapports de pays en développement et des médias locaux, d'agences humanitaires et de publications de recherche."
   ]
  },
  {
   "cell_type": "markdown",
   "metadata": {},
   "source": [
    "***On renomme les colonnes de nos deux DataFrame afin d'avoir des colonnes beacoup plus compréhensives***"
   ]
  },
  {
   "cell_type": "code",
   "execution_count": 51,
   "metadata": {
    "execution": {
     "iopub.execute_input": "2021-07-28T22:25:14.219802Z",
     "iopub.status.busy": "2021-07-28T22:25:14.219086Z",
     "iopub.status.idle": "2021-07-28T22:25:14.225459Z",
     "shell.execute_reply": "2021-07-28T22:25:14.224592Z",
     "shell.execute_reply.started": "2021-07-28T22:25:14.219760Z"
    }
   },
   "outputs": [],
   "source": [
    "df1=df1.rename(columns={'admin1': 'localite','fatalities': 'faits'})"
   ]
  },
  {
   "cell_type": "code",
   "execution_count": 52,
   "metadata": {
    "execution": {
     "iopub.execute_input": "2021-07-28T22:25:16.847913Z",
     "iopub.status.busy": "2021-07-28T22:25:16.847162Z",
     "iopub.status.idle": "2021-07-28T22:25:16.863963Z",
     "shell.execute_reply": "2021-07-28T22:25:16.862993Z",
     "shell.execute_reply.started": "2021-07-28T22:25:16.847856Z"
    }
   },
   "outputs": [
    {
     "data": {
      "text/html": [
       "<div>\n",
       "<style scoped>\n",
       "    .dataframe tbody tr th:only-of-type {\n",
       "        vertical-align: middle;\n",
       "    }\n",
       "\n",
       "    .dataframe tbody tr th {\n",
       "        vertical-align: top;\n",
       "    }\n",
       "\n",
       "    .dataframe thead th {\n",
       "        text-align: right;\n",
       "    }\n",
       "</style>\n",
       "<table border=\"1\" class=\"dataframe\">\n",
       "  <thead>\n",
       "    <tr style=\"text-align: right;\">\n",
       "      <th></th>\n",
       "      <th>year</th>\n",
       "      <th>localite</th>\n",
       "      <th>faits</th>\n",
       "    </tr>\n",
       "  </thead>\n",
       "  <tbody>\n",
       "    <tr>\n",
       "      <th>0</th>\n",
       "      <td>#date+year</td>\n",
       "      <td>#adm1+name</td>\n",
       "      <td>#affected+killed</td>\n",
       "    </tr>\n",
       "    <tr>\n",
       "      <th>1</th>\n",
       "      <td>2020</td>\n",
       "      <td>Sud-Ubangi</td>\n",
       "      <td>0</td>\n",
       "    </tr>\n",
       "    <tr>\n",
       "      <th>2</th>\n",
       "      <td>2020</td>\n",
       "      <td>Ituri</td>\n",
       "      <td>0</td>\n",
       "    </tr>\n",
       "    <tr>\n",
       "      <th>3</th>\n",
       "      <td>2020</td>\n",
       "      <td>Sud-Kivu</td>\n",
       "      <td>0</td>\n",
       "    </tr>\n",
       "    <tr>\n",
       "      <th>4</th>\n",
       "      <td>2020</td>\n",
       "      <td>Sud-Kivu</td>\n",
       "      <td>0</td>\n",
       "    </tr>\n",
       "    <tr>\n",
       "      <th>...</th>\n",
       "      <td>...</td>\n",
       "      <td>...</td>\n",
       "      <td>...</td>\n",
       "    </tr>\n",
       "    <tr>\n",
       "      <th>17413</th>\n",
       "      <td>1997</td>\n",
       "      <td>Haut-Lomami</td>\n",
       "      <td>0</td>\n",
       "    </tr>\n",
       "    <tr>\n",
       "      <th>17414</th>\n",
       "      <td>1997</td>\n",
       "      <td>Maniema</td>\n",
       "      <td>0</td>\n",
       "    </tr>\n",
       "    <tr>\n",
       "      <th>17415</th>\n",
       "      <td>1997</td>\n",
       "      <td>Tshopo</td>\n",
       "      <td>0</td>\n",
       "    </tr>\n",
       "    <tr>\n",
       "      <th>17416</th>\n",
       "      <td>1997</td>\n",
       "      <td>Tshopo</td>\n",
       "      <td>0</td>\n",
       "    </tr>\n",
       "    <tr>\n",
       "      <th>17417</th>\n",
       "      <td>1997</td>\n",
       "      <td>Maniema</td>\n",
       "      <td>0</td>\n",
       "    </tr>\n",
       "  </tbody>\n",
       "</table>\n",
       "<p>17418 rows × 3 columns</p>\n",
       "</div>"
      ],
      "text/plain": [
       "             year     localite             faits\n",
       "0      #date+year   #adm1+name  #affected+killed\n",
       "1            2020   Sud-Ubangi                 0\n",
       "2            2020        Ituri                 0\n",
       "3            2020     Sud-Kivu                 0\n",
       "4            2020     Sud-Kivu                 0\n",
       "...           ...          ...               ...\n",
       "17413        1997  Haut-Lomami                 0\n",
       "17414        1997      Maniema                 0\n",
       "17415        1997       Tshopo                 0\n",
       "17416        1997       Tshopo                 0\n",
       "17417        1997      Maniema                 0\n",
       "\n",
       "[17418 rows x 3 columns]"
      ]
     },
     "execution_count": 52,
     "metadata": {},
     "output_type": "execute_result"
    }
   ],
   "source": [
    "df1"
   ]
  },
  {
   "cell_type": "code",
   "execution_count": 53,
   "metadata": {
    "execution": {
     "iopub.execute_input": "2021-07-28T22:25:17.123579Z",
     "iopub.status.busy": "2021-07-28T22:25:17.123061Z",
     "iopub.status.idle": "2021-07-28T22:25:17.139843Z",
     "shell.execute_reply": "2021-07-28T22:25:17.139049Z",
     "shell.execute_reply.started": "2021-07-28T22:25:17.123543Z"
    }
   },
   "outputs": [],
   "source": [
    "df2=df2.rename(columns={'admin1': 'province1','admin2':'province2','admin3':'province3','location': 'localite','fatalities': 'faits'})"
   ]
  },
  {
   "cell_type": "markdown",
   "metadata": {
    "execution": {
     "iopub.execute_input": "2021-07-28T13:21:50.415608Z",
     "iopub.status.busy": "2021-07-28T13:21:50.415201Z",
     "iopub.status.idle": "2021-07-28T13:21:50.423130Z",
     "shell.execute_reply": "2021-07-28T13:21:50.421557Z",
     "shell.execute_reply.started": "2021-07-28T13:21:50.415575Z"
    }
   },
   "source": [
    "***On supprime les premières lignes de nos 2 DataFrame (dfi Pour tout i appartenant à [1,2]***) 🤔 et on renomme nos df en df_locafaits (pour le df aux 3 colonnes) et df_more (pour le df aux plus de 3 colonnes car il ets plus détaillé) 🙂."
   ]
  },
  {
   "cell_type": "code",
   "execution_count": 54,
   "metadata": {
    "execution": {
     "iopub.execute_input": "2021-07-28T22:25:17.642798Z",
     "iopub.status.busy": "2021-07-28T22:25:17.642395Z",
     "iopub.status.idle": "2021-07-28T22:25:17.649005Z",
     "shell.execute_reply": "2021-07-28T22:25:17.647991Z",
     "shell.execute_reply.started": "2021-07-28T22:25:17.642762Z"
    }
   },
   "outputs": [],
   "source": [
    "df_locafaits = df1.drop(0)"
   ]
  },
  {
   "cell_type": "code",
   "execution_count": 55,
   "metadata": {
    "execution": {
     "iopub.execute_input": "2021-07-28T22:25:17.915374Z",
     "iopub.status.busy": "2021-07-28T22:25:17.914998Z",
     "iopub.status.idle": "2021-07-28T22:25:17.929257Z",
     "shell.execute_reply": "2021-07-28T22:25:17.928341Z",
     "shell.execute_reply.started": "2021-07-28T22:25:17.915343Z"
    }
   },
   "outputs": [
    {
     "data": {
      "text/html": [
       "<div>\n",
       "<style scoped>\n",
       "    .dataframe tbody tr th:only-of-type {\n",
       "        vertical-align: middle;\n",
       "    }\n",
       "\n",
       "    .dataframe tbody tr th {\n",
       "        vertical-align: top;\n",
       "    }\n",
       "\n",
       "    .dataframe thead th {\n",
       "        text-align: right;\n",
       "    }\n",
       "</style>\n",
       "<table border=\"1\" class=\"dataframe\">\n",
       "  <thead>\n",
       "    <tr style=\"text-align: right;\">\n",
       "      <th></th>\n",
       "      <th>year</th>\n",
       "      <th>localite</th>\n",
       "      <th>faits</th>\n",
       "    </tr>\n",
       "  </thead>\n",
       "  <tbody>\n",
       "    <tr>\n",
       "      <th>1</th>\n",
       "      <td>2020</td>\n",
       "      <td>Sud-Ubangi</td>\n",
       "      <td>0</td>\n",
       "    </tr>\n",
       "    <tr>\n",
       "      <th>2</th>\n",
       "      <td>2020</td>\n",
       "      <td>Ituri</td>\n",
       "      <td>0</td>\n",
       "    </tr>\n",
       "    <tr>\n",
       "      <th>3</th>\n",
       "      <td>2020</td>\n",
       "      <td>Sud-Kivu</td>\n",
       "      <td>0</td>\n",
       "    </tr>\n",
       "    <tr>\n",
       "      <th>4</th>\n",
       "      <td>2020</td>\n",
       "      <td>Sud-Kivu</td>\n",
       "      <td>0</td>\n",
       "    </tr>\n",
       "    <tr>\n",
       "      <th>5</th>\n",
       "      <td>2020</td>\n",
       "      <td>Nord-Kivu</td>\n",
       "      <td>0</td>\n",
       "    </tr>\n",
       "    <tr>\n",
       "      <th>...</th>\n",
       "      <td>...</td>\n",
       "      <td>...</td>\n",
       "      <td>...</td>\n",
       "    </tr>\n",
       "    <tr>\n",
       "      <th>17413</th>\n",
       "      <td>1997</td>\n",
       "      <td>Haut-Lomami</td>\n",
       "      <td>0</td>\n",
       "    </tr>\n",
       "    <tr>\n",
       "      <th>17414</th>\n",
       "      <td>1997</td>\n",
       "      <td>Maniema</td>\n",
       "      <td>0</td>\n",
       "    </tr>\n",
       "    <tr>\n",
       "      <th>17415</th>\n",
       "      <td>1997</td>\n",
       "      <td>Tshopo</td>\n",
       "      <td>0</td>\n",
       "    </tr>\n",
       "    <tr>\n",
       "      <th>17416</th>\n",
       "      <td>1997</td>\n",
       "      <td>Tshopo</td>\n",
       "      <td>0</td>\n",
       "    </tr>\n",
       "    <tr>\n",
       "      <th>17417</th>\n",
       "      <td>1997</td>\n",
       "      <td>Maniema</td>\n",
       "      <td>0</td>\n",
       "    </tr>\n",
       "  </tbody>\n",
       "</table>\n",
       "<p>17417 rows × 3 columns</p>\n",
       "</div>"
      ],
      "text/plain": [
       "       year     localite faits\n",
       "1      2020   Sud-Ubangi     0\n",
       "2      2020        Ituri     0\n",
       "3      2020     Sud-Kivu     0\n",
       "4      2020     Sud-Kivu     0\n",
       "5      2020    Nord-Kivu     0\n",
       "...     ...          ...   ...\n",
       "17413  1997  Haut-Lomami     0\n",
       "17414  1997      Maniema     0\n",
       "17415  1997       Tshopo     0\n",
       "17416  1997       Tshopo     0\n",
       "17417  1997      Maniema     0\n",
       "\n",
       "[17417 rows x 3 columns]"
      ]
     },
     "execution_count": 55,
     "metadata": {},
     "output_type": "execute_result"
    }
   ],
   "source": [
    "df_locafaits"
   ]
  },
  {
   "cell_type": "code",
   "execution_count": 56,
   "metadata": {
    "execution": {
     "iopub.execute_input": "2021-07-28T22:25:18.185938Z",
     "iopub.status.busy": "2021-07-28T22:25:18.185295Z",
     "iopub.status.idle": "2021-07-28T22:25:18.196623Z",
     "shell.execute_reply": "2021-07-28T22:25:18.195576Z",
     "shell.execute_reply.started": "2021-07-28T22:25:18.185888Z"
    }
   },
   "outputs": [],
   "source": [
    "df_more = df2.drop(0)"
   ]
  },
  {
   "cell_type": "code",
   "execution_count": 57,
   "metadata": {
    "execution": {
     "iopub.execute_input": "2021-07-28T22:25:18.430502Z",
     "iopub.status.busy": "2021-07-28T22:25:18.430123Z",
     "iopub.status.idle": "2021-07-28T22:25:18.504811Z",
     "shell.execute_reply": "2021-07-28T22:25:18.503772Z",
     "shell.execute_reply.started": "2021-07-28T22:25:18.430467Z"
    }
   },
   "outputs": [
    {
     "data": {
      "text/html": [
       "<div>\n",
       "<style scoped>\n",
       "    .dataframe tbody tr th:only-of-type {\n",
       "        vertical-align: middle;\n",
       "    }\n",
       "\n",
       "    .dataframe tbody tr th {\n",
       "        vertical-align: top;\n",
       "    }\n",
       "\n",
       "    .dataframe thead th {\n",
       "        text-align: right;\n",
       "    }\n",
       "</style>\n",
       "<table border=\"1\" class=\"dataframe\">\n",
       "  <thead>\n",
       "    <tr style=\"text-align: right;\">\n",
       "      <th></th>\n",
       "      <th>data_id</th>\n",
       "      <th>iso</th>\n",
       "      <th>event_id_cnty</th>\n",
       "      <th>event_id_no_cnty</th>\n",
       "      <th>event_date</th>\n",
       "      <th>year</th>\n",
       "      <th>time_precision</th>\n",
       "      <th>event_type</th>\n",
       "      <th>sub_event_type</th>\n",
       "      <th>actor1</th>\n",
       "      <th>...</th>\n",
       "      <th>localite</th>\n",
       "      <th>latitude</th>\n",
       "      <th>longitude</th>\n",
       "      <th>geo_precision</th>\n",
       "      <th>source</th>\n",
       "      <th>source_scale</th>\n",
       "      <th>notes</th>\n",
       "      <th>faits</th>\n",
       "      <th>timestamp</th>\n",
       "      <th>iso3</th>\n",
       "    </tr>\n",
       "  </thead>\n",
       "  <tbody>\n",
       "    <tr>\n",
       "      <th>1</th>\n",
       "      <td>7173389.0</td>\n",
       "      <td>180.0</td>\n",
       "      <td>DRC18042</td>\n",
       "      <td>18042.0</td>\n",
       "      <td>2020-08-01</td>\n",
       "      <td>2020</td>\n",
       "      <td>1.0</td>\n",
       "      <td>Protests</td>\n",
       "      <td>Peaceful protest</td>\n",
       "      <td>Protesters (Democratic Republic of Congo)</td>\n",
       "      <td>...</td>\n",
       "      <td>Gemena</td>\n",
       "      <td>3.2500</td>\n",
       "      <td>19.7667</td>\n",
       "      <td>1.0</td>\n",
       "      <td>Actualite</td>\n",
       "      <td>National</td>\n",
       "      <td>On 1 August 2020, members and leaders of the F...</td>\n",
       "      <td>0</td>\n",
       "      <td>1.596482e+09</td>\n",
       "      <td>COD</td>\n",
       "    </tr>\n",
       "    <tr>\n",
       "      <th>2</th>\n",
       "      <td>7173390.0</td>\n",
       "      <td>180.0</td>\n",
       "      <td>DRC18041</td>\n",
       "      <td>18041.0</td>\n",
       "      <td>2020-08-01</td>\n",
       "      <td>2020</td>\n",
       "      <td>1.0</td>\n",
       "      <td>Protests</td>\n",
       "      <td>Peaceful protest</td>\n",
       "      <td>Protesters (Democratic Republic of Congo)</td>\n",
       "      <td>...</td>\n",
       "      <td>Bunia</td>\n",
       "      <td>1.5667</td>\n",
       "      <td>30.2500</td>\n",
       "      <td>1.0</td>\n",
       "      <td>Actualite</td>\n",
       "      <td>National</td>\n",
       "      <td>On 1 August 2020, members and supporters of th...</td>\n",
       "      <td>0</td>\n",
       "      <td>1.596482e+09</td>\n",
       "      <td>COD</td>\n",
       "    </tr>\n",
       "    <tr>\n",
       "      <th>3</th>\n",
       "      <td>7173480.0</td>\n",
       "      <td>180.0</td>\n",
       "      <td>DRC18043</td>\n",
       "      <td>18043.0</td>\n",
       "      <td>2020-08-01</td>\n",
       "      <td>2020</td>\n",
       "      <td>1.0</td>\n",
       "      <td>Protests</td>\n",
       "      <td>Peaceful protest</td>\n",
       "      <td>Protesters (Democratic Republic of Congo)</td>\n",
       "      <td>...</td>\n",
       "      <td>Sange</td>\n",
       "      <td>-3.0833</td>\n",
       "      <td>29.1167</td>\n",
       "      <td>1.0</td>\n",
       "      <td>Election-Net</td>\n",
       "      <td>National</td>\n",
       "      <td>On 1 August 2020, members of the civil society...</td>\n",
       "      <td>0</td>\n",
       "      <td>1.596482e+09</td>\n",
       "      <td>COD</td>\n",
       "    </tr>\n",
       "    <tr>\n",
       "      <th>4</th>\n",
       "      <td>7173575.0</td>\n",
       "      <td>180.0</td>\n",
       "      <td>DRC18040</td>\n",
       "      <td>18040.0</td>\n",
       "      <td>2020-08-01</td>\n",
       "      <td>2020</td>\n",
       "      <td>1.0</td>\n",
       "      <td>Protests</td>\n",
       "      <td>Peaceful protest</td>\n",
       "      <td>Protesters (Democratic Republic of Congo)</td>\n",
       "      <td>...</td>\n",
       "      <td>Bukavu</td>\n",
       "      <td>-2.5000</td>\n",
       "      <td>28.8667</td>\n",
       "      <td>1.0</td>\n",
       "      <td>La Prunelle</td>\n",
       "      <td>Subnational</td>\n",
       "      <td>On 1 August 2020, tens of members of the civil...</td>\n",
       "      <td>0</td>\n",
       "      <td>1.596482e+09</td>\n",
       "      <td>COD</td>\n",
       "    </tr>\n",
       "    <tr>\n",
       "      <th>5</th>\n",
       "      <td>7173384.0</td>\n",
       "      <td>180.0</td>\n",
       "      <td>DRC18032</td>\n",
       "      <td>18032.0</td>\n",
       "      <td>2020-07-31</td>\n",
       "      <td>2020</td>\n",
       "      <td>1.0</td>\n",
       "      <td>Battles</td>\n",
       "      <td>Armed clash</td>\n",
       "      <td>Unidentified Armed Group (Democratic Republic ...</td>\n",
       "      <td>...</td>\n",
       "      <td>Butembo</td>\n",
       "      <td>0.1420</td>\n",
       "      <td>29.2910</td>\n",
       "      <td>2.0</td>\n",
       "      <td>7 Sur 7</td>\n",
       "      <td>National</td>\n",
       "      <td>On 31 July 2020, unidentified militia rebels c...</td>\n",
       "      <td>0</td>\n",
       "      <td>1.596482e+09</td>\n",
       "      <td>COD</td>\n",
       "    </tr>\n",
       "    <tr>\n",
       "      <th>...</th>\n",
       "      <td>...</td>\n",
       "      <td>...</td>\n",
       "      <td>...</td>\n",
       "      <td>...</td>\n",
       "      <td>...</td>\n",
       "      <td>...</td>\n",
       "      <td>...</td>\n",
       "      <td>...</td>\n",
       "      <td>...</td>\n",
       "      <td>...</td>\n",
       "      <td>...</td>\n",
       "      <td>...</td>\n",
       "      <td>...</td>\n",
       "      <td>...</td>\n",
       "      <td>...</td>\n",
       "      <td>...</td>\n",
       "      <td>...</td>\n",
       "      <td>...</td>\n",
       "      <td>...</td>\n",
       "      <td>...</td>\n",
       "      <td>...</td>\n",
       "    </tr>\n",
       "    <tr>\n",
       "      <th>17413</th>\n",
       "      <td>7016366.0</td>\n",
       "      <td>180.0</td>\n",
       "      <td>DRC68</td>\n",
       "      <td>68.0</td>\n",
       "      <td>1997-03-01</td>\n",
       "      <td>1997</td>\n",
       "      <td>1.0</td>\n",
       "      <td>Battles</td>\n",
       "      <td>Non-state actor overtakes territory</td>\n",
       "      <td>ADFL: Alliance of Democratic Forces for Libera...</td>\n",
       "      <td>...</td>\n",
       "      <td>Kanamononga</td>\n",
       "      <td>-8.8116</td>\n",
       "      <td>24.5602</td>\n",
       "      <td>1.0</td>\n",
       "      <td>Africa Confidential; Africa Contemporary Record</td>\n",
       "      <td>Other-Regional</td>\n",
       "      <td>NaN</td>\n",
       "      <td>0</td>\n",
       "      <td>1.585692e+09</td>\n",
       "      <td>COD</td>\n",
       "    </tr>\n",
       "    <tr>\n",
       "      <th>17414</th>\n",
       "      <td>7016367.0</td>\n",
       "      <td>180.0</td>\n",
       "      <td>DRC69</td>\n",
       "      <td>69.0</td>\n",
       "      <td>1997-03-01</td>\n",
       "      <td>1997</td>\n",
       "      <td>1.0</td>\n",
       "      <td>Battles</td>\n",
       "      <td>Non-state actor overtakes territory</td>\n",
       "      <td>ADFL: Alliance of Democratic Forces for Libera...</td>\n",
       "      <td>...</td>\n",
       "      <td>Kindu</td>\n",
       "      <td>-2.9437</td>\n",
       "      <td>25.9224</td>\n",
       "      <td>1.0</td>\n",
       "      <td>Africa Contemporary Record; Africa Confidential</td>\n",
       "      <td>Other-Regional</td>\n",
       "      <td>NaN</td>\n",
       "      <td>0</td>\n",
       "      <td>1.585692e+09</td>\n",
       "      <td>COD</td>\n",
       "    </tr>\n",
       "    <tr>\n",
       "      <th>17415</th>\n",
       "      <td>6354326.0</td>\n",
       "      <td>180.0</td>\n",
       "      <td>DRC66</td>\n",
       "      <td>66.0</td>\n",
       "      <td>1997-02-28</td>\n",
       "      <td>1997</td>\n",
       "      <td>1.0</td>\n",
       "      <td>Strategic developments</td>\n",
       "      <td>Change to group/activity</td>\n",
       "      <td>ADFL: Alliance of Democratic Forces for Libera...</td>\n",
       "      <td>...</td>\n",
       "      <td>Kisangani</td>\n",
       "      <td>0.5147</td>\n",
       "      <td>25.1896</td>\n",
       "      <td>1.0</td>\n",
       "      <td>Local Source</td>\n",
       "      <td>Subnational</td>\n",
       "      <td>Movement of forces: Rebels nearing Kisangani n...</td>\n",
       "      <td>0</td>\n",
       "      <td>1.574110e+09</td>\n",
       "      <td>COD</td>\n",
       "    </tr>\n",
       "    <tr>\n",
       "      <th>17416</th>\n",
       "      <td>7016368.0</td>\n",
       "      <td>180.0</td>\n",
       "      <td>DRC67</td>\n",
       "      <td>67.0</td>\n",
       "      <td>1997-02-28</td>\n",
       "      <td>1997</td>\n",
       "      <td>1.0</td>\n",
       "      <td>Battles</td>\n",
       "      <td>Armed clash</td>\n",
       "      <td>ADFL: Alliance of Democratic Forces for Libera...</td>\n",
       "      <td>...</td>\n",
       "      <td>Kisangani</td>\n",
       "      <td>0.5147</td>\n",
       "      <td>25.1896</td>\n",
       "      <td>1.0</td>\n",
       "      <td>All Africa</td>\n",
       "      <td>Regional</td>\n",
       "      <td>ADLF rebels claim to have shot down Zaire arme...</td>\n",
       "      <td>0</td>\n",
       "      <td>1.585692e+09</td>\n",
       "      <td>COD</td>\n",
       "    </tr>\n",
       "    <tr>\n",
       "      <th>17417</th>\n",
       "      <td>7016369.0</td>\n",
       "      <td>180.0</td>\n",
       "      <td>DRC65</td>\n",
       "      <td>65.0</td>\n",
       "      <td>1997-02-27</td>\n",
       "      <td>1997</td>\n",
       "      <td>1.0</td>\n",
       "      <td>Battles</td>\n",
       "      <td>Non-state actor overtakes territory</td>\n",
       "      <td>ADFL: Alliance of Democratic Forces for Libera...</td>\n",
       "      <td>...</td>\n",
       "      <td>Kindu</td>\n",
       "      <td>-2.9437</td>\n",
       "      <td>25.9224</td>\n",
       "      <td>1.0</td>\n",
       "      <td>Reuters</td>\n",
       "      <td>International</td>\n",
       "      <td>ADLF rebels take control of the town of Kindu ...</td>\n",
       "      <td>0</td>\n",
       "      <td>1.585692e+09</td>\n",
       "      <td>COD</td>\n",
       "    </tr>\n",
       "  </tbody>\n",
       "</table>\n",
       "<p>17417 rows × 31 columns</p>\n",
       "</div>"
      ],
      "text/plain": [
       "         data_id    iso event_id_cnty  event_id_no_cnty  event_date  year  \\\n",
       "1      7173389.0  180.0      DRC18042           18042.0  2020-08-01  2020   \n",
       "2      7173390.0  180.0      DRC18041           18041.0  2020-08-01  2020   \n",
       "3      7173480.0  180.0      DRC18043           18043.0  2020-08-01  2020   \n",
       "4      7173575.0  180.0      DRC18040           18040.0  2020-08-01  2020   \n",
       "5      7173384.0  180.0      DRC18032           18032.0  2020-07-31  2020   \n",
       "...          ...    ...           ...               ...         ...   ...   \n",
       "17413  7016366.0  180.0         DRC68              68.0  1997-03-01  1997   \n",
       "17414  7016367.0  180.0         DRC69              69.0  1997-03-01  1997   \n",
       "17415  6354326.0  180.0         DRC66              66.0  1997-02-28  1997   \n",
       "17416  7016368.0  180.0         DRC67              67.0  1997-02-28  1997   \n",
       "17417  7016369.0  180.0         DRC65              65.0  1997-02-27  1997   \n",
       "\n",
       "       time_precision              event_type  \\\n",
       "1                 1.0                Protests   \n",
       "2                 1.0                Protests   \n",
       "3                 1.0                Protests   \n",
       "4                 1.0                Protests   \n",
       "5                 1.0                 Battles   \n",
       "...               ...                     ...   \n",
       "17413             1.0                 Battles   \n",
       "17414             1.0                 Battles   \n",
       "17415             1.0  Strategic developments   \n",
       "17416             1.0                 Battles   \n",
       "17417             1.0                 Battles   \n",
       "\n",
       "                            sub_event_type  \\\n",
       "1                         Peaceful protest   \n",
       "2                         Peaceful protest   \n",
       "3                         Peaceful protest   \n",
       "4                         Peaceful protest   \n",
       "5                              Armed clash   \n",
       "...                                    ...   \n",
       "17413  Non-state actor overtakes territory   \n",
       "17414  Non-state actor overtakes territory   \n",
       "17415             Change to group/activity   \n",
       "17416                          Armed clash   \n",
       "17417  Non-state actor overtakes territory   \n",
       "\n",
       "                                                  actor1  ...     localite  \\\n",
       "1              Protesters (Democratic Republic of Congo)  ...       Gemena   \n",
       "2              Protesters (Democratic Republic of Congo)  ...        Bunia   \n",
       "3              Protesters (Democratic Republic of Congo)  ...        Sange   \n",
       "4              Protesters (Democratic Republic of Congo)  ...       Bukavu   \n",
       "5      Unidentified Armed Group (Democratic Republic ...  ...      Butembo   \n",
       "...                                                  ...  ...          ...   \n",
       "17413  ADFL: Alliance of Democratic Forces for Libera...  ...  Kanamononga   \n",
       "17414  ADFL: Alliance of Democratic Forces for Libera...  ...        Kindu   \n",
       "17415  ADFL: Alliance of Democratic Forces for Libera...  ...    Kisangani   \n",
       "17416  ADFL: Alliance of Democratic Forces for Libera...  ...    Kisangani   \n",
       "17417  ADFL: Alliance of Democratic Forces for Libera...  ...        Kindu   \n",
       "\n",
       "       latitude longitude geo_precision  \\\n",
       "1        3.2500   19.7667           1.0   \n",
       "2        1.5667   30.2500           1.0   \n",
       "3       -3.0833   29.1167           1.0   \n",
       "4       -2.5000   28.8667           1.0   \n",
       "5        0.1420   29.2910           2.0   \n",
       "...         ...       ...           ...   \n",
       "17413   -8.8116   24.5602           1.0   \n",
       "17414   -2.9437   25.9224           1.0   \n",
       "17415    0.5147   25.1896           1.0   \n",
       "17416    0.5147   25.1896           1.0   \n",
       "17417   -2.9437   25.9224           1.0   \n",
       "\n",
       "                                                source    source_scale  \\\n",
       "1                                            Actualite        National   \n",
       "2                                            Actualite        National   \n",
       "3                                         Election-Net        National   \n",
       "4                                          La Prunelle     Subnational   \n",
       "5                                              7 Sur 7        National   \n",
       "...                                                ...             ...   \n",
       "17413  Africa Confidential; Africa Contemporary Record  Other-Regional   \n",
       "17414  Africa Contemporary Record; Africa Confidential  Other-Regional   \n",
       "17415                                     Local Source     Subnational   \n",
       "17416                                       All Africa        Regional   \n",
       "17417                                          Reuters   International   \n",
       "\n",
       "                                                   notes faits     timestamp  \\\n",
       "1      On 1 August 2020, members and leaders of the F...     0  1.596482e+09   \n",
       "2      On 1 August 2020, members and supporters of th...     0  1.596482e+09   \n",
       "3      On 1 August 2020, members of the civil society...     0  1.596482e+09   \n",
       "4      On 1 August 2020, tens of members of the civil...     0  1.596482e+09   \n",
       "5      On 31 July 2020, unidentified militia rebels c...     0  1.596482e+09   \n",
       "...                                                  ...   ...           ...   \n",
       "17413                                                NaN     0  1.585692e+09   \n",
       "17414                                                NaN     0  1.585692e+09   \n",
       "17415  Movement of forces: Rebels nearing Kisangani n...     0  1.574110e+09   \n",
       "17416  ADLF rebels claim to have shot down Zaire arme...     0  1.585692e+09   \n",
       "17417  ADLF rebels take control of the town of Kindu ...     0  1.585692e+09   \n",
       "\n",
       "      iso3  \n",
       "1      COD  \n",
       "2      COD  \n",
       "3      COD  \n",
       "4      COD  \n",
       "5      COD  \n",
       "...    ...  \n",
       "17413  COD  \n",
       "17414  COD  \n",
       "17415  COD  \n",
       "17416  COD  \n",
       "17417  COD  \n",
       "\n",
       "[17417 rows x 31 columns]"
      ]
     },
     "execution_count": 57,
     "metadata": {},
     "output_type": "execute_result"
    }
   ],
   "source": [
    "df_more"
   ]
  },
  {
   "cell_type": "markdown",
   "metadata": {},
   "source": [
    "***On constate que certaines variables sont qualitatives (ou nominale) pour se faire nous voulons évaluer si c'est possible d'envisager une certaine catégorisation en raison d'un nombre minime de valeurs.***"
   ]
  },
  {
   "cell_type": "code",
   "execution_count": 58,
   "metadata": {
    "execution": {
     "iopub.execute_input": "2021-07-28T22:25:19.159702Z",
     "iopub.status.busy": "2021-07-28T22:25:19.159290Z",
     "iopub.status.idle": "2021-07-28T22:25:19.171829Z",
     "shell.execute_reply": "2021-07-28T22:25:19.170710Z",
     "shell.execute_reply.started": "2021-07-28T22:25:19.159664Z"
    }
   },
   "outputs": [
    {
     "data": {
      "text/plain": [
       "'26 provinces'"
      ]
     },
     "execution_count": 58,
     "metadata": {},
     "output_type": "execute_result"
    }
   ],
   "source": [
    "str(len(df_locafaits.localite.value_counts()))+' provinces'"
   ]
  },
  {
   "cell_type": "markdown",
   "metadata": {},
   "source": [
    "26 ? ça fait beaucoup pour être catégoriser sauf si l'on se tiennent à une convention administrative pour les catégoriser suivant une transformation de type OrdinalEncoder."
   ]
  },
  {
   "cell_type": "code",
   "execution_count": 59,
   "metadata": {
    "execution": {
     "iopub.execute_input": "2021-07-28T22:25:19.669093Z",
     "iopub.status.busy": "2021-07-28T22:25:19.668709Z",
     "iopub.status.idle": "2021-07-28T22:25:19.683369Z",
     "shell.execute_reply": "2021-07-28T22:25:19.682056Z",
     "shell.execute_reply.started": "2021-07-28T22:25:19.669056Z"
    }
   },
   "outputs": [
    {
     "data": {
      "text/plain": [
       "Nord-Kivu         6506\n",
       "Sud-Kivu          3106\n",
       "Ituri             2087\n",
       "Haut-Uele          933\n",
       "Kinshasa           741\n",
       "Haut-Katanga       609\n",
       "Tanganyika         585\n",
       "Tshopo             375\n",
       "Bas-Uele           331\n",
       "Maniema            307\n",
       "Kasai-Central      289\n",
       "Kongo-Central      206\n",
       "Kasai-Oriental     175\n",
       "Sud-Ubangi         162\n",
       "Kasai              139\n",
       "Equateur           138\n",
       "Lomami             120\n",
       "Haut-Lomami        100\n",
       "Tshuapa             93\n",
       "Sankuru             89\n",
       "Kwilu               88\n",
       "Lualaba             67\n",
       "Nord-Ubangi         65\n",
       "Mai-Ndombe          50\n",
       "Mongala             36\n",
       "Kwango              20\n",
       "Name: localite, dtype: int64"
      ]
     },
     "execution_count": 59,
     "metadata": {},
     "output_type": "execute_result"
    }
   ],
   "source": [
    "df_locafaits.localite.value_counts()"
   ]
  },
  {
   "cell_type": "markdown",
   "metadata": {},
   "source": [
    "Nous pouvons observer, textuellement, de façon décroissante, les provinces les plus affectés par les manifestations politiques en RDC."
   ]
  },
  {
   "cell_type": "code",
   "execution_count": 60,
   "metadata": {
    "execution": {
     "iopub.execute_input": "2021-07-28T22:25:19.951283Z",
     "iopub.status.busy": "2021-07-28T22:25:19.950924Z",
     "iopub.status.idle": "2021-07-28T22:25:19.960667Z",
     "shell.execute_reply": "2021-07-28T22:25:19.959693Z",
     "shell.execute_reply.started": "2021-07-28T22:25:19.951251Z"
    }
   },
   "outputs": [
    {
     "data": {
      "text/plain": [
       "array(['Sud-Ubangi', 'Ituri', 'Sud-Kivu', 'Nord-Kivu', 'Kongo-Central',\n",
       "       'Tanganyika', 'Haut-Uele', 'Tshopo', 'Maniema', 'Kinshasa',\n",
       "       'Lomami', 'Kasai-Central', 'Lualaba', 'Sankuru', 'Bas-Uele',\n",
       "       'Kasai-Oriental', 'Kwilu', 'Haut-Katanga', 'Kasai', 'Nord-Ubangi',\n",
       "       'Haut-Lomami', 'Equateur', 'Mongala', 'Mai-Ndombe', 'Tshuapa',\n",
       "       'Kwango'], dtype=object)"
      ]
     },
     "execution_count": 60,
     "metadata": {},
     "output_type": "execute_result"
    }
   ],
   "source": [
    "df_locafaits.localite.unique()"
   ]
  },
  {
   "cell_type": "markdown",
   "metadata": {},
   "source": [
    "ci-haut, il s'agit juste d'une autre façon d'afficher les localités (provinces)."
   ]
  },
  {
   "cell_type": "code",
   "execution_count": 61,
   "metadata": {
    "execution": {
     "iopub.execute_input": "2021-07-28T22:25:20.477562Z",
     "iopub.status.busy": "2021-07-28T22:25:20.477165Z",
     "iopub.status.idle": "2021-07-28T22:25:20.486361Z",
     "shell.execute_reply": "2021-07-28T22:25:20.485611Z",
     "shell.execute_reply.started": "2021-07-28T22:25:20.477527Z"
    }
   },
   "outputs": [
    {
     "data": {
      "text/plain": [
       "'26 provinces'"
      ]
     },
     "execution_count": 61,
     "metadata": {},
     "output_type": "execute_result"
    }
   ],
   "source": [
    "str(len(df_locafaits.localite.unique())) + ' provinces'"
   ]
  },
  {
   "cell_type": "markdown",
   "metadata": {},
   "source": [
    "Ci-haut, encore une autre façon de découvrire le nombre de provinces."
   ]
  },
  {
   "cell_type": "markdown",
   "metadata": {
    "execution": {
     "iopub.execute_input": "2021-07-28T13:37:02.351499Z",
     "iopub.status.busy": "2021-07-28T13:37:02.351091Z",
     "iopub.status.idle": "2021-07-28T13:37:02.358969Z",
     "shell.execute_reply": "2021-07-28T13:37:02.357503Z",
     "shell.execute_reply.started": "2021-07-28T13:37:02.351464Z"
    }
   },
   "source": [
    "***Maintenons que nous avons obtenu une structure qui rend nos DF facile à comprendre, nous allons manipuler le typage des variables (qui sont les colonnes). et revoir l'échelle de nos données.***"
   ]
  },
  {
   "cell_type": "markdown",
   "metadata": {},
   "source": [
    "### Changement des types"
   ]
  },
  {
   "cell_type": "code",
   "execution_count": 62,
   "metadata": {
    "execution": {
     "iopub.execute_input": "2021-07-28T22:25:21.584743Z",
     "iopub.status.busy": "2021-07-28T22:25:21.583898Z",
     "iopub.status.idle": "2021-07-28T22:25:21.609246Z",
     "shell.execute_reply": "2021-07-28T22:25:21.608118Z",
     "shell.execute_reply.started": "2021-07-28T22:25:21.584677Z"
    }
   },
   "outputs": [
    {
     "name": "stdout",
     "output_type": "stream",
     "text": [
      "<class 'pandas.core.frame.DataFrame'>\n",
      "Int64Index: 17417 entries, 1 to 17417\n",
      "Data columns (total 3 columns):\n",
      " #   Column    Non-Null Count  Dtype \n",
      "---  ------    --------------  ----- \n",
      " 0   year      17417 non-null  object\n",
      " 1   localite  17417 non-null  object\n",
      " 2   faits     17417 non-null  object\n",
      "dtypes: object(3)\n",
      "memory usage: 544.3+ KB\n"
     ]
    }
   ],
   "source": [
    "df_locafaits.info()"
   ]
  },
  {
   "cell_type": "markdown",
   "metadata": {},
   "source": [
    "Pour le premier DF (df_locadfaits) nous observons une même échelle(aucune valeur nulle) de nos données, des noms de colonnes compréhensives sauf que la colonnes des faits renseignes le nombres de faits (décès, etc.) ayant eu lieu. chaque nombre est un individu, nous allons alors convertir cette colonne en entier."
   ]
  },
  {
   "cell_type": "code",
   "execution_count": 63,
   "metadata": {
    "execution": {
     "iopub.execute_input": "2021-07-28T22:25:22.395699Z",
     "iopub.status.busy": "2021-07-28T22:25:22.395155Z",
     "iopub.status.idle": "2021-07-28T22:25:22.403697Z",
     "shell.execute_reply": "2021-07-28T22:25:22.402617Z",
     "shell.execute_reply.started": "2021-07-28T22:25:22.395660Z"
    }
   },
   "outputs": [],
   "source": [
    "df_locafaits.faits = df_locafaits.faits.astype(\"int\")"
   ]
  },
  {
   "cell_type": "code",
   "execution_count": 64,
   "metadata": {
    "execution": {
     "iopub.execute_input": "2021-07-28T22:25:22.671663Z",
     "iopub.status.busy": "2021-07-28T22:25:22.671279Z",
     "iopub.status.idle": "2021-07-28T22:25:22.689223Z",
     "shell.execute_reply": "2021-07-28T22:25:22.688299Z",
     "shell.execute_reply.started": "2021-07-28T22:25:22.671619Z"
    }
   },
   "outputs": [
    {
     "name": "stdout",
     "output_type": "stream",
     "text": [
      "<class 'pandas.core.frame.DataFrame'>\n",
      "Int64Index: 17417 entries, 1 to 17417\n",
      "Data columns (total 3 columns):\n",
      " #   Column    Non-Null Count  Dtype \n",
      "---  ------    --------------  ----- \n",
      " 0   year      17417 non-null  object\n",
      " 1   localite  17417 non-null  object\n",
      " 2   faits     17417 non-null  int64 \n",
      "dtypes: int64(1), object(2)\n",
      "memory usage: 544.3+ KB\n"
     ]
    }
   ],
   "source": [
    "df_locafaits.info()"
   ]
  },
  {
   "cell_type": "markdown",
   "metadata": {},
   "source": [
    "Nous allons procéder de la même façon pour notre deuxième DF."
   ]
  },
  {
   "cell_type": "code",
   "execution_count": 65,
   "metadata": {
    "execution": {
     "iopub.execute_input": "2021-07-28T22:25:23.189885Z",
     "iopub.status.busy": "2021-07-28T22:25:23.189348Z",
     "iopub.status.idle": "2021-07-28T22:25:23.243105Z",
     "shell.execute_reply": "2021-07-28T22:25:23.241942Z",
     "shell.execute_reply.started": "2021-07-28T22:25:23.189850Z"
    }
   },
   "outputs": [
    {
     "name": "stdout",
     "output_type": "stream",
     "text": [
      "<class 'pandas.core.frame.DataFrame'>\n",
      "Int64Index: 17417 entries, 1 to 17417\n",
      "Data columns (total 31 columns):\n",
      " #   Column            Non-Null Count  Dtype  \n",
      "---  ------            --------------  -----  \n",
      " 0   data_id           17417 non-null  float64\n",
      " 1   iso               17417 non-null  float64\n",
      " 2   event_id_cnty     17417 non-null  object \n",
      " 3   event_id_no_cnty  17417 non-null  float64\n",
      " 4   event_date        17417 non-null  object \n",
      " 5   year              17417 non-null  object \n",
      " 6   time_precision    17417 non-null  float64\n",
      " 7   event_type        17417 non-null  object \n",
      " 8   sub_event_type    17417 non-null  object \n",
      " 9   actor1            17417 non-null  object \n",
      " 10  assoc_actor_1     2861 non-null   object \n",
      " 11  inter1            17417 non-null  float64\n",
      " 12  actor2            15022 non-null  object \n",
      " 13  assoc_actor_2     2623 non-null   object \n",
      " 14  inter2            17417 non-null  float64\n",
      " 15  interaction       17417 non-null  float64\n",
      " 16  region            17417 non-null  object \n",
      " 17  country           17417 non-null  object \n",
      " 18  province1         17417 non-null  object \n",
      " 19  province2         17417 non-null  object \n",
      " 20  province3         17393 non-null  object \n",
      " 21  localite          17417 non-null  object \n",
      " 22  latitude          17417 non-null  object \n",
      " 23  longitude         17417 non-null  object \n",
      " 24  geo_precision     17417 non-null  float64\n",
      " 25  source            17417 non-null  object \n",
      " 26  source_scale      17417 non-null  object \n",
      " 27  notes             16879 non-null  object \n",
      " 28  faits             17417 non-null  object \n",
      " 29  timestamp         17417 non-null  float64\n",
      " 30  iso3              17417 non-null  object \n",
      "dtypes: float64(9), object(22)\n",
      "memory usage: 4.3+ MB\n"
     ]
    }
   ],
   "source": [
    "df_more.info()"
   ]
  },
  {
   "cell_type": "markdown",
   "metadata": {},
   "source": [
    "ici on constate que nous avons un problème d'échelle, de typage."
   ]
  },
  {
   "cell_type": "markdown",
   "metadata": {
    "execution": {
     "iopub.execute_input": "2021-07-28T13:45:04.435602Z",
     "iopub.status.busy": "2021-07-28T13:45:04.435145Z",
     "iopub.status.idle": "2021-07-28T13:45:04.443035Z",
     "shell.execute_reply": "2021-07-28T13:45:04.441539Z",
     "shell.execute_reply.started": "2021-07-28T13:45:04.435565Z"
    }
   },
   "source": [
    "***Commençons par décider ce que nous devons supprimer et ce que nous devons garder : ici nous n'énumerrons que ce que nous devons supprimer et expliqueront en bref pourquoi nous aurons garder le reste***"
   ]
  },
  {
   "cell_type": "markdown",
   "metadata": {
    "execution": {
     "iopub.execute_input": "2021-07-28T13:46:01.192729Z",
     "iopub.status.busy": "2021-07-28T13:46:01.192291Z",
     "iopub.status.idle": "2021-07-28T13:46:01.199378Z",
     "shell.execute_reply": "2021-07-28T13:46:01.198014Z",
     "shell.execute_reply.started": "2021-07-28T13:46:01.192696Z"
    }
   },
   "source": [
    "***- Nous devons supprimer :***"
   ]
  },
  {
   "cell_type": "markdown",
   "metadata": {},
   "source": [
    "> - La data_id : l'index joue déjà mieux ce rôle\n",
    "> - event_id-cnty : l'index joue déjà mieux ce rôle\n",
    "> - iso : il s'agit de la norme iso 180 qui ne fait que se répéter, cela ne fera que favoriser du sur apprentissage inutile.\n",
    "> - geo_precision : elle varie entre 1 et 3 en passant par 2 par conséquent elle ne nous renseigne pas sur grand chose\n",
    "> - time_precision : idem que le précédent, pas assez informatif\n",
    "> - interraction : on va le supprimer par erreur puis le remettre...pour raison pédagogique🙃!!!!\n",
    "> - region : Toutes ces manifs ont lieu en Afrique centrale, à quoi bon le répeter ?\n",
    "> - country : Toutes ces manifs ont lieu en République Démocratique du Congo donc, pas trop important non plus\n",
    "> - notes : Les notes ce sont les observations des sources (media), ls témoignages et autres informations\n",
    "> - iso3 : Il s'agit du Code de la RDC au format iso3 COD.  \n",
    "> - inter1 : moins significatif\n",
    "> - inter2 : moins significatif"
   ]
  },
  {
   "cell_type": "markdown",
   "metadata": {
    "execution": {
     "iopub.execute_input": "2021-07-28T13:52:54.122559Z",
     "iopub.status.busy": "2021-07-28T13:52:54.122037Z",
     "iopub.status.idle": "2021-07-28T13:52:54.129706Z",
     "shell.execute_reply": "2021-07-28T13:52:54.127813Z",
     "shell.execute_reply.started": "2021-07-28T13:52:54.122510Z"
    }
   },
   "source": [
    "***- Nous devons garder :***"
   ]
  },
  {
   "cell_type": "markdown",
   "metadata": {},
   "source": [
    "> - event_id_no_cnty : L'ordre d'apparition des manifestations, il peut y  avoir 3 eventment le même jour\n",
    "> - event_date       : La date de la manif\n",
    "> - year             : L'année de la manif\n",
    "> - event_type       : Le type de manifestastion\n",
    "> - sub_event_type   : Le sous type d'évenment\n",
    "> - actor1           : L'acteur principale de la manifestastion\n",
    "> - assoc_actor_1    : L'associer de l'acteur principal \n",
    "> - actor2           : L'acteur secondaire de la manif \n",
    "> - assoc_actor_2    : L'associer de l'acteur secondaire de la manif\n",
    "> - interaction      : Le nombre d'interractions lors de la manif\n",
    "> - province1        : La première province où a eu lieu la mif le même jour \n",
    "> - province2        : La deuxième province où a eu lieu la mif le même jour \n",
    "> - province3        : La troisième province où a eu lieu la mif le même jour  \n",
    "> - localite         : La province qui a lancé un appel à l'organisation de la manif\n",
    "> - latitude         : La latitude de la localité de la manifestation \n",
    "> - longitude        : La longitude de la localité de la manifestation \n",
    "> - source           : Le média qui informe sur les manifestations \n",
    "> - source_scale     : Le type de média selon l'échelle nationale, internationale, etc.  \n",
    "> - faits            : Les tragédies...les décès, les accidents, les personnes tuées, etc. \n",
    "> - timestamp        : il s'agit de la date de la manif en valeur réel calculé à partir du 1er Janvier 1970"
   ]
  },
  {
   "cell_type": "markdown",
   "metadata": {},
   "source": [
    "***Le sdeux lignes suivantes sont nécessaire si et seulement si vous voulez voir le dataset détaillé au niveau des colonnes ou au niveau des lignes.***"
   ]
  },
  {
   "cell_type": "code",
   "execution_count": 66,
   "metadata": {
    "execution": {
     "iopub.execute_input": "2021-07-28T22:25:25.431504Z",
     "iopub.status.busy": "2021-07-28T22:25:25.430987Z",
     "iopub.status.idle": "2021-07-28T22:25:25.434855Z",
     "shell.execute_reply": "2021-07-28T22:25:25.433971Z",
     "shell.execute_reply.started": "2021-07-28T22:25:25.431472Z"
    }
   },
   "outputs": [],
   "source": [
    "# pd.set_option(\"display.max_columns\",None)\n",
    "# pd.set_option(\"display.max_row²\",None)"
   ]
  },
  {
   "cell_type": "markdown",
   "metadata": {
    "execution": {
     "iopub.execute_input": "2021-07-28T14:49:46.744951Z",
     "iopub.status.busy": "2021-07-28T14:49:46.744570Z",
     "iopub.status.idle": "2021-07-28T14:49:46.764223Z",
     "shell.execute_reply": "2021-07-28T14:49:46.762840Z",
     "shell.execute_reply.started": "2021-07-28T14:49:46.744905Z"
    }
   },
   "source": [
    "***suppression***"
   ]
  },
  {
   "cell_type": "code",
   "execution_count": 67,
   "metadata": {
    "execution": {
     "iopub.execute_input": "2021-07-28T22:25:26.409913Z",
     "iopub.status.busy": "2021-07-28T22:25:26.409537Z",
     "iopub.status.idle": "2021-07-28T22:25:26.420170Z",
     "shell.execute_reply": "2021-07-28T22:25:26.419201Z",
     "shell.execute_reply.started": "2021-07-28T22:25:26.409879Z"
    }
   },
   "outputs": [],
   "source": [
    "df_more = df_more.drop([\"data_id\",\"iso\",\"geo_precision\",\"time_precision\",\"interaction\",\"region\",\"country\", \"notes\", \"iso3\",\"event_id_cnty\",\"inter1\", \"inter2\"],axis=1)"
   ]
  },
  {
   "cell_type": "code",
   "execution_count": 68,
   "metadata": {
    "execution": {
     "iopub.execute_input": "2021-07-28T22:25:26.596235Z",
     "iopub.status.busy": "2021-07-28T22:25:26.595736Z",
     "iopub.status.idle": "2021-07-28T22:25:26.640010Z",
     "shell.execute_reply": "2021-07-28T22:25:26.638716Z",
     "shell.execute_reply.started": "2021-07-28T22:25:26.596205Z"
    }
   },
   "outputs": [
    {
     "name": "stdout",
     "output_type": "stream",
     "text": [
      "<class 'pandas.core.frame.DataFrame'>\n",
      "Int64Index: 17417 entries, 1 to 17417\n",
      "Data columns (total 19 columns):\n",
      " #   Column            Non-Null Count  Dtype  \n",
      "---  ------            --------------  -----  \n",
      " 0   event_id_no_cnty  17417 non-null  float64\n",
      " 1   event_date        17417 non-null  object \n",
      " 2   year              17417 non-null  object \n",
      " 3   event_type        17417 non-null  object \n",
      " 4   sub_event_type    17417 non-null  object \n",
      " 5   actor1            17417 non-null  object \n",
      " 6   assoc_actor_1     2861 non-null   object \n",
      " 7   actor2            15022 non-null  object \n",
      " 8   assoc_actor_2     2623 non-null   object \n",
      " 9   province1         17417 non-null  object \n",
      " 10  province2         17417 non-null  object \n",
      " 11  province3         17393 non-null  object \n",
      " 12  localite          17417 non-null  object \n",
      " 13  latitude          17417 non-null  object \n",
      " 14  longitude         17417 non-null  object \n",
      " 15  source            17417 non-null  object \n",
      " 16  source_scale      17417 non-null  object \n",
      " 17  faits             17417 non-null  object \n",
      " 18  timestamp         17417 non-null  float64\n",
      "dtypes: float64(2), object(17)\n",
      "memory usage: 2.7+ MB\n"
     ]
    }
   ],
   "source": [
    "df_more.info()"
   ]
  },
  {
   "cell_type": "markdown",
   "metadata": {},
   "source": [
    "***Conversion des types de colonnes***"
   ]
  },
  {
   "cell_type": "code",
   "execution_count": 69,
   "metadata": {
    "execution": {
     "iopub.execute_input": "2021-07-28T22:25:27.230098Z",
     "iopub.status.busy": "2021-07-28T22:25:27.229712Z",
     "iopub.status.idle": "2021-07-28T22:25:27.248054Z",
     "shell.execute_reply": "2021-07-28T22:25:27.247047Z",
     "shell.execute_reply.started": "2021-07-28T22:25:27.230062Z"
    }
   },
   "outputs": [],
   "source": [
    "df_more[\"event_date\"] = pd.to_datetime(df_more[\"event_date\"])"
   ]
  },
  {
   "cell_type": "code",
   "execution_count": 70,
   "metadata": {
    "execution": {
     "iopub.execute_input": "2021-07-28T22:25:27.249896Z",
     "iopub.status.busy": "2021-07-28T22:25:27.249565Z",
     "iopub.status.idle": "2021-07-28T22:25:27.258336Z",
     "shell.execute_reply": "2021-07-28T22:25:27.257264Z",
     "shell.execute_reply.started": "2021-07-28T22:25:27.249864Z"
    }
   },
   "outputs": [],
   "source": [
    "df_more[\"year\"] = df_more.event_date.dt.year"
   ]
  },
  {
   "cell_type": "code",
   "execution_count": 71,
   "metadata": {
    "execution": {
     "iopub.execute_input": "2021-07-28T22:25:27.260665Z",
     "iopub.status.busy": "2021-07-28T22:25:27.260361Z",
     "iopub.status.idle": "2021-07-28T22:25:27.273342Z",
     "shell.execute_reply": "2021-07-28T22:25:27.272513Z",
     "shell.execute_reply.started": "2021-07-28T22:25:27.260624Z"
    }
   },
   "outputs": [],
   "source": [
    "df_more.longitude = df_more.longitude.astype(\"float\")"
   ]
  },
  {
   "cell_type": "code",
   "execution_count": 72,
   "metadata": {
    "execution": {
     "iopub.execute_input": "2021-07-28T22:25:27.297451Z",
     "iopub.status.busy": "2021-07-28T22:25:27.296828Z",
     "iopub.status.idle": "2021-07-28T22:25:27.308133Z",
     "shell.execute_reply": "2021-07-28T22:25:27.307309Z",
     "shell.execute_reply.started": "2021-07-28T22:25:27.297403Z"
    }
   },
   "outputs": [],
   "source": [
    "df_more.latitude = df_more.latitude.astype(\"float\")"
   ]
  },
  {
   "cell_type": "code",
   "execution_count": 73,
   "metadata": {
    "execution": {
     "iopub.execute_input": "2021-07-28T22:25:27.760697Z",
     "iopub.status.busy": "2021-07-28T22:25:27.760117Z",
     "iopub.status.idle": "2021-07-28T22:25:27.766446Z",
     "shell.execute_reply": "2021-07-28T22:25:27.765659Z",
     "shell.execute_reply.started": "2021-07-28T22:25:27.760648Z"
    }
   },
   "outputs": [],
   "source": [
    "df_more.event_id_no_cnty = df_more.event_id_no_cnty.astype(\"int\")"
   ]
  },
  {
   "cell_type": "code",
   "execution_count": 74,
   "metadata": {
    "execution": {
     "iopub.execute_input": "2021-07-28T22:25:28.032812Z",
     "iopub.status.busy": "2021-07-28T22:25:28.032433Z",
     "iopub.status.idle": "2021-07-28T22:25:28.042578Z",
     "shell.execute_reply": "2021-07-28T22:25:28.041608Z",
     "shell.execute_reply.started": "2021-07-28T22:25:28.032778Z"
    }
   },
   "outputs": [],
   "source": [
    "df_more.faits = df_more.faits.astype(\"int\")"
   ]
  },
  {
   "cell_type": "code",
   "execution_count": 75,
   "metadata": {
    "execution": {
     "iopub.execute_input": "2021-07-28T22:25:28.045456Z",
     "iopub.status.busy": "2021-07-28T22:25:28.044821Z",
     "iopub.status.idle": "2021-07-28T22:25:28.088975Z",
     "shell.execute_reply": "2021-07-28T22:25:28.088032Z",
     "shell.execute_reply.started": "2021-07-28T22:25:28.045405Z"
    }
   },
   "outputs": [
    {
     "name": "stdout",
     "output_type": "stream",
     "text": [
      "<class 'pandas.core.frame.DataFrame'>\n",
      "Int64Index: 17417 entries, 1 to 17417\n",
      "Data columns (total 19 columns):\n",
      " #   Column            Non-Null Count  Dtype         \n",
      "---  ------            --------------  -----         \n",
      " 0   event_id_no_cnty  17417 non-null  int64         \n",
      " 1   event_date        17417 non-null  datetime64[ns]\n",
      " 2   year              17417 non-null  int64         \n",
      " 3   event_type        17417 non-null  object        \n",
      " 4   sub_event_type    17417 non-null  object        \n",
      " 5   actor1            17417 non-null  object        \n",
      " 6   assoc_actor_1     2861 non-null   object        \n",
      " 7   actor2            15022 non-null  object        \n",
      " 8   assoc_actor_2     2623 non-null   object        \n",
      " 9   province1         17417 non-null  object        \n",
      " 10  province2         17417 non-null  object        \n",
      " 11  province3         17393 non-null  object        \n",
      " 12  localite          17417 non-null  object        \n",
      " 13  latitude          17417 non-null  float64       \n",
      " 14  longitude         17417 non-null  float64       \n",
      " 15  source            17417 non-null  object        \n",
      " 16  source_scale      17417 non-null  object        \n",
      " 17  faits             17417 non-null  int64         \n",
      " 18  timestamp         17417 non-null  float64       \n",
      "dtypes: datetime64[ns](1), float64(3), int64(3), object(12)\n",
      "memory usage: 2.7+ MB\n"
     ]
    }
   ],
   "source": [
    "df_more.info()"
   ]
  },
  {
   "cell_type": "markdown",
   "metadata": {},
   "source": [
    "***Rajouter la colonne interractions qui avait été supprimé*** "
   ]
  },
  {
   "cell_type": "code",
   "execution_count": 76,
   "metadata": {
    "execution": {
     "iopub.execute_input": "2021-07-28T22:25:28.090929Z",
     "iopub.status.busy": "2021-07-28T22:25:28.090602Z",
     "iopub.status.idle": "2021-07-28T22:25:28.097537Z",
     "shell.execute_reply": "2021-07-28T22:25:28.096640Z",
     "shell.execute_reply.started": "2021-07-28T22:25:28.090899Z"
    }
   },
   "outputs": [],
   "source": [
    "df_more[\"interactions\"] = df2[\"interaction\"]"
   ]
  },
  {
   "cell_type": "code",
   "execution_count": 77,
   "metadata": {
    "execution": {
     "iopub.execute_input": "2021-07-28T22:25:28.332161Z",
     "iopub.status.busy": "2021-07-28T22:25:28.331796Z",
     "iopub.status.idle": "2021-07-28T22:25:28.368564Z",
     "shell.execute_reply": "2021-07-28T22:25:28.367452Z",
     "shell.execute_reply.started": "2021-07-28T22:25:28.332132Z"
    }
   },
   "outputs": [
    {
     "name": "stdout",
     "output_type": "stream",
     "text": [
      "<class 'pandas.core.frame.DataFrame'>\n",
      "Int64Index: 17417 entries, 1 to 17417\n",
      "Data columns (total 20 columns):\n",
      " #   Column            Non-Null Count  Dtype         \n",
      "---  ------            --------------  -----         \n",
      " 0   event_id_no_cnty  17417 non-null  int64         \n",
      " 1   event_date        17417 non-null  datetime64[ns]\n",
      " 2   year              17417 non-null  int64         \n",
      " 3   event_type        17417 non-null  object        \n",
      " 4   sub_event_type    17417 non-null  object        \n",
      " 5   actor1            17417 non-null  object        \n",
      " 6   assoc_actor_1     2861 non-null   object        \n",
      " 7   actor2            15022 non-null  object        \n",
      " 8   assoc_actor_2     2623 non-null   object        \n",
      " 9   province1         17417 non-null  object        \n",
      " 10  province2         17417 non-null  object        \n",
      " 11  province3         17393 non-null  object        \n",
      " 12  localite          17417 non-null  object        \n",
      " 13  latitude          17417 non-null  float64       \n",
      " 14  longitude         17417 non-null  float64       \n",
      " 15  source            17417 non-null  object        \n",
      " 16  source_scale      17417 non-null  object        \n",
      " 17  faits             17417 non-null  int64         \n",
      " 18  timestamp         17417 non-null  float64       \n",
      " 19  interactions      17417 non-null  float64       \n",
      "dtypes: datetime64[ns](1), float64(4), int64(3), object(12)\n",
      "memory usage: 2.8+ MB\n"
     ]
    }
   ],
   "source": [
    "df_more.info()"
   ]
  },
  {
   "cell_type": "markdown",
   "metadata": {},
   "source": [
    "***ici on veut ordonner le dataset selon l'ordre de la plus ancienne manifestation à la plus récente, tout en respectant l'apparution de ces manifestations (car souvenez-vous nous avons vu plus haut que en un jour, il peut y avoir plusieurs manifestations).***"
   ]
  },
  {
   "cell_type": "code",
   "execution_count": 78,
   "metadata": {
    "execution": {
     "iopub.execute_input": "2021-07-28T22:25:28.645944Z",
     "iopub.status.busy": "2021-07-28T22:25:28.645352Z",
     "iopub.status.idle": "2021-07-28T22:25:28.662044Z",
     "shell.execute_reply": "2021-07-28T22:25:28.661029Z",
     "shell.execute_reply.started": "2021-07-28T22:25:28.645893Z"
    }
   },
   "outputs": [],
   "source": [
    "df_more = df_more.sort_values(by=['event_date','event_id_no_cnty'], ascending=True)"
   ]
  },
  {
   "cell_type": "code",
   "execution_count": 79,
   "metadata": {
    "execution": {
     "iopub.execute_input": "2021-07-28T22:25:28.813044Z",
     "iopub.status.busy": "2021-07-28T22:25:28.812687Z",
     "iopub.status.idle": "2021-07-28T22:25:28.853357Z",
     "shell.execute_reply": "2021-07-28T22:25:28.852288Z",
     "shell.execute_reply.started": "2021-07-28T22:25:28.813015Z"
    }
   },
   "outputs": [
    {
     "data": {
      "text/html": [
       "<div>\n",
       "<style scoped>\n",
       "    .dataframe tbody tr th:only-of-type {\n",
       "        vertical-align: middle;\n",
       "    }\n",
       "\n",
       "    .dataframe tbody tr th {\n",
       "        vertical-align: top;\n",
       "    }\n",
       "\n",
       "    .dataframe thead th {\n",
       "        text-align: right;\n",
       "    }\n",
       "</style>\n",
       "<table border=\"1\" class=\"dataframe\">\n",
       "  <thead>\n",
       "    <tr style=\"text-align: right;\">\n",
       "      <th></th>\n",
       "      <th>event_id_no_cnty</th>\n",
       "      <th>event_date</th>\n",
       "      <th>year</th>\n",
       "      <th>event_type</th>\n",
       "      <th>sub_event_type</th>\n",
       "      <th>actor1</th>\n",
       "      <th>assoc_actor_1</th>\n",
       "      <th>actor2</th>\n",
       "      <th>assoc_actor_2</th>\n",
       "      <th>province1</th>\n",
       "      <th>province2</th>\n",
       "      <th>province3</th>\n",
       "      <th>localite</th>\n",
       "      <th>latitude</th>\n",
       "      <th>longitude</th>\n",
       "      <th>source</th>\n",
       "      <th>source_scale</th>\n",
       "      <th>faits</th>\n",
       "      <th>timestamp</th>\n",
       "      <th>interactions</th>\n",
       "    </tr>\n",
       "  </thead>\n",
       "  <tbody>\n",
       "    <tr>\n",
       "      <th>17417</th>\n",
       "      <td>65</td>\n",
       "      <td>1997-02-27</td>\n",
       "      <td>1997</td>\n",
       "      <td>Battles</td>\n",
       "      <td>Non-state actor overtakes territory</td>\n",
       "      <td>ADFL: Alliance of Democratic Forces for Libera...</td>\n",
       "      <td>NaN</td>\n",
       "      <td>Military Forces of the Democratic Republic of ...</td>\n",
       "      <td>NaN</td>\n",
       "      <td>Maniema</td>\n",
       "      <td>Kindu</td>\n",
       "      <td>Kindu</td>\n",
       "      <td>Kindu</td>\n",
       "      <td>-2.9437</td>\n",
       "      <td>25.9224</td>\n",
       "      <td>Reuters</td>\n",
       "      <td>International</td>\n",
       "      <td>0</td>\n",
       "      <td>1.585692e+09</td>\n",
       "      <td>12.0</td>\n",
       "    </tr>\n",
       "    <tr>\n",
       "      <th>17415</th>\n",
       "      <td>66</td>\n",
       "      <td>1997-02-28</td>\n",
       "      <td>1997</td>\n",
       "      <td>Strategic developments</td>\n",
       "      <td>Change to group/activity</td>\n",
       "      <td>ADFL: Alliance of Democratic Forces for Libera...</td>\n",
       "      <td>NaN</td>\n",
       "      <td>NaN</td>\n",
       "      <td>NaN</td>\n",
       "      <td>Tshopo</td>\n",
       "      <td>Kisangani</td>\n",
       "      <td>Kisangani</td>\n",
       "      <td>Kisangani</td>\n",
       "      <td>0.5147</td>\n",
       "      <td>25.1896</td>\n",
       "      <td>Local Source</td>\n",
       "      <td>Subnational</td>\n",
       "      <td>0</td>\n",
       "      <td>1.574110e+09</td>\n",
       "      <td>20.0</td>\n",
       "    </tr>\n",
       "    <tr>\n",
       "      <th>17416</th>\n",
       "      <td>67</td>\n",
       "      <td>1997-02-28</td>\n",
       "      <td>1997</td>\n",
       "      <td>Battles</td>\n",
       "      <td>Armed clash</td>\n",
       "      <td>ADFL: Alliance of Democratic Forces for Libera...</td>\n",
       "      <td>NaN</td>\n",
       "      <td>Military Forces of the Democratic Republic of ...</td>\n",
       "      <td>NaN</td>\n",
       "      <td>Tshopo</td>\n",
       "      <td>Kisangani</td>\n",
       "      <td>Kisangani</td>\n",
       "      <td>Kisangani</td>\n",
       "      <td>0.5147</td>\n",
       "      <td>25.1896</td>\n",
       "      <td>All Africa</td>\n",
       "      <td>Regional</td>\n",
       "      <td>0</td>\n",
       "      <td>1.585692e+09</td>\n",
       "      <td>12.0</td>\n",
       "    </tr>\n",
       "    <tr>\n",
       "      <th>17413</th>\n",
       "      <td>68</td>\n",
       "      <td>1997-03-01</td>\n",
       "      <td>1997</td>\n",
       "      <td>Battles</td>\n",
       "      <td>Non-state actor overtakes territory</td>\n",
       "      <td>ADFL: Alliance of Democratic Forces for Libera...</td>\n",
       "      <td>NaN</td>\n",
       "      <td>Military Forces of the Democratic Republic of ...</td>\n",
       "      <td>NaN</td>\n",
       "      <td>Haut-Lomami</td>\n",
       "      <td>Kamina</td>\n",
       "      <td>Kamina</td>\n",
       "      <td>Kanamononga</td>\n",
       "      <td>-8.8116</td>\n",
       "      <td>24.5602</td>\n",
       "      <td>Africa Confidential; Africa Contemporary Record</td>\n",
       "      <td>Other-Regional</td>\n",
       "      <td>0</td>\n",
       "      <td>1.585692e+09</td>\n",
       "      <td>12.0</td>\n",
       "    </tr>\n",
       "    <tr>\n",
       "      <th>17414</th>\n",
       "      <td>69</td>\n",
       "      <td>1997-03-01</td>\n",
       "      <td>1997</td>\n",
       "      <td>Battles</td>\n",
       "      <td>Non-state actor overtakes territory</td>\n",
       "      <td>ADFL: Alliance of Democratic Forces for Libera...</td>\n",
       "      <td>NaN</td>\n",
       "      <td>Military Forces of the Democratic Republic of ...</td>\n",
       "      <td>NaN</td>\n",
       "      <td>Maniema</td>\n",
       "      <td>Kindu</td>\n",
       "      <td>Kindu</td>\n",
       "      <td>Kindu</td>\n",
       "      <td>-2.9437</td>\n",
       "      <td>25.9224</td>\n",
       "      <td>Africa Contemporary Record; Africa Confidential</td>\n",
       "      <td>Other-Regional</td>\n",
       "      <td>0</td>\n",
       "      <td>1.585692e+09</td>\n",
       "      <td>12.0</td>\n",
       "    </tr>\n",
       "    <tr>\n",
       "      <th>...</th>\n",
       "      <td>...</td>\n",
       "      <td>...</td>\n",
       "      <td>...</td>\n",
       "      <td>...</td>\n",
       "      <td>...</td>\n",
       "      <td>...</td>\n",
       "      <td>...</td>\n",
       "      <td>...</td>\n",
       "      <td>...</td>\n",
       "      <td>...</td>\n",
       "      <td>...</td>\n",
       "      <td>...</td>\n",
       "      <td>...</td>\n",
       "      <td>...</td>\n",
       "      <td>...</td>\n",
       "      <td>...</td>\n",
       "      <td>...</td>\n",
       "      <td>...</td>\n",
       "      <td>...</td>\n",
       "      <td>...</td>\n",
       "    </tr>\n",
       "    <tr>\n",
       "      <th>13</th>\n",
       "      <td>18039</td>\n",
       "      <td>2020-07-31</td>\n",
       "      <td>2020</td>\n",
       "      <td>Riots</td>\n",
       "      <td>Violent demonstration</td>\n",
       "      <td>Rioters (Democratic Republic of Congo)</td>\n",
       "      <td>NaN</td>\n",
       "      <td>Police Forces of the Democratic Republic of Co...</td>\n",
       "      <td>NaN</td>\n",
       "      <td>Sud-Kivu</td>\n",
       "      <td>Uvira</td>\n",
       "      <td>Uvira</td>\n",
       "      <td>Sange</td>\n",
       "      <td>-3.0833</td>\n",
       "      <td>29.1167</td>\n",
       "      <td>La Prunelle; Radio Okapi</td>\n",
       "      <td>Subnational-National</td>\n",
       "      <td>0</td>\n",
       "      <td>1.596482e+09</td>\n",
       "      <td>15.0</td>\n",
       "    </tr>\n",
       "    <tr>\n",
       "      <th>4</th>\n",
       "      <td>18040</td>\n",
       "      <td>2020-08-01</td>\n",
       "      <td>2020</td>\n",
       "      <td>Protests</td>\n",
       "      <td>Peaceful protest</td>\n",
       "      <td>Protesters (Democratic Republic of Congo)</td>\n",
       "      <td>LUCHA: Fight for Change</td>\n",
       "      <td>NaN</td>\n",
       "      <td>NaN</td>\n",
       "      <td>Sud-Kivu</td>\n",
       "      <td>Bukavu</td>\n",
       "      <td>Bukavu</td>\n",
       "      <td>Bukavu</td>\n",
       "      <td>-2.5000</td>\n",
       "      <td>28.8667</td>\n",
       "      <td>La Prunelle</td>\n",
       "      <td>Subnational</td>\n",
       "      <td>0</td>\n",
       "      <td>1.596482e+09</td>\n",
       "      <td>60.0</td>\n",
       "    </tr>\n",
       "    <tr>\n",
       "      <th>2</th>\n",
       "      <td>18041</td>\n",
       "      <td>2020-08-01</td>\n",
       "      <td>2020</td>\n",
       "      <td>Protests</td>\n",
       "      <td>Peaceful protest</td>\n",
       "      <td>Protesters (Democratic Republic of Congo)</td>\n",
       "      <td>FCC: Common Front for Congo</td>\n",
       "      <td>NaN</td>\n",
       "      <td>NaN</td>\n",
       "      <td>Ituri</td>\n",
       "      <td>Irumu</td>\n",
       "      <td>Irumu</td>\n",
       "      <td>Bunia</td>\n",
       "      <td>1.5667</td>\n",
       "      <td>30.2500</td>\n",
       "      <td>Actualite</td>\n",
       "      <td>National</td>\n",
       "      <td>0</td>\n",
       "      <td>1.596482e+09</td>\n",
       "      <td>60.0</td>\n",
       "    </tr>\n",
       "    <tr>\n",
       "      <th>1</th>\n",
       "      <td>18042</td>\n",
       "      <td>2020-08-01</td>\n",
       "      <td>2020</td>\n",
       "      <td>Protests</td>\n",
       "      <td>Peaceful protest</td>\n",
       "      <td>Protesters (Democratic Republic of Congo)</td>\n",
       "      <td>FCC: Common Front for Congo</td>\n",
       "      <td>NaN</td>\n",
       "      <td>NaN</td>\n",
       "      <td>Sud-Ubangi</td>\n",
       "      <td>Gemena</td>\n",
       "      <td>Gemena</td>\n",
       "      <td>Gemena</td>\n",
       "      <td>3.2500</td>\n",
       "      <td>19.7667</td>\n",
       "      <td>Actualite</td>\n",
       "      <td>National</td>\n",
       "      <td>0</td>\n",
       "      <td>1.596482e+09</td>\n",
       "      <td>60.0</td>\n",
       "    </tr>\n",
       "    <tr>\n",
       "      <th>3</th>\n",
       "      <td>18043</td>\n",
       "      <td>2020-08-01</td>\n",
       "      <td>2020</td>\n",
       "      <td>Protests</td>\n",
       "      <td>Peaceful protest</td>\n",
       "      <td>Protesters (Democratic Republic of Congo)</td>\n",
       "      <td>LUCHA: Fight for Change</td>\n",
       "      <td>NaN</td>\n",
       "      <td>NaN</td>\n",
       "      <td>Sud-Kivu</td>\n",
       "      <td>Uvira</td>\n",
       "      <td>Uvira</td>\n",
       "      <td>Sange</td>\n",
       "      <td>-3.0833</td>\n",
       "      <td>29.1167</td>\n",
       "      <td>Election-Net</td>\n",
       "      <td>National</td>\n",
       "      <td>0</td>\n",
       "      <td>1.596482e+09</td>\n",
       "      <td>60.0</td>\n",
       "    </tr>\n",
       "  </tbody>\n",
       "</table>\n",
       "<p>17417 rows × 20 columns</p>\n",
       "</div>"
      ],
      "text/plain": [
       "       event_id_no_cnty event_date  year              event_type  \\\n",
       "17417                65 1997-02-27  1997                 Battles   \n",
       "17415                66 1997-02-28  1997  Strategic developments   \n",
       "17416                67 1997-02-28  1997                 Battles   \n",
       "17413                68 1997-03-01  1997                 Battles   \n",
       "17414                69 1997-03-01  1997                 Battles   \n",
       "...                 ...        ...   ...                     ...   \n",
       "13                18039 2020-07-31  2020                   Riots   \n",
       "4                 18040 2020-08-01  2020                Protests   \n",
       "2                 18041 2020-08-01  2020                Protests   \n",
       "1                 18042 2020-08-01  2020                Protests   \n",
       "3                 18043 2020-08-01  2020                Protests   \n",
       "\n",
       "                            sub_event_type  \\\n",
       "17417  Non-state actor overtakes territory   \n",
       "17415             Change to group/activity   \n",
       "17416                          Armed clash   \n",
       "17413  Non-state actor overtakes territory   \n",
       "17414  Non-state actor overtakes territory   \n",
       "...                                    ...   \n",
       "13                   Violent demonstration   \n",
       "4                         Peaceful protest   \n",
       "2                         Peaceful protest   \n",
       "1                         Peaceful protest   \n",
       "3                         Peaceful protest   \n",
       "\n",
       "                                                  actor1  \\\n",
       "17417  ADFL: Alliance of Democratic Forces for Libera...   \n",
       "17415  ADFL: Alliance of Democratic Forces for Libera...   \n",
       "17416  ADFL: Alliance of Democratic Forces for Libera...   \n",
       "17413  ADFL: Alliance of Democratic Forces for Libera...   \n",
       "17414  ADFL: Alliance of Democratic Forces for Libera...   \n",
       "...                                                  ...   \n",
       "13                Rioters (Democratic Republic of Congo)   \n",
       "4              Protesters (Democratic Republic of Congo)   \n",
       "2              Protesters (Democratic Republic of Congo)   \n",
       "1              Protesters (Democratic Republic of Congo)   \n",
       "3              Protesters (Democratic Republic of Congo)   \n",
       "\n",
       "                     assoc_actor_1  \\\n",
       "17417                          NaN   \n",
       "17415                          NaN   \n",
       "17416                          NaN   \n",
       "17413                          NaN   \n",
       "17414                          NaN   \n",
       "...                            ...   \n",
       "13                             NaN   \n",
       "4          LUCHA: Fight for Change   \n",
       "2      FCC: Common Front for Congo   \n",
       "1      FCC: Common Front for Congo   \n",
       "3          LUCHA: Fight for Change   \n",
       "\n",
       "                                                  actor2 assoc_actor_2  \\\n",
       "17417  Military Forces of the Democratic Republic of ...           NaN   \n",
       "17415                                                NaN           NaN   \n",
       "17416  Military Forces of the Democratic Republic of ...           NaN   \n",
       "17413  Military Forces of the Democratic Republic of ...           NaN   \n",
       "17414  Military Forces of the Democratic Republic of ...           NaN   \n",
       "...                                                  ...           ...   \n",
       "13     Police Forces of the Democratic Republic of Co...           NaN   \n",
       "4                                                    NaN           NaN   \n",
       "2                                                    NaN           NaN   \n",
       "1                                                    NaN           NaN   \n",
       "3                                                    NaN           NaN   \n",
       "\n",
       "         province1  province2  province3     localite  latitude  longitude  \\\n",
       "17417      Maniema      Kindu      Kindu        Kindu   -2.9437    25.9224   \n",
       "17415       Tshopo  Kisangani  Kisangani    Kisangani    0.5147    25.1896   \n",
       "17416       Tshopo  Kisangani  Kisangani    Kisangani    0.5147    25.1896   \n",
       "17413  Haut-Lomami     Kamina     Kamina  Kanamononga   -8.8116    24.5602   \n",
       "17414      Maniema      Kindu      Kindu        Kindu   -2.9437    25.9224   \n",
       "...            ...        ...        ...          ...       ...        ...   \n",
       "13        Sud-Kivu      Uvira      Uvira        Sange   -3.0833    29.1167   \n",
       "4         Sud-Kivu     Bukavu     Bukavu       Bukavu   -2.5000    28.8667   \n",
       "2            Ituri      Irumu      Irumu        Bunia    1.5667    30.2500   \n",
       "1       Sud-Ubangi     Gemena     Gemena       Gemena    3.2500    19.7667   \n",
       "3         Sud-Kivu      Uvira      Uvira        Sange   -3.0833    29.1167   \n",
       "\n",
       "                                                source          source_scale  \\\n",
       "17417                                          Reuters         International   \n",
       "17415                                     Local Source           Subnational   \n",
       "17416                                       All Africa              Regional   \n",
       "17413  Africa Confidential; Africa Contemporary Record        Other-Regional   \n",
       "17414  Africa Contemporary Record; Africa Confidential        Other-Regional   \n",
       "...                                                ...                   ...   \n",
       "13                            La Prunelle; Radio Okapi  Subnational-National   \n",
       "4                                          La Prunelle           Subnational   \n",
       "2                                            Actualite              National   \n",
       "1                                            Actualite              National   \n",
       "3                                         Election-Net              National   \n",
       "\n",
       "       faits     timestamp  interactions  \n",
       "17417      0  1.585692e+09          12.0  \n",
       "17415      0  1.574110e+09          20.0  \n",
       "17416      0  1.585692e+09          12.0  \n",
       "17413      0  1.585692e+09          12.0  \n",
       "17414      0  1.585692e+09          12.0  \n",
       "...      ...           ...           ...  \n",
       "13         0  1.596482e+09          15.0  \n",
       "4          0  1.596482e+09          60.0  \n",
       "2          0  1.596482e+09          60.0  \n",
       "1          0  1.596482e+09          60.0  \n",
       "3          0  1.596482e+09          60.0  \n",
       "\n",
       "[17417 rows x 20 columns]"
      ]
     },
     "execution_count": 79,
     "metadata": {},
     "output_type": "execute_result"
    }
   ],
   "source": [
    "df_more"
   ]
  },
  {
   "cell_type": "markdown",
   "metadata": {},
   "source": [
    "***Nous allons à présent appeler notre DataFrame df_more df tout court et reformatter l'indexation.***"
   ]
  },
  {
   "cell_type": "code",
   "execution_count": 80,
   "metadata": {
    "execution": {
     "iopub.execute_input": "2021-07-28T22:25:29.076998Z",
     "iopub.status.busy": "2021-07-28T22:25:29.076551Z",
     "iopub.status.idle": "2021-07-28T22:25:29.082205Z",
     "shell.execute_reply": "2021-07-28T22:25:29.081476Z",
     "shell.execute_reply.started": "2021-07-28T22:25:29.076961Z"
    }
   },
   "outputs": [],
   "source": [
    "df = df_more.copy()"
   ]
  },
  {
   "cell_type": "code",
   "execution_count": 81,
   "metadata": {
    "execution": {
     "iopub.execute_input": "2021-07-28T22:25:29.249472Z",
     "iopub.status.busy": "2021-07-28T22:25:29.248973Z",
     "iopub.status.idle": "2021-07-28T22:25:29.252912Z",
     "shell.execute_reply": "2021-07-28T22:25:29.252216Z",
     "shell.execute_reply.started": "2021-07-28T22:25:29.249441Z"
    }
   },
   "outputs": [],
   "source": [
    "df.index = range(len(df_more)) #for i in range(5) #0 à 4 ... "
   ]
  },
  {
   "cell_type": "code",
   "execution_count": 82,
   "metadata": {
    "execution": {
     "iopub.execute_input": "2021-07-28T22:25:29.414340Z",
     "iopub.status.busy": "2021-07-28T22:25:29.413834Z",
     "iopub.status.idle": "2021-07-28T22:25:29.451650Z",
     "shell.execute_reply": "2021-07-28T22:25:29.450689Z",
     "shell.execute_reply.started": "2021-07-28T22:25:29.414307Z"
    }
   },
   "outputs": [
    {
     "data": {
      "text/html": [
       "<div>\n",
       "<style scoped>\n",
       "    .dataframe tbody tr th:only-of-type {\n",
       "        vertical-align: middle;\n",
       "    }\n",
       "\n",
       "    .dataframe tbody tr th {\n",
       "        vertical-align: top;\n",
       "    }\n",
       "\n",
       "    .dataframe thead th {\n",
       "        text-align: right;\n",
       "    }\n",
       "</style>\n",
       "<table border=\"1\" class=\"dataframe\">\n",
       "  <thead>\n",
       "    <tr style=\"text-align: right;\">\n",
       "      <th></th>\n",
       "      <th>event_id_no_cnty</th>\n",
       "      <th>event_date</th>\n",
       "      <th>year</th>\n",
       "      <th>event_type</th>\n",
       "      <th>sub_event_type</th>\n",
       "      <th>actor1</th>\n",
       "      <th>assoc_actor_1</th>\n",
       "      <th>actor2</th>\n",
       "      <th>assoc_actor_2</th>\n",
       "      <th>province1</th>\n",
       "      <th>province2</th>\n",
       "      <th>province3</th>\n",
       "      <th>localite</th>\n",
       "      <th>latitude</th>\n",
       "      <th>longitude</th>\n",
       "      <th>source</th>\n",
       "      <th>source_scale</th>\n",
       "      <th>faits</th>\n",
       "      <th>timestamp</th>\n",
       "      <th>interactions</th>\n",
       "    </tr>\n",
       "  </thead>\n",
       "  <tbody>\n",
       "    <tr>\n",
       "      <th>0</th>\n",
       "      <td>65</td>\n",
       "      <td>1997-02-27</td>\n",
       "      <td>1997</td>\n",
       "      <td>Battles</td>\n",
       "      <td>Non-state actor overtakes territory</td>\n",
       "      <td>ADFL: Alliance of Democratic Forces for Libera...</td>\n",
       "      <td>NaN</td>\n",
       "      <td>Military Forces of the Democratic Republic of ...</td>\n",
       "      <td>NaN</td>\n",
       "      <td>Maniema</td>\n",
       "      <td>Kindu</td>\n",
       "      <td>Kindu</td>\n",
       "      <td>Kindu</td>\n",
       "      <td>-2.9437</td>\n",
       "      <td>25.9224</td>\n",
       "      <td>Reuters</td>\n",
       "      <td>International</td>\n",
       "      <td>0</td>\n",
       "      <td>1.585692e+09</td>\n",
       "      <td>12.0</td>\n",
       "    </tr>\n",
       "    <tr>\n",
       "      <th>1</th>\n",
       "      <td>66</td>\n",
       "      <td>1997-02-28</td>\n",
       "      <td>1997</td>\n",
       "      <td>Strategic developments</td>\n",
       "      <td>Change to group/activity</td>\n",
       "      <td>ADFL: Alliance of Democratic Forces for Libera...</td>\n",
       "      <td>NaN</td>\n",
       "      <td>NaN</td>\n",
       "      <td>NaN</td>\n",
       "      <td>Tshopo</td>\n",
       "      <td>Kisangani</td>\n",
       "      <td>Kisangani</td>\n",
       "      <td>Kisangani</td>\n",
       "      <td>0.5147</td>\n",
       "      <td>25.1896</td>\n",
       "      <td>Local Source</td>\n",
       "      <td>Subnational</td>\n",
       "      <td>0</td>\n",
       "      <td>1.574110e+09</td>\n",
       "      <td>20.0</td>\n",
       "    </tr>\n",
       "    <tr>\n",
       "      <th>2</th>\n",
       "      <td>67</td>\n",
       "      <td>1997-02-28</td>\n",
       "      <td>1997</td>\n",
       "      <td>Battles</td>\n",
       "      <td>Armed clash</td>\n",
       "      <td>ADFL: Alliance of Democratic Forces for Libera...</td>\n",
       "      <td>NaN</td>\n",
       "      <td>Military Forces of the Democratic Republic of ...</td>\n",
       "      <td>NaN</td>\n",
       "      <td>Tshopo</td>\n",
       "      <td>Kisangani</td>\n",
       "      <td>Kisangani</td>\n",
       "      <td>Kisangani</td>\n",
       "      <td>0.5147</td>\n",
       "      <td>25.1896</td>\n",
       "      <td>All Africa</td>\n",
       "      <td>Regional</td>\n",
       "      <td>0</td>\n",
       "      <td>1.585692e+09</td>\n",
       "      <td>12.0</td>\n",
       "    </tr>\n",
       "    <tr>\n",
       "      <th>3</th>\n",
       "      <td>68</td>\n",
       "      <td>1997-03-01</td>\n",
       "      <td>1997</td>\n",
       "      <td>Battles</td>\n",
       "      <td>Non-state actor overtakes territory</td>\n",
       "      <td>ADFL: Alliance of Democratic Forces for Libera...</td>\n",
       "      <td>NaN</td>\n",
       "      <td>Military Forces of the Democratic Republic of ...</td>\n",
       "      <td>NaN</td>\n",
       "      <td>Haut-Lomami</td>\n",
       "      <td>Kamina</td>\n",
       "      <td>Kamina</td>\n",
       "      <td>Kanamononga</td>\n",
       "      <td>-8.8116</td>\n",
       "      <td>24.5602</td>\n",
       "      <td>Africa Confidential; Africa Contemporary Record</td>\n",
       "      <td>Other-Regional</td>\n",
       "      <td>0</td>\n",
       "      <td>1.585692e+09</td>\n",
       "      <td>12.0</td>\n",
       "    </tr>\n",
       "    <tr>\n",
       "      <th>4</th>\n",
       "      <td>69</td>\n",
       "      <td>1997-03-01</td>\n",
       "      <td>1997</td>\n",
       "      <td>Battles</td>\n",
       "      <td>Non-state actor overtakes territory</td>\n",
       "      <td>ADFL: Alliance of Democratic Forces for Libera...</td>\n",
       "      <td>NaN</td>\n",
       "      <td>Military Forces of the Democratic Republic of ...</td>\n",
       "      <td>NaN</td>\n",
       "      <td>Maniema</td>\n",
       "      <td>Kindu</td>\n",
       "      <td>Kindu</td>\n",
       "      <td>Kindu</td>\n",
       "      <td>-2.9437</td>\n",
       "      <td>25.9224</td>\n",
       "      <td>Africa Contemporary Record; Africa Confidential</td>\n",
       "      <td>Other-Regional</td>\n",
       "      <td>0</td>\n",
       "      <td>1.585692e+09</td>\n",
       "      <td>12.0</td>\n",
       "    </tr>\n",
       "    <tr>\n",
       "      <th>...</th>\n",
       "      <td>...</td>\n",
       "      <td>...</td>\n",
       "      <td>...</td>\n",
       "      <td>...</td>\n",
       "      <td>...</td>\n",
       "      <td>...</td>\n",
       "      <td>...</td>\n",
       "      <td>...</td>\n",
       "      <td>...</td>\n",
       "      <td>...</td>\n",
       "      <td>...</td>\n",
       "      <td>...</td>\n",
       "      <td>...</td>\n",
       "      <td>...</td>\n",
       "      <td>...</td>\n",
       "      <td>...</td>\n",
       "      <td>...</td>\n",
       "      <td>...</td>\n",
       "      <td>...</td>\n",
       "      <td>...</td>\n",
       "    </tr>\n",
       "    <tr>\n",
       "      <th>17412</th>\n",
       "      <td>18039</td>\n",
       "      <td>2020-07-31</td>\n",
       "      <td>2020</td>\n",
       "      <td>Riots</td>\n",
       "      <td>Violent demonstration</td>\n",
       "      <td>Rioters (Democratic Republic of Congo)</td>\n",
       "      <td>NaN</td>\n",
       "      <td>Police Forces of the Democratic Republic of Co...</td>\n",
       "      <td>NaN</td>\n",
       "      <td>Sud-Kivu</td>\n",
       "      <td>Uvira</td>\n",
       "      <td>Uvira</td>\n",
       "      <td>Sange</td>\n",
       "      <td>-3.0833</td>\n",
       "      <td>29.1167</td>\n",
       "      <td>La Prunelle; Radio Okapi</td>\n",
       "      <td>Subnational-National</td>\n",
       "      <td>0</td>\n",
       "      <td>1.596482e+09</td>\n",
       "      <td>15.0</td>\n",
       "    </tr>\n",
       "    <tr>\n",
       "      <th>17413</th>\n",
       "      <td>18040</td>\n",
       "      <td>2020-08-01</td>\n",
       "      <td>2020</td>\n",
       "      <td>Protests</td>\n",
       "      <td>Peaceful protest</td>\n",
       "      <td>Protesters (Democratic Republic of Congo)</td>\n",
       "      <td>LUCHA: Fight for Change</td>\n",
       "      <td>NaN</td>\n",
       "      <td>NaN</td>\n",
       "      <td>Sud-Kivu</td>\n",
       "      <td>Bukavu</td>\n",
       "      <td>Bukavu</td>\n",
       "      <td>Bukavu</td>\n",
       "      <td>-2.5000</td>\n",
       "      <td>28.8667</td>\n",
       "      <td>La Prunelle</td>\n",
       "      <td>Subnational</td>\n",
       "      <td>0</td>\n",
       "      <td>1.596482e+09</td>\n",
       "      <td>60.0</td>\n",
       "    </tr>\n",
       "    <tr>\n",
       "      <th>17414</th>\n",
       "      <td>18041</td>\n",
       "      <td>2020-08-01</td>\n",
       "      <td>2020</td>\n",
       "      <td>Protests</td>\n",
       "      <td>Peaceful protest</td>\n",
       "      <td>Protesters (Democratic Republic of Congo)</td>\n",
       "      <td>FCC: Common Front for Congo</td>\n",
       "      <td>NaN</td>\n",
       "      <td>NaN</td>\n",
       "      <td>Ituri</td>\n",
       "      <td>Irumu</td>\n",
       "      <td>Irumu</td>\n",
       "      <td>Bunia</td>\n",
       "      <td>1.5667</td>\n",
       "      <td>30.2500</td>\n",
       "      <td>Actualite</td>\n",
       "      <td>National</td>\n",
       "      <td>0</td>\n",
       "      <td>1.596482e+09</td>\n",
       "      <td>60.0</td>\n",
       "    </tr>\n",
       "    <tr>\n",
       "      <th>17415</th>\n",
       "      <td>18042</td>\n",
       "      <td>2020-08-01</td>\n",
       "      <td>2020</td>\n",
       "      <td>Protests</td>\n",
       "      <td>Peaceful protest</td>\n",
       "      <td>Protesters (Democratic Republic of Congo)</td>\n",
       "      <td>FCC: Common Front for Congo</td>\n",
       "      <td>NaN</td>\n",
       "      <td>NaN</td>\n",
       "      <td>Sud-Ubangi</td>\n",
       "      <td>Gemena</td>\n",
       "      <td>Gemena</td>\n",
       "      <td>Gemena</td>\n",
       "      <td>3.2500</td>\n",
       "      <td>19.7667</td>\n",
       "      <td>Actualite</td>\n",
       "      <td>National</td>\n",
       "      <td>0</td>\n",
       "      <td>1.596482e+09</td>\n",
       "      <td>60.0</td>\n",
       "    </tr>\n",
       "    <tr>\n",
       "      <th>17416</th>\n",
       "      <td>18043</td>\n",
       "      <td>2020-08-01</td>\n",
       "      <td>2020</td>\n",
       "      <td>Protests</td>\n",
       "      <td>Peaceful protest</td>\n",
       "      <td>Protesters (Democratic Republic of Congo)</td>\n",
       "      <td>LUCHA: Fight for Change</td>\n",
       "      <td>NaN</td>\n",
       "      <td>NaN</td>\n",
       "      <td>Sud-Kivu</td>\n",
       "      <td>Uvira</td>\n",
       "      <td>Uvira</td>\n",
       "      <td>Sange</td>\n",
       "      <td>-3.0833</td>\n",
       "      <td>29.1167</td>\n",
       "      <td>Election-Net</td>\n",
       "      <td>National</td>\n",
       "      <td>0</td>\n",
       "      <td>1.596482e+09</td>\n",
       "      <td>60.0</td>\n",
       "    </tr>\n",
       "  </tbody>\n",
       "</table>\n",
       "<p>17417 rows × 20 columns</p>\n",
       "</div>"
      ],
      "text/plain": [
       "       event_id_no_cnty event_date  year              event_type  \\\n",
       "0                    65 1997-02-27  1997                 Battles   \n",
       "1                    66 1997-02-28  1997  Strategic developments   \n",
       "2                    67 1997-02-28  1997                 Battles   \n",
       "3                    68 1997-03-01  1997                 Battles   \n",
       "4                    69 1997-03-01  1997                 Battles   \n",
       "...                 ...        ...   ...                     ...   \n",
       "17412             18039 2020-07-31  2020                   Riots   \n",
       "17413             18040 2020-08-01  2020                Protests   \n",
       "17414             18041 2020-08-01  2020                Protests   \n",
       "17415             18042 2020-08-01  2020                Protests   \n",
       "17416             18043 2020-08-01  2020                Protests   \n",
       "\n",
       "                            sub_event_type  \\\n",
       "0      Non-state actor overtakes territory   \n",
       "1                 Change to group/activity   \n",
       "2                              Armed clash   \n",
       "3      Non-state actor overtakes territory   \n",
       "4      Non-state actor overtakes territory   \n",
       "...                                    ...   \n",
       "17412                Violent demonstration   \n",
       "17413                     Peaceful protest   \n",
       "17414                     Peaceful protest   \n",
       "17415                     Peaceful protest   \n",
       "17416                     Peaceful protest   \n",
       "\n",
       "                                                  actor1  \\\n",
       "0      ADFL: Alliance of Democratic Forces for Libera...   \n",
       "1      ADFL: Alliance of Democratic Forces for Libera...   \n",
       "2      ADFL: Alliance of Democratic Forces for Libera...   \n",
       "3      ADFL: Alliance of Democratic Forces for Libera...   \n",
       "4      ADFL: Alliance of Democratic Forces for Libera...   \n",
       "...                                                  ...   \n",
       "17412             Rioters (Democratic Republic of Congo)   \n",
       "17413          Protesters (Democratic Republic of Congo)   \n",
       "17414          Protesters (Democratic Republic of Congo)   \n",
       "17415          Protesters (Democratic Republic of Congo)   \n",
       "17416          Protesters (Democratic Republic of Congo)   \n",
       "\n",
       "                     assoc_actor_1  \\\n",
       "0                              NaN   \n",
       "1                              NaN   \n",
       "2                              NaN   \n",
       "3                              NaN   \n",
       "4                              NaN   \n",
       "...                            ...   \n",
       "17412                          NaN   \n",
       "17413      LUCHA: Fight for Change   \n",
       "17414  FCC: Common Front for Congo   \n",
       "17415  FCC: Common Front for Congo   \n",
       "17416      LUCHA: Fight for Change   \n",
       "\n",
       "                                                  actor2 assoc_actor_2  \\\n",
       "0      Military Forces of the Democratic Republic of ...           NaN   \n",
       "1                                                    NaN           NaN   \n",
       "2      Military Forces of the Democratic Republic of ...           NaN   \n",
       "3      Military Forces of the Democratic Republic of ...           NaN   \n",
       "4      Military Forces of the Democratic Republic of ...           NaN   \n",
       "...                                                  ...           ...   \n",
       "17412  Police Forces of the Democratic Republic of Co...           NaN   \n",
       "17413                                                NaN           NaN   \n",
       "17414                                                NaN           NaN   \n",
       "17415                                                NaN           NaN   \n",
       "17416                                                NaN           NaN   \n",
       "\n",
       "         province1  province2  province3     localite  latitude  longitude  \\\n",
       "0          Maniema      Kindu      Kindu        Kindu   -2.9437    25.9224   \n",
       "1           Tshopo  Kisangani  Kisangani    Kisangani    0.5147    25.1896   \n",
       "2           Tshopo  Kisangani  Kisangani    Kisangani    0.5147    25.1896   \n",
       "3      Haut-Lomami     Kamina     Kamina  Kanamononga   -8.8116    24.5602   \n",
       "4          Maniema      Kindu      Kindu        Kindu   -2.9437    25.9224   \n",
       "...            ...        ...        ...          ...       ...        ...   \n",
       "17412     Sud-Kivu      Uvira      Uvira        Sange   -3.0833    29.1167   \n",
       "17413     Sud-Kivu     Bukavu     Bukavu       Bukavu   -2.5000    28.8667   \n",
       "17414        Ituri      Irumu      Irumu        Bunia    1.5667    30.2500   \n",
       "17415   Sud-Ubangi     Gemena     Gemena       Gemena    3.2500    19.7667   \n",
       "17416     Sud-Kivu      Uvira      Uvira        Sange   -3.0833    29.1167   \n",
       "\n",
       "                                                source          source_scale  \\\n",
       "0                                              Reuters         International   \n",
       "1                                         Local Source           Subnational   \n",
       "2                                           All Africa              Regional   \n",
       "3      Africa Confidential; Africa Contemporary Record        Other-Regional   \n",
       "4      Africa Contemporary Record; Africa Confidential        Other-Regional   \n",
       "...                                                ...                   ...   \n",
       "17412                         La Prunelle; Radio Okapi  Subnational-National   \n",
       "17413                                      La Prunelle           Subnational   \n",
       "17414                                        Actualite              National   \n",
       "17415                                        Actualite              National   \n",
       "17416                                     Election-Net              National   \n",
       "\n",
       "       faits     timestamp  interactions  \n",
       "0          0  1.585692e+09          12.0  \n",
       "1          0  1.574110e+09          20.0  \n",
       "2          0  1.585692e+09          12.0  \n",
       "3          0  1.585692e+09          12.0  \n",
       "4          0  1.585692e+09          12.0  \n",
       "...      ...           ...           ...  \n",
       "17412      0  1.596482e+09          15.0  \n",
       "17413      0  1.596482e+09          60.0  \n",
       "17414      0  1.596482e+09          60.0  \n",
       "17415      0  1.596482e+09          60.0  \n",
       "17416      0  1.596482e+09          60.0  \n",
       "\n",
       "[17417 rows x 20 columns]"
      ]
     },
     "execution_count": 82,
     "metadata": {},
     "output_type": "execute_result"
    }
   ],
   "source": [
    "df #nouveau DataFrame principal"
   ]
  },
  {
   "cell_type": "markdown",
   "metadata": {},
   "source": [
    "***On va devoir dissocier DataFrame de visualisation et DataFrame pour la rpediction en aprtant du df principale***"
   ]
  },
  {
   "cell_type": "code",
   "execution_count": 83,
   "metadata": {
    "execution": {
     "iopub.execute_input": "2021-07-28T22:25:29.722229Z",
     "iopub.status.busy": "2021-07-28T22:25:29.721601Z",
     "iopub.status.idle": "2021-07-28T22:25:29.732349Z",
     "shell.execute_reply": "2021-07-28T22:25:29.731259Z",
     "shell.execute_reply.started": "2021-07-28T22:25:29.722165Z"
    }
   },
   "outputs": [],
   "source": [
    "df_viz = df.copy()"
   ]
  },
  {
   "cell_type": "markdown",
   "metadata": {},
   "source": [
    "### 3.3 ) Les questions"
   ]
  },
  {
   "cell_type": "markdown",
   "metadata": {},
   "source": [
    "    0) Matrice de covariance\n",
    "    0.1) Des affichages simples\n",
    "    1) Nombre de victimes par provinces\n",
    "    2) Nombre de morts dans l'armée et dans la société civile\n",
    "    3) Observer les faits durant les années\n",
    "    4) Moyenne des décès par année\n",
    "    5) La proportion des types d'évenements\n",
    "    6) Représentation spatiale des localités (+ le point 4)\n",
    "    7) Représenter l'évolution des types d'évenements pendant le temps\n",
    "    8) Observer les interractions durant les années\n",
    "    9) Nuages de points avec x et y comme latitude et longitude et, localité comme des points étiquettes Localite(latitude,longitude) et jointplot\n",
    "    10) Connaître les sources qui informe le plus et, les sources qui informes le moins\n",
    "    11) Moyenne des décès par année avec un box plot\n",
    "    12) réaliser une matrice colorié (Heat Map) pour représenter le nombre de fois que les acteurs ont organisés une manifestations entre 1997 et 2020\n",
    "    13) En partant des 3 meilleurs sources, représenter sur 3 années prises au hasard, le nombre d'évenemnts\n",
    "    14) Retoucher (design) le dataset avec plotly\n",
    "    15) Représentation en groupe by\n",
    "    16) Matrice de covariance finale"
   ]
  },
  {
   "cell_type": "markdown",
   "metadata": {
    "execution": {
     "iopub.execute_input": "2021-07-26T23:48:03.550976Z",
     "iopub.status.busy": "2021-07-26T23:48:03.550483Z",
     "iopub.status.idle": "2021-07-26T23:48:03.59348Z",
     "shell.execute_reply": "2021-07-26T23:48:03.592656Z",
     "shell.execute_reply.started": "2021-07-26T23:48:03.550944Z"
    }
   },
   "source": [
    "### 3.4 ) Les réponses : visualisations"
   ]
  },
  {
   "cell_type": "markdown",
   "metadata": {},
   "source": [
    "##### 0) Matrice de covariance"
   ]
  },
  {
   "cell_type": "code",
   "execution_count": 84,
   "metadata": {
    "execution": {
     "iopub.execute_input": "2021-07-28T22:25:30.696797Z",
     "iopub.status.busy": "2021-07-28T22:25:30.696375Z",
     "iopub.status.idle": "2021-07-28T22:25:30.734609Z",
     "shell.execute_reply": "2021-07-28T22:25:30.733561Z",
     "shell.execute_reply.started": "2021-07-28T22:25:30.696761Z"
    }
   },
   "outputs": [
    {
     "name": "stdout",
     "output_type": "stream",
     "text": [
      "<class 'pandas.core.frame.DataFrame'>\n",
      "RangeIndex: 17417 entries, 0 to 17416\n",
      "Data columns (total 20 columns):\n",
      " #   Column            Non-Null Count  Dtype         \n",
      "---  ------            --------------  -----         \n",
      " 0   event_id_no_cnty  17417 non-null  int64         \n",
      " 1   event_date        17417 non-null  datetime64[ns]\n",
      " 2   year              17417 non-null  int64         \n",
      " 3   event_type        17417 non-null  object        \n",
      " 4   sub_event_type    17417 non-null  object        \n",
      " 5   actor1            17417 non-null  object        \n",
      " 6   assoc_actor_1     2861 non-null   object        \n",
      " 7   actor2            15022 non-null  object        \n",
      " 8   assoc_actor_2     2623 non-null   object        \n",
      " 9   province1         17417 non-null  object        \n",
      " 10  province2         17417 non-null  object        \n",
      " 11  province3         17393 non-null  object        \n",
      " 12  localite          17417 non-null  object        \n",
      " 13  latitude          17417 non-null  float64       \n",
      " 14  longitude         17417 non-null  float64       \n",
      " 15  source            17417 non-null  object        \n",
      " 16  source_scale      17417 non-null  object        \n",
      " 17  faits             17417 non-null  int64         \n",
      " 18  timestamp         17417 non-null  float64       \n",
      " 19  interactions      17417 non-null  float64       \n",
      "dtypes: datetime64[ns](1), float64(4), int64(3), object(12)\n",
      "memory usage: 2.7+ MB\n"
     ]
    }
   ],
   "source": [
    "df_viz.info()"
   ]
  },
  {
   "cell_type": "code",
   "execution_count": 87,
   "metadata": {
    "execution": {
     "iopub.execute_input": "2021-07-28T22:25:44.180489Z",
     "iopub.status.busy": "2021-07-28T22:25:44.180121Z",
     "iopub.status.idle": "2021-07-28T22:25:53.320534Z",
     "shell.execute_reply": "2021-07-28T22:25:53.319799Z",
     "shell.execute_reply.started": "2021-07-28T22:25:44.180458Z"
    }
   },
   "outputs": [
    {
     "data": {
      "text/plain": [
       "array([[<AxesSubplot:xlabel='event_id_no_cnty', ylabel='event_id_no_cnty'>,\n",
       "        <AxesSubplot:xlabel='year', ylabel='event_id_no_cnty'>,\n",
       "        <AxesSubplot:xlabel='latitude', ylabel='event_id_no_cnty'>,\n",
       "        <AxesSubplot:xlabel='longitude', ylabel='event_id_no_cnty'>,\n",
       "        <AxesSubplot:xlabel='timestamp', ylabel='event_id_no_cnty'>,\n",
       "        <AxesSubplot:xlabel='interactions', ylabel='event_id_no_cnty'>,\n",
       "        <AxesSubplot:xlabel='faits', ylabel='event_id_no_cnty'>],\n",
       "       [<AxesSubplot:xlabel='event_id_no_cnty', ylabel='year'>,\n",
       "        <AxesSubplot:xlabel='year', ylabel='year'>,\n",
       "        <AxesSubplot:xlabel='latitude', ylabel='year'>,\n",
       "        <AxesSubplot:xlabel='longitude', ylabel='year'>,\n",
       "        <AxesSubplot:xlabel='timestamp', ylabel='year'>,\n",
       "        <AxesSubplot:xlabel='interactions', ylabel='year'>,\n",
       "        <AxesSubplot:xlabel='faits', ylabel='year'>],\n",
       "       [<AxesSubplot:xlabel='event_id_no_cnty', ylabel='latitude'>,\n",
       "        <AxesSubplot:xlabel='year', ylabel='latitude'>,\n",
       "        <AxesSubplot:xlabel='latitude', ylabel='latitude'>,\n",
       "        <AxesSubplot:xlabel='longitude', ylabel='latitude'>,\n",
       "        <AxesSubplot:xlabel='timestamp', ylabel='latitude'>,\n",
       "        <AxesSubplot:xlabel='interactions', ylabel='latitude'>,\n",
       "        <AxesSubplot:xlabel='faits', ylabel='latitude'>],\n",
       "       [<AxesSubplot:xlabel='event_id_no_cnty', ylabel='longitude'>,\n",
       "        <AxesSubplot:xlabel='year', ylabel='longitude'>,\n",
       "        <AxesSubplot:xlabel='latitude', ylabel='longitude'>,\n",
       "        <AxesSubplot:xlabel='longitude', ylabel='longitude'>,\n",
       "        <AxesSubplot:xlabel='timestamp', ylabel='longitude'>,\n",
       "        <AxesSubplot:xlabel='interactions', ylabel='longitude'>,\n",
       "        <AxesSubplot:xlabel='faits', ylabel='longitude'>],\n",
       "       [<AxesSubplot:xlabel='event_id_no_cnty', ylabel='timestamp'>,\n",
       "        <AxesSubplot:xlabel='year', ylabel='timestamp'>,\n",
       "        <AxesSubplot:xlabel='latitude', ylabel='timestamp'>,\n",
       "        <AxesSubplot:xlabel='longitude', ylabel='timestamp'>,\n",
       "        <AxesSubplot:xlabel='timestamp', ylabel='timestamp'>,\n",
       "        <AxesSubplot:xlabel='interactions', ylabel='timestamp'>,\n",
       "        <AxesSubplot:xlabel='faits', ylabel='timestamp'>],\n",
       "       [<AxesSubplot:xlabel='event_id_no_cnty', ylabel='interactions'>,\n",
       "        <AxesSubplot:xlabel='year', ylabel='interactions'>,\n",
       "        <AxesSubplot:xlabel='latitude', ylabel='interactions'>,\n",
       "        <AxesSubplot:xlabel='longitude', ylabel='interactions'>,\n",
       "        <AxesSubplot:xlabel='timestamp', ylabel='interactions'>,\n",
       "        <AxesSubplot:xlabel='interactions', ylabel='interactions'>,\n",
       "        <AxesSubplot:xlabel='faits', ylabel='interactions'>],\n",
       "       [<AxesSubplot:xlabel='event_id_no_cnty', ylabel='faits'>,\n",
       "        <AxesSubplot:xlabel='year', ylabel='faits'>,\n",
       "        <AxesSubplot:xlabel='latitude', ylabel='faits'>,\n",
       "        <AxesSubplot:xlabel='longitude', ylabel='faits'>,\n",
       "        <AxesSubplot:xlabel='timestamp', ylabel='faits'>,\n",
       "        <AxesSubplot:xlabel='interactions', ylabel='faits'>,\n",
       "        <AxesSubplot:xlabel='faits', ylabel='faits'>]], dtype=object)"
      ]
     },
     "execution_count": 87,
     "metadata": {},
     "output_type": "execute_result"
    },
    {
     "data": {
      "text/plain": [
       "<Figure size 1080x360 with 0 Axes>"
      ]
     },
     "metadata": {},
     "output_type": "display_data"
    },
    {
     "data": {
      "image/png": "[encoded data removed]",
      "text/plain": [
       "<Figure size 864x576 with 49 Axes>"
      ]
     },
     "metadata": {
      "needs_background": "light"
     },
     "output_type": "display_data"
    }
   ],
   "source": [
    "plt.figure(figsize=(15,5))\n",
    "attributes = [\"event_id_no_cnty\",\"year\",\"latitude\",\"longitude\",\"timestamp\",\"interactions\",\"faits\"]\n",
    "pd.plotting.scatter_matrix(df_viz[attributes], figsize=(12,8), color=[\"black\"])"
   ]
  },
  {
   "cell_type": "markdown",
   "metadata": {},
   "source": [
    "##### 0) Des affichages simples"
   ]
  },
  {
   "cell_type": "code",
   "execution_count": 92,
   "metadata": {
    "execution": {
     "iopub.execute_input": "2021-07-28T22:28:24.420921Z",
     "iopub.status.busy": "2021-07-28T22:28:24.420539Z",
     "iopub.status.idle": "2021-07-28T22:28:25.915139Z",
     "shell.execute_reply": "2021-07-28T22:28:25.914007Z",
     "shell.execute_reply.started": "2021-07-28T22:28:24.420889Z"
    }
   },
   "outputs": [
    {
     "data": {
      "image/png": "[encoded data removed]",
      "text/plain": [
       "<Figure size 2160x1800 with 9 Axes>"
      ]
     },
     "metadata": {
      "needs_background": "light"
     },
     "output_type": "display_data"
    }
   ],
   "source": [
    "%matplotlib inline\n",
    "df_viz.hist(figsize=(30,25),color='blue')\n",
    "plt.show()"
   ]
  },
  {
   "cell_type": "markdown",
   "metadata": {},
   "source": [
    "##### 1) Nombre de victimes par provinces"
   ]
  },
  {
   "cell_type": "code",
   "execution_count": 111,
   "metadata": {
    "execution": {
     "iopub.execute_input": "2021-07-28T22:54:42.787502Z",
     "iopub.status.busy": "2021-07-28T22:54:42.786621Z",
     "iopub.status.idle": "2021-07-28T22:54:42.796211Z",
     "shell.execute_reply": "2021-07-28T22:54:42.795250Z",
     "shell.execute_reply.started": "2021-07-28T22:54:42.787446Z"
    }
   },
   "outputs": [
    {
     "data": {
      "text/plain": [
       "26"
      ]
     },
     "execution_count": 111,
     "metadata": {},
     "output_type": "execute_result"
    }
   ],
   "source": [
    "len(df_viz.province1.unique())"
   ]
  },
  {
   "cell_type": "code",
   "execution_count": 120,
   "metadata": {
    "execution": {
     "iopub.execute_input": "2021-07-28T22:59:29.224779Z",
     "iopub.status.busy": "2021-07-28T22:59:29.224350Z",
     "iopub.status.idle": "2021-07-28T22:59:29.348347Z",
     "shell.execute_reply": "2021-07-28T22:59:29.347400Z",
     "shell.execute_reply.started": "2021-07-28T22:59:29.224740Z"
    }
   },
   "outputs": [
    {
     "data": {
      "text/html": [
       "<div>\n",
       "<style scoped>\n",
       "    .dataframe tbody tr th:only-of-type {\n",
       "        vertical-align: middle;\n",
       "    }\n",
       "\n",
       "    .dataframe tbody tr th {\n",
       "        vertical-align: top;\n",
       "    }\n",
       "\n",
       "    .dataframe thead th {\n",
       "        text-align: right;\n",
       "    }\n",
       "</style>\n",
       "<table border=\"1\" class=\"dataframe\">\n",
       "  <thead>\n",
       "    <tr style=\"text-align: right;\">\n",
       "      <th></th>\n",
       "      <th>provinces</th>\n",
       "      <th>faits</th>\n",
       "    </tr>\n",
       "  </thead>\n",
       "  <tbody>\n",
       "    <tr>\n",
       "      <th>0</th>\n",
       "      <td>Maniema</td>\n",
       "      <td>892</td>\n",
       "    </tr>\n",
       "    <tr>\n",
       "      <th>1</th>\n",
       "      <td>Tshopo</td>\n",
       "      <td>1561</td>\n",
       "    </tr>\n",
       "    <tr>\n",
       "      <th>2</th>\n",
       "      <td>Haut-Lomami</td>\n",
       "      <td>238</td>\n",
       "    </tr>\n",
       "    <tr>\n",
       "      <th>3</th>\n",
       "      <td>Sud-Kivu</td>\n",
       "      <td>11058</td>\n",
       "    </tr>\n",
       "    <tr>\n",
       "      <th>4</th>\n",
       "      <td>Ituri</td>\n",
       "      <td>13685</td>\n",
       "    </tr>\n",
       "    <tr>\n",
       "      <th>5</th>\n",
       "      <td>Tanganyika</td>\n",
       "      <td>1850</td>\n",
       "    </tr>\n",
       "    <tr>\n",
       "      <th>6</th>\n",
       "      <td>Kinshasa</td>\n",
       "      <td>2213</td>\n",
       "    </tr>\n",
       "    <tr>\n",
       "      <th>7</th>\n",
       "      <td>Kongo-Central</td>\n",
       "      <td>1026</td>\n",
       "    </tr>\n",
       "    <tr>\n",
       "      <th>8</th>\n",
       "      <td>Nord-Kivu</td>\n",
       "      <td>14575</td>\n",
       "    </tr>\n",
       "    <tr>\n",
       "      <th>9</th>\n",
       "      <td>Haut-Katanga</td>\n",
       "      <td>1506</td>\n",
       "    </tr>\n",
       "    <tr>\n",
       "      <th>10</th>\n",
       "      <td>Kasai-Oriental</td>\n",
       "      <td>133</td>\n",
       "    </tr>\n",
       "    <tr>\n",
       "      <th>11</th>\n",
       "      <td>Haut-Uele</td>\n",
       "      <td>3509</td>\n",
       "    </tr>\n",
       "    <tr>\n",
       "      <th>12</th>\n",
       "      <td>Kwango</td>\n",
       "      <td>40</td>\n",
       "    </tr>\n",
       "    <tr>\n",
       "      <th>13</th>\n",
       "      <td>Kasai-Central</td>\n",
       "      <td>1180</td>\n",
       "    </tr>\n",
       "    <tr>\n",
       "      <th>14</th>\n",
       "      <td>Mai-Ndombe</td>\n",
       "      <td>567</td>\n",
       "    </tr>\n",
       "    <tr>\n",
       "      <th>15</th>\n",
       "      <td>Tshuapa</td>\n",
       "      <td>812</td>\n",
       "    </tr>\n",
       "    <tr>\n",
       "      <th>16</th>\n",
       "      <td>Kasai</td>\n",
       "      <td>978</td>\n",
       "    </tr>\n",
       "    <tr>\n",
       "      <th>17</th>\n",
       "      <td>Kwilu</td>\n",
       "      <td>626</td>\n",
       "    </tr>\n",
       "    <tr>\n",
       "      <th>18</th>\n",
       "      <td>Mongala</td>\n",
       "      <td>231</td>\n",
       "    </tr>\n",
       "    <tr>\n",
       "      <th>19</th>\n",
       "      <td>Nord-Ubangi</td>\n",
       "      <td>43</td>\n",
       "    </tr>\n",
       "    <tr>\n",
       "      <th>20</th>\n",
       "      <td>Equateur</td>\n",
       "      <td>1324</td>\n",
       "    </tr>\n",
       "    <tr>\n",
       "      <th>21</th>\n",
       "      <td>Sud-Ubangi</td>\n",
       "      <td>717</td>\n",
       "    </tr>\n",
       "    <tr>\n",
       "      <th>22</th>\n",
       "      <td>Lualaba</td>\n",
       "      <td>310</td>\n",
       "    </tr>\n",
       "    <tr>\n",
       "      <th>23</th>\n",
       "      <td>Sankuru</td>\n",
       "      <td>300</td>\n",
       "    </tr>\n",
       "    <tr>\n",
       "      <th>24</th>\n",
       "      <td>Bas-Uele</td>\n",
       "      <td>1049</td>\n",
       "    </tr>\n",
       "    <tr>\n",
       "      <th>25</th>\n",
       "      <td>Lomami</td>\n",
       "      <td>1001</td>\n",
       "    </tr>\n",
       "  </tbody>\n",
       "</table>\n",
       "</div>"
      ],
      "text/plain": [
       "         provinces  faits\n",
       "0          Maniema    892\n",
       "1           Tshopo   1561\n",
       "2      Haut-Lomami    238\n",
       "3         Sud-Kivu  11058\n",
       "4            Ituri  13685\n",
       "5       Tanganyika   1850\n",
       "6         Kinshasa   2213\n",
       "7    Kongo-Central   1026\n",
       "8        Nord-Kivu  14575\n",
       "9     Haut-Katanga   1506\n",
       "10  Kasai-Oriental    133\n",
       "11       Haut-Uele   3509\n",
       "12          Kwango     40\n",
       "13   Kasai-Central   1180\n",
       "14      Mai-Ndombe    567\n",
       "15         Tshuapa    812\n",
       "16           Kasai    978\n",
       "17           Kwilu    626\n",
       "18         Mongala    231\n",
       "19     Nord-Ubangi     43\n",
       "20        Equateur   1324\n",
       "21      Sud-Ubangi    717\n",
       "22         Lualaba    310\n",
       "23         Sankuru    300\n",
       "24        Bas-Uele   1049\n",
       "25          Lomami   1001"
      ]
     },
     "execution_count": 120,
     "metadata": {},
     "output_type": "execute_result"
    }
   ],
   "source": [
    "vect = []\n",
    "for province in df_viz.province1.unique():\n",
    "    df_new = df_viz[df_viz.province1==province]\n",
    "    x = sum(df_new.faits[:])    \n",
    "    df_new_2 = pd.DataFrame()   \n",
    "    vect.append({'provinces':province,'faits':x})\n",
    "df_faits_province = pd.DataFrame(vect)\n",
    "df_faits_province"
   ]
  },
  {
   "cell_type": "code",
   "execution_count": 124,
   "metadata": {
    "execution": {
     "iopub.execute_input": "2021-07-28T23:01:43.030020Z",
     "iopub.status.busy": "2021-07-28T23:01:43.029598Z",
     "iopub.status.idle": "2021-07-28T23:01:43.355055Z",
     "shell.execute_reply": "2021-07-28T23:01:43.353951Z",
     "shell.execute_reply.started": "2021-07-28T23:01:43.029984Z"
    }
   },
   "outputs": [
    {
     "data": {
      "image/png": "[encoded data removed]",
      "text/plain": [
       "<Figure size 1080x360 with 1 Axes>"
      ]
     },
     "metadata": {
      "needs_background": "light"
     },
     "output_type": "display_data"
    }
   ],
   "source": [
    "plt.figure(figsize=(15,5))\n",
    "ax = plt.axes()\n",
    "ax.set(facecolor = \"white\")\n",
    "y = np.array(df_faits_province.faits)\n",
    "x = np.array(df_faits_province.provinces)\n",
    "plt.barh(x, y, color=\"#000000\")\n",
    "plt.show()"
   ]
  },
  {
   "cell_type": "code",
   "execution_count": 128,
   "metadata": {
    "execution": {
     "iopub.execute_input": "2021-07-28T23:04:19.377523Z",
     "iopub.status.busy": "2021-07-28T23:04:19.377107Z",
     "iopub.status.idle": "2021-07-28T23:04:19.746436Z",
     "shell.execute_reply": "2021-07-28T23:04:19.745252Z",
     "shell.execute_reply.started": "2021-07-28T23:04:19.377474Z"
    }
   },
   "outputs": [
    {
     "data": {
      "image/png": "[encoded data removed]",
      "text/plain": [
       "<Figure size 576x720 with 1 Axes>"
      ]
     },
     "metadata": {
      "needs_background": "light"
     },
     "output_type": "display_data"
    }
   ],
   "source": [
    "plt.figure(figsize=(8,10))\n",
    "sns.barplot(x=df_faits_province['faits'], y= df_faits_province['provinces'])\n",
    "plt.show()"
   ]
  },
  {
   "cell_type": "markdown",
   "metadata": {},
   "source": [
    "##### 2) Nombre de morts dans l'armée et dans la société civile"
   ]
  },
  {
   "cell_type": "code",
   "execution_count": null,
   "metadata": {},
   "outputs": [],
   "source": []
  },
  {
   "cell_type": "markdown",
   "metadata": {},
   "source": [
    "##### 3) Observer les faits durant les années"
   ]
  },
  {
   "cell_type": "code",
   "execution_count": 130,
   "metadata": {
    "execution": {
     "iopub.execute_input": "2021-07-28T23:12:11.428358Z",
     "iopub.status.busy": "2021-07-28T23:12:11.427552Z",
     "iopub.status.idle": "2021-07-28T23:12:11.615447Z",
     "shell.execute_reply": "2021-07-28T23:12:11.614474Z",
     "shell.execute_reply.started": "2021-07-28T23:12:11.428305Z"
    }
   },
   "outputs": [
    {
     "data": {
      "text/plain": [
       "[<matplotlib.lines.Line2D at 0x7fa8a9ae0990>]"
      ]
     },
     "execution_count": 130,
     "metadata": {},
     "output_type": "execute_result"
    },
    {
     "data": {
      "image/png": "[encoded data removed]",
      "text/plain": [
       "<Figure size 432x288 with 1 Axes>"
      ]
     },
     "metadata": {
      "needs_background": "light"
     },
     "output_type": "display_data"
    }
   ],
   "source": [
    "ax = plt.axes()\n",
    "ax.set(facecolor = \"white\")\n",
    "plt.title(\"Série temporelle de l'évolution des faits annuels\",fontsize=14)\n",
    "plt.plot(df_viz[\"year\"],df_viz[\"faits\"],color=\"#000000\")"
   ]
  },
  {
   "cell_type": "markdown",
   "metadata": {},
   "source": [
    "##### 4) Moyenne des décès par année"
   ]
  },
  {
   "cell_type": "markdown",
   "metadata": {},
   "source": [
    "1) chaque année on a eu combien de manif n = nombre d'occurence de mani par année\n",
    "2) sum = sommer les faits de cette année (chaque année)\n",
    "3) moy = sum/n\n",
    ": ex : en 2020 on a eu les faits  suivants : 0, 10 , 50 , 60\n",
    "donc on a eu n = 4 et, sum = 120\n",
    "conclusion : moy = 120/4 = 30."
   ]
  },
  {
   "cell_type": "code",
   "execution_count": 131,
   "metadata": {
    "execution": {
     "iopub.execute_input": "2021-07-28T23:36:46.239429Z",
     "iopub.status.busy": "2021-07-28T23:36:46.238922Z",
     "iopub.status.idle": "2021-07-28T23:36:46.333097Z",
     "shell.execute_reply": "2021-07-28T23:36:46.332039Z",
     "shell.execute_reply.started": "2021-07-28T23:36:46.239392Z"
    }
   },
   "outputs": [
    {
     "data": {
      "text/html": [
       "<div>\n",
       "<style scoped>\n",
       "    .dataframe tbody tr th:only-of-type {\n",
       "        vertical-align: middle;\n",
       "    }\n",
       "\n",
       "    .dataframe tbody tr th {\n",
       "        vertical-align: top;\n",
       "    }\n",
       "\n",
       "    .dataframe thead th {\n",
       "        text-align: right;\n",
       "    }\n",
       "</style>\n",
       "<table border=\"1\" class=\"dataframe\">\n",
       "  <thead>\n",
       "    <tr style=\"text-align: right;\">\n",
       "      <th></th>\n",
       "      <th>year</th>\n",
       "      <th>moyenne_faits</th>\n",
       "    </tr>\n",
       "  </thead>\n",
       "  <tbody>\n",
       "    <tr>\n",
       "      <th>0</th>\n",
       "      <td>1997</td>\n",
       "      <td>10.273543</td>\n",
       "    </tr>\n",
       "    <tr>\n",
       "      <th>1</th>\n",
       "      <td>1998</td>\n",
       "      <td>10.971061</td>\n",
       "    </tr>\n",
       "    <tr>\n",
       "      <th>2</th>\n",
       "      <td>1999</td>\n",
       "      <td>14.972332</td>\n",
       "    </tr>\n",
       "    <tr>\n",
       "      <th>3</th>\n",
       "      <td>2000</td>\n",
       "      <td>8.134615</td>\n",
       "    </tr>\n",
       "    <tr>\n",
       "      <th>4</th>\n",
       "      <td>2001</td>\n",
       "      <td>7.199396</td>\n",
       "    </tr>\n",
       "    <tr>\n",
       "      <th>5</th>\n",
       "      <td>2002</td>\n",
       "      <td>15.877604</td>\n",
       "    </tr>\n",
       "    <tr>\n",
       "      <th>6</th>\n",
       "      <td>2003</td>\n",
       "      <td>11.989437</td>\n",
       "    </tr>\n",
       "    <tr>\n",
       "      <th>7</th>\n",
       "      <td>2004</td>\n",
       "      <td>1.724138</td>\n",
       "    </tr>\n",
       "    <tr>\n",
       "      <th>8</th>\n",
       "      <td>2005</td>\n",
       "      <td>1.889632</td>\n",
       "    </tr>\n",
       "    <tr>\n",
       "      <th>9</th>\n",
       "      <td>2006</td>\n",
       "      <td>1.248485</td>\n",
       "    </tr>\n",
       "    <tr>\n",
       "      <th>10</th>\n",
       "      <td>2007</td>\n",
       "      <td>1.486486</td>\n",
       "    </tr>\n",
       "    <tr>\n",
       "      <th>11</th>\n",
       "      <td>2008</td>\n",
       "      <td>5.173516</td>\n",
       "    </tr>\n",
       "    <tr>\n",
       "      <th>12</th>\n",
       "      <td>2009</td>\n",
       "      <td>9.809316</td>\n",
       "    </tr>\n",
       "    <tr>\n",
       "      <th>13</th>\n",
       "      <td>2010</td>\n",
       "      <td>4.811881</td>\n",
       "    </tr>\n",
       "    <tr>\n",
       "      <th>14</th>\n",
       "      <td>2011</td>\n",
       "      <td>0.738975</td>\n",
       "    </tr>\n",
       "    <tr>\n",
       "      <th>15</th>\n",
       "      <td>2012</td>\n",
       "      <td>1.410281</td>\n",
       "    </tr>\n",
       "    <tr>\n",
       "      <th>16</th>\n",
       "      <td>2013</td>\n",
       "      <td>2.368547</td>\n",
       "    </tr>\n",
       "    <tr>\n",
       "      <th>17</th>\n",
       "      <td>2014</td>\n",
       "      <td>1.170314</td>\n",
       "    </tr>\n",
       "    <tr>\n",
       "      <th>18</th>\n",
       "      <td>2015</td>\n",
       "      <td>2.105137</td>\n",
       "    </tr>\n",
       "    <tr>\n",
       "      <th>19</th>\n",
       "      <td>2016</td>\n",
       "      <td>1.795666</td>\n",
       "    </tr>\n",
       "    <tr>\n",
       "      <th>20</th>\n",
       "      <td>2017</td>\n",
       "      <td>3.019755</td>\n",
       "    </tr>\n",
       "    <tr>\n",
       "      <th>21</th>\n",
       "      <td>2018</td>\n",
       "      <td>1.871221</td>\n",
       "    </tr>\n",
       "    <tr>\n",
       "      <th>22</th>\n",
       "      <td>2019</td>\n",
       "      <td>1.430577</td>\n",
       "    </tr>\n",
       "    <tr>\n",
       "      <th>23</th>\n",
       "      <td>2020</td>\n",
       "      <td>2.016283</td>\n",
       "    </tr>\n",
       "  </tbody>\n",
       "</table>\n",
       "</div>"
      ],
      "text/plain": [
       "    year  moyenne_faits\n",
       "0   1997      10.273543\n",
       "1   1998      10.971061\n",
       "2   1999      14.972332\n",
       "3   2000       8.134615\n",
       "4   2001       7.199396\n",
       "5   2002      15.877604\n",
       "6   2003      11.989437\n",
       "7   2004       1.724138\n",
       "8   2005       1.889632\n",
       "9   2006       1.248485\n",
       "10  2007       1.486486\n",
       "11  2008       5.173516\n",
       "12  2009       9.809316\n",
       "13  2010       4.811881\n",
       "14  2011       0.738975\n",
       "15  2012       1.410281\n",
       "16  2013       2.368547\n",
       "17  2014       1.170314\n",
       "18  2015       2.105137\n",
       "19  2016       1.795666\n",
       "20  2017       3.019755\n",
       "21  2018       1.871221\n",
       "22  2019       1.430577\n",
       "23  2020       2.016283"
      ]
     },
     "execution_count": 131,
     "metadata": {},
     "output_type": "execute_result"
    }
   ],
   "source": [
    "vect = []\n",
    "for annee in df_viz.year.unique():\n",
    "    df_new = df_viz[df_viz.year==annee]\n",
    "    x = sum(df_new.faits[:])    \n",
    "    y = x/len(df_new)\n",
    "    df_new_2 = pd.DataFrame()   \n",
    "    vect.append({'year':annee,'moyenne_faits':y})\n",
    "df_moyenne_faits = pd.DataFrame(vect)\n",
    "df_moyenne_faits"
   ]
  },
  {
   "cell_type": "code",
   "execution_count": 166,
   "metadata": {
    "execution": {
     "iopub.execute_input": "2021-07-28T23:55:41.794063Z",
     "iopub.status.busy": "2021-07-28T23:55:41.793618Z",
     "iopub.status.idle": "2021-07-28T23:55:41.800073Z",
     "shell.execute_reply": "2021-07-28T23:55:41.798586Z",
     "shell.execute_reply.started": "2021-07-28T23:55:41.794026Z"
    }
   },
   "outputs": [],
   "source": [
    "vect_year=[]\n",
    "for i in df_moyenne_faits.year.unique():\n",
    "    vect_year.append(i)"
   ]
  },
  {
   "cell_type": "code",
   "execution_count": 167,
   "metadata": {
    "execution": {
     "iopub.execute_input": "2021-07-28T23:56:29.202932Z",
     "iopub.status.busy": "2021-07-28T23:56:29.202547Z",
     "iopub.status.idle": "2021-07-28T23:56:29.207496Z",
     "shell.execute_reply": "2021-07-28T23:56:29.206482Z",
     "shell.execute_reply.started": "2021-07-28T23:56:29.202901Z"
    }
   },
   "outputs": [],
   "source": [
    "vect_faits_moyen=[]\n",
    "for i in df_moyenne_faits.moyenne_faits:\n",
    "    vect_faits_moyen.append(i)"
   ]
  },
  {
   "cell_type": "code",
   "execution_count": 175,
   "metadata": {
    "execution": {
     "iopub.execute_input": "2021-07-28T23:59:10.576099Z",
     "iopub.status.busy": "2021-07-28T23:59:10.575508Z",
     "iopub.status.idle": "2021-07-28T23:59:10.590358Z",
     "shell.execute_reply": "2021-07-28T23:59:10.589263Z",
     "shell.execute_reply.started": "2021-07-28T23:59:10.576062Z"
    }
   },
   "outputs": [
    {
     "data": {
      "text/html": [
       "<div>                            <div id=\"b3861d58-a60a-4e63-a60a-916a407e47ba\" class=\"plotly-graph-div\" style=\"height:525px; width:100%;\"></div>            <script type=\"text/javascript\">                require([\"plotly\"], function(Plotly) {                    window.PLOTLYENV=window.PLOTLYENV || {};                                    if (document.getElementById(\"b3861d58-a60a-4e63-a60a-916a407e47ba\")) {                    Plotly.newPlot(                        \"b3861d58-a60a-4e63-a60a-916a407e47ba\",                        [{\"marker\":{\"size\":[1,2,3,4,5,6,7,8,9,10,11,12,13,14,15,16]},\"mode\":\"markers\",\"type\":\"scatter\",\"x\":[1997,1998,1999,2000,2001,2002,2003,2004,2005,2006,2007,2008,2009,2010,2011,2012,2013,2014,2015,2016,2017,2018,2019,2020],\"y\":[10.27354260089686,10.971061093247588,14.972332015810277,8.134615384615385,7.19939577039275,15.877604166666666,11.98943661971831,1.7241379310344827,1.8896321070234114,1.2484848484848485,1.4864864864864864,5.17351598173516,9.809315866084425,4.811881188118812,0.7389749702026222,1.4102812803103784,2.3685474189675872,1.170313986679353,2.105137395459976,1.7956656346749227,3.019755409219191,1.8712212817412335,1.4305772230889235,2.0162829870859067]}],                        {\"template\":{\"data\":{\"bar\":[{\"error_x\":{\"color\":\"#2a3f5f\"},\"error_y\":{\"color\":\"#2a3f5f\"},\"marker\":{\"line\":{\"color\":\"#E5ECF6\",\"width\":0.5},\"pattern\":{\"fillmode\":\"overlay\",\"size\":10,\"solidity\":0.2}},\"type\":\"bar\"}],\"barpolar\":[{\"marker\":{\"line\":{\"color\":\"#E5ECF6\",\"width\":0.5},\"pattern\":{\"fillmode\":\"overlay\",\"size\":10,\"solidity\":0.2}},\"type\":\"barpolar\"}],\"carpet\":[{\"aaxis\":{\"endlinecolor\":\"#2a3f5f\",\"gridcolor\":\"white\",\"linecolor\":\"white\",\"minorgridcolor\":\"white\",\"startlinecolor\":\"#2a3f5f\"},\"baxis\":{\"endlinecolor\":\"#2a3f5f\",\"gridcolor\":\"white\",\"linecolor\":\"white\",\"minorgridcolor\":\"white\",\"startlinecolor\":\"#2a3f5f\"},\"type\":\"carpet\"}],\"choropleth\":[{\"colorbar\":{\"outlinewidth\":0,\"ticks\":\"\"},\"type\":\"choropleth\"}],\"contour\":[{\"colorbar\":{\"outlinewidth\":0,\"ticks\":\"\"},\"colorscale\":[[0.0,\"#0d0887\"],[0.1111111111111111,\"#46039f\"],[0.2222222222222222,\"#7201a8\"],[0.3333333333333333,\"#9c179e\"],[0.4444444444444444,\"#bd3786\"],[0.5555555555555556,\"#d8576b\"],[0.6666666666666666,\"#ed7953\"],[0.7777777777777778,\"#fb9f3a\"],[0.8888888888888888,\"#fdca26\"],[1.0,\"#f0f921\"]],\"type\":\"contour\"}],\"contourcarpet\":[{\"colorbar\":{\"outlinewidth\":0,\"ticks\":\"\"},\"type\":\"contourcarpet\"}],\"heatmap\":[{\"colorbar\":{\"outlinewidth\":0,\"ticks\":\"\"},\"colorscale\":[[0.0,\"#0d0887\"],[0.1111111111111111,\"#46039f\"],[0.2222222222222222,\"#7201a8\"],[0.3333333333333333,\"#9c179e\"],[0.4444444444444444,\"#bd3786\"],[0.5555555555555556,\"#d8576b\"],[0.6666666666666666,\"#ed7953\"],[0.7777777777777778,\"#fb9f3a\"],[0.8888888888888888,\"#fdca26\"],[1.0,\"#f0f921\"]],\"type\":\"heatmap\"}],\"heatmapgl\":[{\"colorbar\":{\"outlinewidth\":0,\"ticks\":\"\"},\"colorscale\":[[0.0,\"#0d0887\"],[0.1111111111111111,\"#46039f\"],[0.2222222222222222,\"#7201a8\"],[0.3333333333333333,\"#9c179e\"],[0.4444444444444444,\"#bd3786\"],[0.5555555555555556,\"#d8576b\"],[0.6666666666666666,\"#ed7953\"],[0.7777777777777778,\"#fb9f3a\"],[0.8888888888888888,\"#fdca26\"],[1.0,\"#f0f921\"]],\"type\":\"heatmapgl\"}],\"histogram\":[{\"marker\":{\"pattern\":{\"fillmode\":\"overlay\",\"size\":10,\"solidity\":0.2}},\"type\":\"histogram\"}],\"histogram2d\":[{\"colorbar\":{\"outlinewidth\":0,\"ticks\":\"\"},\"colorscale\":[[0.0,\"#0d0887\"],[0.1111111111111111,\"#46039f\"],[0.2222222222222222,\"#7201a8\"],[0.3333333333333333,\"#9c179e\"],[0.4444444444444444,\"#bd3786\"],[0.5555555555555556,\"#d8576b\"],[0.6666666666666666,\"#ed7953\"],[0.7777777777777778,\"#fb9f3a\"],[0.8888888888888888,\"#fdca26\"],[1.0,\"#f0f921\"]],\"type\":\"histogram2d\"}],\"histogram2dcontour\":[{\"colorbar\":{\"outlinewidth\":0,\"ticks\":\"\"},\"colorscale\":[[0.0,\"#0d0887\"],[0.1111111111111111,\"#46039f\"],[0.2222222222222222,\"#7201a8\"],[0.3333333333333333,\"#9c179e\"],[0.4444444444444444,\"#bd3786\"],[0.5555555555555556,\"#d8576b\"],[0.6666666666666666,\"#ed7953\"],[0.7777777777777778,\"#fb9f3a\"],[0.8888888888888888,\"#fdca26\"],[1.0,\"#f0f921\"]],\"type\":\"histogram2dcontour\"}],\"mesh3d\":[{\"colorbar\":{\"outlinewidth\":0,\"ticks\":\"\"},\"type\":\"mesh3d\"}],\"parcoords\":[{\"line\":{\"colorbar\":{\"outlinewidth\":0,\"ticks\":\"\"}},\"type\":\"parcoords\"}],\"pie\":[{\"automargin\":true,\"type\":\"pie\"}],\"scatter\":[{\"marker\":{\"colorbar\":{\"outlinewidth\":0,\"ticks\":\"\"}},\"type\":\"scatter\"}],\"scatter3d\":[{\"line\":{\"colorbar\":{\"outlinewidth\":0,\"ticks\":\"\"}},\"marker\":{\"colorbar\":{\"outlinewidth\":0,\"ticks\":\"\"}},\"type\":\"scatter3d\"}],\"scattercarpet\":[{\"marker\":{\"colorbar\":{\"outlinewidth\":0,\"ticks\":\"\"}},\"type\":\"scattercarpet\"}],\"scattergeo\":[{\"marker\":{\"colorbar\":{\"outlinewidth\":0,\"ticks\":\"\"}},\"type\":\"scattergeo\"}],\"scattergl\":[{\"marker\":{\"colorbar\":{\"outlinewidth\":0,\"ticks\":\"\"}},\"type\":\"scattergl\"}],\"scattermapbox\":[{\"marker\":{\"colorbar\":{\"outlinewidth\":0,\"ticks\":\"\"}},\"type\":\"scattermapbox\"}],\"scatterpolar\":[{\"marker\":{\"colorbar\":{\"outlinewidth\":0,\"ticks\":\"\"}},\"type\":\"scatterpolar\"}],\"scatterpolargl\":[{\"marker\":{\"colorbar\":{\"outlinewidth\":0,\"ticks\":\"\"}},\"type\":\"scatterpolargl\"}],\"scatterternary\":[{\"marker\":{\"colorbar\":{\"outlinewidth\":0,\"ticks\":\"\"}},\"type\":\"scatterternary\"}],\"surface\":[{\"colorbar\":{\"outlinewidth\":0,\"ticks\":\"\"},\"colorscale\":[[0.0,\"#0d0887\"],[0.1111111111111111,\"#46039f\"],[0.2222222222222222,\"#7201a8\"],[0.3333333333333333,\"#9c179e\"],[0.4444444444444444,\"#bd3786\"],[0.5555555555555556,\"#d8576b\"],[0.6666666666666666,\"#ed7953\"],[0.7777777777777778,\"#fb9f3a\"],[0.8888888888888888,\"#fdca26\"],[1.0,\"#f0f921\"]],\"type\":\"surface\"}],\"table\":[{\"cells\":{\"fill\":{\"color\":\"#EBF0F8\"},\"line\":{\"color\":\"white\"}},\"header\":{\"fill\":{\"color\":\"#C8D4E3\"},\"line\":{\"color\":\"white\"}},\"type\":\"table\"}]},\"layout\":{\"annotationdefaults\":{\"arrowcolor\":\"#2a3f5f\",\"arrowhead\":0,\"arrowwidth\":1},\"autotypenumbers\":\"strict\",\"coloraxis\":{\"colorbar\":{\"outlinewidth\":0,\"ticks\":\"\"}},\"colorscale\":{\"diverging\":[[0,\"#8e0152\"],[0.1,\"#c51b7d\"],[0.2,\"#de77ae\"],[0.3,\"#f1b6da\"],[0.4,\"#fde0ef\"],[0.5,\"#f7f7f7\"],[0.6,\"#e6f5d0\"],[0.7,\"#b8e186\"],[0.8,\"#7fbc41\"],[0.9,\"#4d9221\"],[1,\"#276419\"]],\"sequential\":[[0.0,\"#0d0887\"],[0.1111111111111111,\"#46039f\"],[0.2222222222222222,\"#7201a8\"],[0.3333333333333333,\"#9c179e\"],[0.4444444444444444,\"#bd3786\"],[0.5555555555555556,\"#d8576b\"],[0.6666666666666666,\"#ed7953\"],[0.7777777777777778,\"#fb9f3a\"],[0.8888888888888888,\"#fdca26\"],[1.0,\"#f0f921\"]],\"sequentialminus\":[[0.0,\"#0d0887\"],[0.1111111111111111,\"#46039f\"],[0.2222222222222222,\"#7201a8\"],[0.3333333333333333,\"#9c179e\"],[0.4444444444444444,\"#bd3786\"],[0.5555555555555556,\"#d8576b\"],[0.6666666666666666,\"#ed7953\"],[0.7777777777777778,\"#fb9f3a\"],[0.8888888888888888,\"#fdca26\"],[1.0,\"#f0f921\"]]},\"colorway\":[\"#636efa\",\"#EF553B\",\"#00cc96\",\"#ab63fa\",\"#FFA15A\",\"#19d3f3\",\"#FF6692\",\"#B6E880\",\"#FF97FF\",\"#FECB52\"],\"font\":{\"color\":\"#2a3f5f\"},\"geo\":{\"bgcolor\":\"white\",\"lakecolor\":\"white\",\"landcolor\":\"#E5ECF6\",\"showlakes\":true,\"showland\":true,\"subunitcolor\":\"white\"},\"hoverlabel\":{\"align\":\"left\"},\"hovermode\":\"closest\",\"mapbox\":{\"style\":\"light\"},\"paper_bgcolor\":\"white\",\"plot_bgcolor\":\"#E5ECF6\",\"polar\":{\"angularaxis\":{\"gridcolor\":\"white\",\"linecolor\":\"white\",\"ticks\":\"\"},\"bgcolor\":\"#E5ECF6\",\"radialaxis\":{\"gridcolor\":\"white\",\"linecolor\":\"white\",\"ticks\":\"\"}},\"scene\":{\"xaxis\":{\"backgroundcolor\":\"#E5ECF6\",\"gridcolor\":\"white\",\"gridwidth\":2,\"linecolor\":\"white\",\"showbackground\":true,\"ticks\":\"\",\"zerolinecolor\":\"white\"},\"yaxis\":{\"backgroundcolor\":\"#E5ECF6\",\"gridcolor\":\"white\",\"gridwidth\":2,\"linecolor\":\"white\",\"showbackground\":true,\"ticks\":\"\",\"zerolinecolor\":\"white\"},\"zaxis\":{\"backgroundcolor\":\"#E5ECF6\",\"gridcolor\":\"white\",\"gridwidth\":2,\"linecolor\":\"white\",\"showbackground\":true,\"ticks\":\"\",\"zerolinecolor\":\"white\"}},\"shapedefaults\":{\"line\":{\"color\":\"#2a3f5f\"}},\"ternary\":{\"aaxis\":{\"gridcolor\":\"white\",\"linecolor\":\"white\",\"ticks\":\"\"},\"baxis\":{\"gridcolor\":\"white\",\"linecolor\":\"white\",\"ticks\":\"\"},\"bgcolor\":\"#E5ECF6\",\"caxis\":{\"gridcolor\":\"white\",\"linecolor\":\"white\",\"ticks\":\"\"}},\"title\":{\"x\":0.05},\"xaxis\":{\"automargin\":true,\"gridcolor\":\"white\",\"linecolor\":\"white\",\"ticks\":\"\",\"title\":{\"standoff\":15},\"zerolinecolor\":\"white\",\"zerolinewidth\":2},\"yaxis\":{\"automargin\":true,\"gridcolor\":\"white\",\"linecolor\":\"white\",\"ticks\":\"\",\"title\":{\"standoff\":15},\"zerolinecolor\":\"white\",\"zerolinewidth\":2}}}},                        {\"responsive\": true}                    ).then(function(){\n",
       "                            \n",
       "var gd = document.getElementById('b3861d58-a60a-4e63-a60a-916a407e47ba');\n",
       "var x = new MutationObserver(function (mutations, observer) {{\n",
       "        var display = window.getComputedStyle(gd).display;\n",
       "        if (!display || display === 'none') {{\n",
       "            console.log([gd, 'removed!']);\n",
       "            Plotly.purge(gd);\n",
       "            observer.disconnect();\n",
       "        }}\n",
       "}});\n",
       "\n",
       "// Listen for the removal of the full notebook cells\n",
       "var notebookContainer = gd.closest('#notebook-container');\n",
       "if (notebookContainer) {{\n",
       "    x.observe(notebookContainer, {childList: true});\n",
       "}}\n",
       "\n",
       "// Listen for the clearing of the current output cell\n",
       "var outputEl = gd.closest('.output');\n",
       "if (outputEl) {{\n",
       "    x.observe(outputEl, {childList: true});\n",
       "}}\n",
       "\n",
       "                        })                };                });            </script>        </div>"
      ]
     },
     "metadata": {},
     "output_type": "display_data"
    }
   ],
   "source": [
    "import plotly.graph_objects as go\n",
    "\n",
    "fig = go.Figure(data=[go.Scatter(x=vect_year, y=vect_faits_moyen,mode='markers', marker_size=[1,2,3,4,5,6,7,8,9,10,11,12,13,14,15,16])\n",
    "])\n",
    "\n",
    "fig.show()"
   ]
  },
  {
   "cell_type": "markdown",
   "metadata": {},
   "source": [
    "##### 6) Représentation spatiale des localités (+ le point 4) "
   ]
  },
  {
   "cell_type": "code",
   "execution_count": 176,
   "metadata": {
    "execution": {
     "iopub.execute_input": "2021-07-29T00:04:24.566942Z",
     "iopub.status.busy": "2021-07-29T00:04:24.566455Z",
     "iopub.status.idle": "2021-07-29T00:04:24.585108Z",
     "shell.execute_reply": "2021-07-29T00:04:24.583896Z",
     "shell.execute_reply.started": "2021-07-29T00:04:24.566900Z"
    }
   },
   "outputs": [],
   "source": [
    "world = flm.Map(location=[0,0], zoom_start=2)"
   ]
  },
  {
   "cell_type": "code",
   "execution_count": 177,
   "metadata": {
    "execution": {
     "iopub.execute_input": "2021-07-29T00:04:34.560533Z",
     "iopub.status.busy": "2021-07-29T00:04:34.560177Z",
     "iopub.status.idle": "2021-07-29T00:04:34.572934Z",
     "shell.execute_reply": "2021-07-29T00:04:34.571497Z",
     "shell.execute_reply.started": "2021-07-29T00:04:34.560503Z"
    }
   },
   "outputs": [
    {
     "data": {
      "text/html": [
       "<div style=\"width:100%;\"><div style=\"position:relative;width:100%;height:0;padding-bottom:60%;\"><span style=\"color:#565656\">Make this Notebook Trusted to load map: File -> Trust Notebook</span><iframe src=\"about:blank\" style=\"position:absolute;width:100%;height:100%;left:0;top:0;border:none !important;\" data-html=%3C%21DOCTYPE%20html%3E%0A%3Chead%3E%20%20%20%20%0A%20%20%20%20%3Cmeta%20http-equiv%3D%22content-type%22%20content%3D%22text/html%3B%20charset%3DUTF-8%22%20/%3E%0A%20%20%20%20%0A%20%20%20%20%20%20%20%20%3Cscript%3E%0A%20%20%20%20%20%20%20%20%20%20%20%20L_NO_TOUCH%20%3D%20false%3B%0A%20%20%20%20%20%20%20%20%20%20%20%20L_DISABLE_3D%20%3D%20false%3B%0A%20%20%20%20%20%20%20%20%3C/script%3E%0A%20%20%20%20%0A%20%20%20%20%3Cstyle%3Ehtml%2C%20body%20%7Bwidth%3A%20100%25%3Bheight%3A%20100%25%3Bmargin%3A%200%3Bpadding%3A%200%3B%7D%3C/style%3E%0A%20%20%20%20%3Cstyle%3E%23map%20%7Bposition%3Aabsolute%3Btop%3A0%3Bbottom%3A0%3Bright%3A0%3Bleft%3A0%3B%7D%3C/style%3E%0A%20%20%20%20%3Cscript%20src%3D%22https%3A//cdn.jsdelivr.net/npm/leaflet%401.6.0/dist/leaflet.js%22%3E%3C/script%3E%0A%20%20%20%20%3Cscript%20src%3D%22https%3A//code.jquery.com/jquery-1.12.4.min.js%22%3E%3C/script%3E%0A%20%20%20%20%3Cscript%20src%3D%22https%3A//maxcdn.bootstrapcdn.com/bootstrap/3.2.0/js/bootstrap.min.js%22%3E%3C/script%3E%0A%20%20%20%20%3Cscript%20src%3D%22https%3A//cdnjs.cloudflare.com/ajax/libs/Leaflet.awesome-markers/2.0.2/leaflet.awesome-markers.js%22%3E%3C/script%3E%0A%20%20%20%20%3Clink%20rel%3D%22stylesheet%22%20href%3D%22https%3A//cdn.jsdelivr.net/npm/leaflet%401.6.0/dist/leaflet.css%22/%3E%0A%20%20%20%20%3Clink%20rel%3D%22stylesheet%22%20href%3D%22https%3A//maxcdn.bootstrapcdn.com/bootstrap/3.2.0/css/bootstrap.min.css%22/%3E%0A%20%20%20%20%3Clink%20rel%3D%22stylesheet%22%20href%3D%22https%3A//maxcdn.bootstrapcdn.com/bootstrap/3.2.0/css/bootstrap-theme.min.css%22/%3E%0A%20%20%20%20%3Clink%20rel%3D%22stylesheet%22%20href%3D%22https%3A//maxcdn.bootstrapcdn.com/font-awesome/4.6.3/css/font-awesome.min.css%22/%3E%0A%20%20%20%20%3Clink%20rel%3D%22stylesheet%22%20href%3D%22https%3A//cdnjs.cloudflare.com/ajax/libs/Leaflet.awesome-markers/2.0.2/leaflet.awesome-markers.css%22/%3E%0A%20%20%20%20%3Clink%20rel%3D%22stylesheet%22%20href%3D%22https%3A//cdn.jsdelivr.net/gh/python-visualization/folium/folium/templates/leaflet.awesome.rotate.min.css%22/%3E%0A%20%20%20%20%0A%20%20%20%20%20%20%20%20%20%20%20%20%3Cmeta%20name%3D%22viewport%22%20content%3D%22width%3Ddevice-width%2C%0A%20%20%20%20%20%20%20%20%20%20%20%20%20%20%20%20initial-scale%3D1.0%2C%20maximum-scale%3D1.0%2C%20user-scalable%3Dno%22%20/%3E%0A%20%20%20%20%20%20%20%20%20%20%20%20%3Cstyle%3E%0A%20%20%20%20%20%20%20%20%20%20%20%20%20%20%20%20%23map_b9e8a26acc9b46a98d10288920c74f3a%20%7B%0A%20%20%20%20%20%20%20%20%20%20%20%20%20%20%20%20%20%20%20%20position%3A%20relative%3B%0A%20%20%20%20%20%20%20%20%20%20%20%20%20%20%20%20%20%20%20%20width%3A%20100.0%25%3B%0A%20%20%20%20%20%20%20%20%20%20%20%20%20%20%20%20%20%20%20%20height%3A%20100.0%25%3B%0A%20%20%20%20%20%20%20%20%20%20%20%20%20%20%20%20%20%20%20%20left%3A%200.0%25%3B%0A%20%20%20%20%20%20%20%20%20%20%20%20%20%20%20%20%20%20%20%20top%3A%200.0%25%3B%0A%20%20%20%20%20%20%20%20%20%20%20%20%20%20%20%20%7D%0A%20%20%20%20%20%20%20%20%20%20%20%20%3C/style%3E%0A%20%20%20%20%20%20%20%20%0A%3C/head%3E%0A%3Cbody%3E%20%20%20%20%0A%20%20%20%20%0A%20%20%20%20%20%20%20%20%20%20%20%20%3Cdiv%20class%3D%22folium-map%22%20id%3D%22map_b9e8a26acc9b46a98d10288920c74f3a%22%20%3E%3C/div%3E%0A%20%20%20%20%20%20%20%20%0A%3C/body%3E%0A%3Cscript%3E%20%20%20%20%0A%20%20%20%20%0A%20%20%20%20%20%20%20%20%20%20%20%20var%20map_b9e8a26acc9b46a98d10288920c74f3a%20%3D%20L.map%28%0A%20%20%20%20%20%20%20%20%20%20%20%20%20%20%20%20%22map_b9e8a26acc9b46a98d10288920c74f3a%22%2C%0A%20%20%20%20%20%20%20%20%20%20%20%20%20%20%20%20%7B%0A%20%20%20%20%20%20%20%20%20%20%20%20%20%20%20%20%20%20%20%20center%3A%20%5B0.0%2C%200.0%5D%2C%0A%20%20%20%20%20%20%20%20%20%20%20%20%20%20%20%20%20%20%20%20crs%3A%20L.CRS.EPSG3857%2C%0A%20%20%20%20%20%20%20%20%20%20%20%20%20%20%20%20%20%20%20%20zoom%3A%202%2C%0A%20%20%20%20%20%20%20%20%20%20%20%20%20%20%20%20%20%20%20%20zoomControl%3A%20true%2C%0A%20%20%20%20%20%20%20%20%20%20%20%20%20%20%20%20%20%20%20%20preferCanvas%3A%20false%2C%0A%20%20%20%20%20%20%20%20%20%20%20%20%20%20%20%20%7D%0A%20%20%20%20%20%20%20%20%20%20%20%20%29%3B%0A%0A%20%20%20%20%20%20%20%20%20%20%20%20%0A%0A%20%20%20%20%20%20%20%20%0A%20%20%20%20%0A%20%20%20%20%20%20%20%20%20%20%20%20var%20tile_layer_0b01fadca904440f9652230b9e0cc149%20%3D%20L.tileLayer%28%0A%20%20%20%20%20%20%20%20%20%20%20%20%20%20%20%20%22https%3A//%7Bs%7D.tile.openstreetmap.org/%7Bz%7D/%7Bx%7D/%7By%7D.png%22%2C%0A%20%20%20%20%20%20%20%20%20%20%20%20%20%20%20%20%7B%22attribution%22%3A%20%22Data%20by%20%5Cu0026copy%3B%20%5Cu003ca%20href%3D%5C%22http%3A//openstreetmap.org%5C%22%5Cu003eOpenStreetMap%5Cu003c/a%5Cu003e%2C%20under%20%5Cu003ca%20href%3D%5C%22http%3A//www.openstreetmap.org/copyright%5C%22%5Cu003eODbL%5Cu003c/a%5Cu003e.%22%2C%20%22detectRetina%22%3A%20false%2C%20%22maxNativeZoom%22%3A%2018%2C%20%22maxZoom%22%3A%2018%2C%20%22minZoom%22%3A%200%2C%20%22noWrap%22%3A%20false%2C%20%22opacity%22%3A%201%2C%20%22subdomains%22%3A%20%22abc%22%2C%20%22tms%22%3A%20false%7D%0A%20%20%20%20%20%20%20%20%20%20%20%20%29.addTo%28map_b9e8a26acc9b46a98d10288920c74f3a%29%3B%0A%20%20%20%20%20%20%20%20%0A%3C/script%3E onload=\"this.contentDocument.open();this.contentDocument.write(    decodeURIComponent(this.getAttribute('data-html')));this.contentDocument.close();\" allowfullscreen webkitallowfullscreen mozallowfullscreen></iframe></div></div>"
      ],
      "text/plain": [
       "<folium.folium.Map at 0x7fa8a5b538d0>"
      ]
     },
     "execution_count": 177,
     "metadata": {},
     "output_type": "execute_result"
    }
   ],
   "source": [
    "world"
   ]
  },
  {
   "cell_type": "code",
   "execution_count": 186,
   "metadata": {
    "execution": {
     "iopub.execute_input": "2021-07-29T00:17:22.633897Z",
     "iopub.status.busy": "2021-07-29T00:17:22.633466Z",
     "iopub.status.idle": "2021-07-29T00:17:22.665677Z",
     "shell.execute_reply": "2021-07-29T00:17:22.663380Z",
     "shell.execute_reply.started": "2021-07-29T00:17:22.633863Z"
    }
   },
   "outputs": [
    {
     "ename": "ValueError",
     "evalue": "Expected object or value",
     "output_type": "error",
     "traceback": [
      "\u001b[0;31m---------------------------------------------------------------------------\u001b[0m",
      "\u001b[0;31mValueError\u001b[0m                                Traceback (most recent call last)",
      "\u001b[0;32m<ipython-input-186-e9de9865fe74>\u001b[0m in \u001b[0;36m<module>\u001b[0;34m\u001b[0m\n\u001b[0;32m----> 1\u001b[0;31m \u001b[0mwc\u001b[0m \u001b[0;34m=\u001b[0m \u001b[0mpd\u001b[0m\u001b[0;34m.\u001b[0m\u001b[0mread_json\u001b[0m\u001b[0;34m(\u001b[0m\u001b[0;34m\"github.com/python-visualization/folium/blob/master/examples/data/world-countries.json\"\u001b[0m\u001b[0;34m)\u001b[0m\u001b[0;34m\u001b[0m\u001b[0;34m\u001b[0m\u001b[0m\n\u001b[0m",
      "\u001b[0;32m/opt/conda/lib/python3.7/site-packages/pandas/util/_decorators.py\u001b[0m in \u001b[0;36mwrapper\u001b[0;34m(*args, **kwargs)\u001b[0m\n\u001b[1;32m    197\u001b[0m                 \u001b[0;32melse\u001b[0m\u001b[0;34m:\u001b[0m\u001b[0;34m\u001b[0m\u001b[0;34m\u001b[0m\u001b[0m\n\u001b[1;32m    198\u001b[0m                     \u001b[0mkwargs\u001b[0m\u001b[0;34m[\u001b[0m\u001b[0mnew_arg_name\u001b[0m\u001b[0;34m]\u001b[0m \u001b[0;34m=\u001b[0m \u001b[0mnew_arg_value\u001b[0m\u001b[0;34m\u001b[0m\u001b[0;34m\u001b[0m\u001b[0m\n\u001b[0;32m--> 199\u001b[0;31m             \u001b[0;32mreturn\u001b[0m \u001b[0mfunc\u001b[0m\u001b[0;34m(\u001b[0m\u001b[0;34m*\u001b[0m\u001b[0margs\u001b[0m\u001b[0;34m,\u001b[0m \u001b[0;34m**\u001b[0m\u001b[0mkwargs\u001b[0m\u001b[0;34m)\u001b[0m\u001b[0;34m\u001b[0m\u001b[0;34m\u001b[0m\u001b[0m\n\u001b[0m\u001b[1;32m    200\u001b[0m \u001b[0;34m\u001b[0m\u001b[0m\n\u001b[1;32m    201\u001b[0m         \u001b[0;32mreturn\u001b[0m \u001b[0mcast\u001b[0m\u001b[0;34m(\u001b[0m\u001b[0mF\u001b[0m\u001b[0;34m,\u001b[0m \u001b[0mwrapper\u001b[0m\u001b[0;34m)\u001b[0m\u001b[0;34m\u001b[0m\u001b[0;34m\u001b[0m\u001b[0m\n",
      "\u001b[0;32m/opt/conda/lib/python3.7/site-packages/pandas/util/_decorators.py\u001b[0m in \u001b[0;36mwrapper\u001b[0;34m(*args, **kwargs)\u001b[0m\n\u001b[1;32m    297\u001b[0m                 )\n\u001b[1;32m    298\u001b[0m                 \u001b[0mwarnings\u001b[0m\u001b[0;34m.\u001b[0m\u001b[0mwarn\u001b[0m\u001b[0;34m(\u001b[0m\u001b[0mmsg\u001b[0m\u001b[0;34m,\u001b[0m \u001b[0mFutureWarning\u001b[0m\u001b[0;34m,\u001b[0m \u001b[0mstacklevel\u001b[0m\u001b[0;34m=\u001b[0m\u001b[0mstacklevel\u001b[0m\u001b[0;34m)\u001b[0m\u001b[0;34m\u001b[0m\u001b[0;34m\u001b[0m\u001b[0m\n\u001b[0;32m--> 299\u001b[0;31m             \u001b[0;32mreturn\u001b[0m \u001b[0mfunc\u001b[0m\u001b[0;34m(\u001b[0m\u001b[0;34m*\u001b[0m\u001b[0margs\u001b[0m\u001b[0;34m,\u001b[0m \u001b[0;34m**\u001b[0m\u001b[0mkwargs\u001b[0m\u001b[0;34m)\u001b[0m\u001b[0;34m\u001b[0m\u001b[0;34m\u001b[0m\u001b[0m\n\u001b[0m\u001b[1;32m    300\u001b[0m \u001b[0;34m\u001b[0m\u001b[0m\n\u001b[1;32m    301\u001b[0m         \u001b[0;32mreturn\u001b[0m \u001b[0mwrapper\u001b[0m\u001b[0;34m\u001b[0m\u001b[0;34m\u001b[0m\u001b[0m\n",
      "\u001b[0;32m/opt/conda/lib/python3.7/site-packages/pandas/io/json/_json.py\u001b[0m in \u001b[0;36mread_json\u001b[0;34m(path_or_buf, orient, typ, dtype, convert_axes, convert_dates, keep_default_dates, numpy, precise_float, date_unit, encoding, lines, chunksize, compression, nrows, storage_options)\u001b[0m\n\u001b[1;32m    561\u001b[0m \u001b[0;34m\u001b[0m\u001b[0m\n\u001b[1;32m    562\u001b[0m     \u001b[0;32mwith\u001b[0m \u001b[0mjson_reader\u001b[0m\u001b[0;34m:\u001b[0m\u001b[0;34m\u001b[0m\u001b[0;34m\u001b[0m\u001b[0m\n\u001b[0;32m--> 563\u001b[0;31m         \u001b[0;32mreturn\u001b[0m \u001b[0mjson_reader\u001b[0m\u001b[0;34m.\u001b[0m\u001b[0mread\u001b[0m\u001b[0;34m(\u001b[0m\u001b[0;34m)\u001b[0m\u001b[0;34m\u001b[0m\u001b[0;34m\u001b[0m\u001b[0m\n\u001b[0m\u001b[1;32m    564\u001b[0m \u001b[0;34m\u001b[0m\u001b[0m\n\u001b[1;32m    565\u001b[0m \u001b[0;34m\u001b[0m\u001b[0m\n",
      "\u001b[0;32m/opt/conda/lib/python3.7/site-packages/pandas/io/json/_json.py\u001b[0m in \u001b[0;36mread\u001b[0;34m(self)\u001b[0m\n\u001b[1;32m    692\u001b[0m                 \u001b[0mobj\u001b[0m \u001b[0;34m=\u001b[0m \u001b[0mself\u001b[0m\u001b[0;34m.\u001b[0m\u001b[0m_get_object_parser\u001b[0m\u001b[0;34m(\u001b[0m\u001b[0mself\u001b[0m\u001b[0;34m.\u001b[0m\u001b[0m_combine_lines\u001b[0m\u001b[0;34m(\u001b[0m\u001b[0mdata_lines\u001b[0m\u001b[0;34m)\u001b[0m\u001b[0;34m)\u001b[0m\u001b[0;34m\u001b[0m\u001b[0;34m\u001b[0m\u001b[0m\n\u001b[1;32m    693\u001b[0m         \u001b[0;32melse\u001b[0m\u001b[0;34m:\u001b[0m\u001b[0;34m\u001b[0m\u001b[0;34m\u001b[0m\u001b[0m\n\u001b[0;32m--> 694\u001b[0;31m             \u001b[0mobj\u001b[0m \u001b[0;34m=\u001b[0m \u001b[0mself\u001b[0m\u001b[0;34m.\u001b[0m\u001b[0m_get_object_parser\u001b[0m\u001b[0;34m(\u001b[0m\u001b[0mself\u001b[0m\u001b[0;34m.\u001b[0m\u001b[0mdata\u001b[0m\u001b[0;34m)\u001b[0m\u001b[0;34m\u001b[0m\u001b[0;34m\u001b[0m\u001b[0m\n\u001b[0m\u001b[1;32m    695\u001b[0m         \u001b[0mself\u001b[0m\u001b[0;34m.\u001b[0m\u001b[0mclose\u001b[0m\u001b[0;34m(\u001b[0m\u001b[0;34m)\u001b[0m\u001b[0;34m\u001b[0m\u001b[0;34m\u001b[0m\u001b[0m\n\u001b[1;32m    696\u001b[0m         \u001b[0;32mreturn\u001b[0m \u001b[0mobj\u001b[0m\u001b[0;34m\u001b[0m\u001b[0;34m\u001b[0m\u001b[0m\n",
      "\u001b[0;32m/opt/conda/lib/python3.7/site-packages/pandas/io/json/_json.py\u001b[0m in \u001b[0;36m_get_object_parser\u001b[0;34m(self, json)\u001b[0m\n\u001b[1;32m    714\u001b[0m         \u001b[0mobj\u001b[0m \u001b[0;34m=\u001b[0m \u001b[0;32mNone\u001b[0m\u001b[0;34m\u001b[0m\u001b[0;34m\u001b[0m\u001b[0m\n\u001b[1;32m    715\u001b[0m         \u001b[0;32mif\u001b[0m \u001b[0mtyp\u001b[0m \u001b[0;34m==\u001b[0m \u001b[0;34m\"frame\"\u001b[0m\u001b[0;34m:\u001b[0m\u001b[0;34m\u001b[0m\u001b[0;34m\u001b[0m\u001b[0m\n\u001b[0;32m--> 716\u001b[0;31m             \u001b[0mobj\u001b[0m \u001b[0;34m=\u001b[0m \u001b[0mFrameParser\u001b[0m\u001b[0;34m(\u001b[0m\u001b[0mjson\u001b[0m\u001b[0;34m,\u001b[0m \u001b[0;34m**\u001b[0m\u001b[0mkwargs\u001b[0m\u001b[0;34m)\u001b[0m\u001b[0;34m.\u001b[0m\u001b[0mparse\u001b[0m\u001b[0;34m(\u001b[0m\u001b[0;34m)\u001b[0m\u001b[0;34m\u001b[0m\u001b[0;34m\u001b[0m\u001b[0m\n\u001b[0m\u001b[1;32m    717\u001b[0m \u001b[0;34m\u001b[0m\u001b[0m\n\u001b[1;32m    718\u001b[0m         \u001b[0;32mif\u001b[0m \u001b[0mtyp\u001b[0m \u001b[0;34m==\u001b[0m \u001b[0;34m\"series\"\u001b[0m \u001b[0;32mor\u001b[0m \u001b[0mobj\u001b[0m \u001b[0;32mis\u001b[0m \u001b[0;32mNone\u001b[0m\u001b[0;34m:\u001b[0m\u001b[0;34m\u001b[0m\u001b[0;34m\u001b[0m\u001b[0m\n",
      "\u001b[0;32m/opt/conda/lib/python3.7/site-packages/pandas/io/json/_json.py\u001b[0m in \u001b[0;36mparse\u001b[0;34m(self)\u001b[0m\n\u001b[1;32m    829\u001b[0m \u001b[0;34m\u001b[0m\u001b[0m\n\u001b[1;32m    830\u001b[0m         \u001b[0;32melse\u001b[0m\u001b[0;34m:\u001b[0m\u001b[0;34m\u001b[0m\u001b[0;34m\u001b[0m\u001b[0m\n\u001b[0;32m--> 831\u001b[0;31m             \u001b[0mself\u001b[0m\u001b[0;34m.\u001b[0m\u001b[0m_parse_no_numpy\u001b[0m\u001b[0;34m(\u001b[0m\u001b[0;34m)\u001b[0m\u001b[0;34m\u001b[0m\u001b[0;34m\u001b[0m\u001b[0m\n\u001b[0m\u001b[1;32m    832\u001b[0m \u001b[0;34m\u001b[0m\u001b[0m\n\u001b[1;32m    833\u001b[0m         \u001b[0;32mif\u001b[0m \u001b[0mself\u001b[0m\u001b[0;34m.\u001b[0m\u001b[0mobj\u001b[0m \u001b[0;32mis\u001b[0m \u001b[0;32mNone\u001b[0m\u001b[0;34m:\u001b[0m\u001b[0;34m\u001b[0m\u001b[0;34m\u001b[0m\u001b[0m\n",
      "\u001b[0;32m/opt/conda/lib/python3.7/site-packages/pandas/io/json/_json.py\u001b[0m in \u001b[0;36m_parse_no_numpy\u001b[0;34m(self)\u001b[0m\n\u001b[1;32m   1077\u001b[0m         \u001b[0;32mif\u001b[0m \u001b[0morient\u001b[0m \u001b[0;34m==\u001b[0m \u001b[0;34m\"columns\"\u001b[0m\u001b[0;34m:\u001b[0m\u001b[0;34m\u001b[0m\u001b[0;34m\u001b[0m\u001b[0m\n\u001b[1;32m   1078\u001b[0m             self.obj = DataFrame(\n\u001b[0;32m-> 1079\u001b[0;31m                 \u001b[0mloads\u001b[0m\u001b[0;34m(\u001b[0m\u001b[0mjson\u001b[0m\u001b[0;34m,\u001b[0m \u001b[0mprecise_float\u001b[0m\u001b[0;34m=\u001b[0m\u001b[0mself\u001b[0m\u001b[0;34m.\u001b[0m\u001b[0mprecise_float\u001b[0m\u001b[0;34m)\u001b[0m\u001b[0;34m,\u001b[0m \u001b[0mdtype\u001b[0m\u001b[0;34m=\u001b[0m\u001b[0;32mNone\u001b[0m\u001b[0;34m\u001b[0m\u001b[0;34m\u001b[0m\u001b[0m\n\u001b[0m\u001b[1;32m   1080\u001b[0m             )\n\u001b[1;32m   1081\u001b[0m         \u001b[0;32melif\u001b[0m \u001b[0morient\u001b[0m \u001b[0;34m==\u001b[0m \u001b[0;34m\"split\"\u001b[0m\u001b[0;34m:\u001b[0m\u001b[0;34m\u001b[0m\u001b[0;34m\u001b[0m\u001b[0m\n",
      "\u001b[0;31mValueError\u001b[0m: Expected object or value"
     ]
    }
   ],
   "source": [
    "wc = pd.read_json(\"world-countries.json\")"
   ]
  },
  {
   "cell_type": "code",
   "execution_count": 182,
   "metadata": {
    "execution": {
     "iopub.execute_input": "2021-07-29T00:16:00.865184Z",
     "iopub.status.busy": "2021-07-29T00:16:00.864605Z",
     "iopub.status.idle": "2021-07-29T00:16:01.573181Z",
     "shell.execute_reply": "2021-07-29T00:16:01.570793Z",
     "shell.execute_reply.started": "2021-07-29T00:16:00.865147Z"
    }
   },
   "outputs": [
    {
     "ename": "JSONDecodeError",
     "evalue": "Expecting value: line 7 column 1 (char 6)",
     "output_type": "error",
     "traceback": [
      "\u001b[0;31m---------------------------------------------------------------------------\u001b[0m",
      "\u001b[0;31mJSONDecodeError\u001b[0m                           Traceback (most recent call last)",
      "\u001b[0;32m<ipython-input-182-04e50bda99b8>\u001b[0m in \u001b[0;36m<module>\u001b[0;34m\u001b[0m\n\u001b[1;32m      6\u001b[0m     \u001b[0mkey_on\u001b[0m\u001b[0;34m=\u001b[0m\u001b[0;34m'feature.properties.name'\u001b[0m\u001b[0;34m,\u001b[0m\u001b[0;34m\u001b[0m\u001b[0;34m\u001b[0m\u001b[0m\n\u001b[1;32m      7\u001b[0m     \u001b[0mfill_color\u001b[0m\u001b[0;34m=\u001b[0m\u001b[0;34m'PuRd'\u001b[0m\u001b[0;34m,\u001b[0m\u001b[0;34m\u001b[0m\u001b[0;34m\u001b[0m\u001b[0m\n\u001b[0;32m----> 8\u001b[0;31m     \u001b[0mnan_fill_color\u001b[0m\u001b[0;34m=\u001b[0m\u001b[0;34m'white'\u001b[0m\u001b[0;34m\u001b[0m\u001b[0;34m\u001b[0m\u001b[0m\n\u001b[0m\u001b[1;32m      9\u001b[0m ).add_to(world)\n\u001b[1;32m     10\u001b[0m \u001b[0;34m\u001b[0m\u001b[0m\n",
      "\u001b[0;32m/opt/conda/lib/python3.7/site-packages/folium/features.py\u001b[0m in \u001b[0;36m__init__\u001b[0;34m(self, geo_data, data, columns, key_on, bins, fill_color, nan_fill_color, fill_opacity, nan_fill_opacity, line_color, line_weight, line_opacity, name, legend_name, overlay, control, show, topojson, smooth_factor, highlight, **kwargs)\u001b[0m\n\u001b[1;32m   1291\u001b[0m                 \u001b[0mstyle_function\u001b[0m\u001b[0;34m=\u001b[0m\u001b[0mstyle_function\u001b[0m\u001b[0;34m,\u001b[0m\u001b[0;34m\u001b[0m\u001b[0;34m\u001b[0m\u001b[0m\n\u001b[1;32m   1292\u001b[0m                 \u001b[0msmooth_factor\u001b[0m\u001b[0;34m=\u001b[0m\u001b[0msmooth_factor\u001b[0m\u001b[0;34m,\u001b[0m\u001b[0;34m\u001b[0m\u001b[0;34m\u001b[0m\u001b[0m\n\u001b[0;32m-> 1293\u001b[0;31m                 highlight_function=highlight_function if highlight else None)\n\u001b[0m\u001b[1;32m   1294\u001b[0m \u001b[0;34m\u001b[0m\u001b[0m\n\u001b[1;32m   1295\u001b[0m         \u001b[0mself\u001b[0m\u001b[0;34m.\u001b[0m\u001b[0madd_child\u001b[0m\u001b[0;34m(\u001b[0m\u001b[0mself\u001b[0m\u001b[0;34m.\u001b[0m\u001b[0mgeojson\u001b[0m\u001b[0;34m)\u001b[0m\u001b[0;34m\u001b[0m\u001b[0;34m\u001b[0m\u001b[0m\n",
      "\u001b[0;32m/opt/conda/lib/python3.7/site-packages/folium/features.py\u001b[0m in \u001b[0;36m__init__\u001b[0;34m(self, data, style_function, highlight_function, name, overlay, control, show, smooth_factor, tooltip, embed, popup, zoom_on_click, marker)\u001b[0m\n\u001b[1;32m    497\u001b[0m         \u001b[0mself\u001b[0m\u001b[0;34m.\u001b[0m\u001b[0mmarker\u001b[0m \u001b[0;34m=\u001b[0m \u001b[0mmarker\u001b[0m\u001b[0;34m\u001b[0m\u001b[0;34m\u001b[0m\u001b[0m\n\u001b[1;32m    498\u001b[0m \u001b[0;34m\u001b[0m\u001b[0m\n\u001b[0;32m--> 499\u001b[0;31m         \u001b[0mself\u001b[0m\u001b[0;34m.\u001b[0m\u001b[0mdata\u001b[0m \u001b[0;34m=\u001b[0m \u001b[0mself\u001b[0m\u001b[0;34m.\u001b[0m\u001b[0mprocess_data\u001b[0m\u001b[0;34m(\u001b[0m\u001b[0mdata\u001b[0m\u001b[0;34m)\u001b[0m\u001b[0;34m\u001b[0m\u001b[0;34m\u001b[0m\u001b[0m\n\u001b[0m\u001b[1;32m    500\u001b[0m \u001b[0;34m\u001b[0m\u001b[0m\n\u001b[1;32m    501\u001b[0m         \u001b[0;32mif\u001b[0m \u001b[0mself\u001b[0m\u001b[0;34m.\u001b[0m\u001b[0mstyle\u001b[0m \u001b[0;32mor\u001b[0m \u001b[0mself\u001b[0m\u001b[0;34m.\u001b[0m\u001b[0mhighlight\u001b[0m\u001b[0;34m:\u001b[0m\u001b[0;34m\u001b[0m\u001b[0;34m\u001b[0m\u001b[0m\n",
      "\u001b[0;32m/opt/conda/lib/python3.7/site-packages/folium/features.py\u001b[0m in \u001b[0;36mprocess_data\u001b[0;34m(self, data)\u001b[0m\n\u001b[1;32m    527\u001b[0m                 \u001b[0;32mif\u001b[0m \u001b[0;32mnot\u001b[0m \u001b[0mself\u001b[0m\u001b[0;34m.\u001b[0m\u001b[0membed\u001b[0m\u001b[0;34m:\u001b[0m\u001b[0;34m\u001b[0m\u001b[0;34m\u001b[0m\u001b[0m\n\u001b[1;32m    528\u001b[0m                     \u001b[0mself\u001b[0m\u001b[0;34m.\u001b[0m\u001b[0membed_link\u001b[0m \u001b[0;34m=\u001b[0m \u001b[0mdata\u001b[0m\u001b[0;34m\u001b[0m\u001b[0;34m\u001b[0m\u001b[0m\n\u001b[0;32m--> 529\u001b[0;31m                 \u001b[0;32mreturn\u001b[0m \u001b[0mrequests\u001b[0m\u001b[0;34m.\u001b[0m\u001b[0mget\u001b[0m\u001b[0;34m(\u001b[0m\u001b[0mdata\u001b[0m\u001b[0;34m)\u001b[0m\u001b[0;34m.\u001b[0m\u001b[0mjson\u001b[0m\u001b[0;34m(\u001b[0m\u001b[0;34m)\u001b[0m\u001b[0;34m\u001b[0m\u001b[0;34m\u001b[0m\u001b[0m\n\u001b[0m\u001b[1;32m    530\u001b[0m             \u001b[0;32melif\u001b[0m \u001b[0mdata\u001b[0m\u001b[0;34m.\u001b[0m\u001b[0mlstrip\u001b[0m\u001b[0;34m(\u001b[0m\u001b[0;34m)\u001b[0m\u001b[0;34m[\u001b[0m\u001b[0;36m0\u001b[0m\u001b[0;34m]\u001b[0m \u001b[0;32min\u001b[0m \u001b[0;34m'[{'\u001b[0m\u001b[0;34m:\u001b[0m  \u001b[0;31m# This is a GeoJSON inline string\u001b[0m\u001b[0;34m\u001b[0m\u001b[0;34m\u001b[0m\u001b[0m\n\u001b[1;32m    531\u001b[0m                 \u001b[0mself\u001b[0m\u001b[0;34m.\u001b[0m\u001b[0membed\u001b[0m \u001b[0;34m=\u001b[0m \u001b[0;32mTrue\u001b[0m\u001b[0;34m\u001b[0m\u001b[0;34m\u001b[0m\u001b[0m\n",
      "\u001b[0;32m/opt/conda/lib/python3.7/site-packages/requests/models.py\u001b[0m in \u001b[0;36mjson\u001b[0;34m(self, **kwargs)\u001b[0m\n\u001b[1;32m    898\u001b[0m                     \u001b[0;31m# used.\u001b[0m\u001b[0;34m\u001b[0m\u001b[0;34m\u001b[0m\u001b[0;34m\u001b[0m\u001b[0m\n\u001b[1;32m    899\u001b[0m                     \u001b[0;32mpass\u001b[0m\u001b[0;34m\u001b[0m\u001b[0;34m\u001b[0m\u001b[0m\n\u001b[0;32m--> 900\u001b[0;31m         \u001b[0;32mreturn\u001b[0m \u001b[0mcomplexjson\u001b[0m\u001b[0;34m.\u001b[0m\u001b[0mloads\u001b[0m\u001b[0;34m(\u001b[0m\u001b[0mself\u001b[0m\u001b[0;34m.\u001b[0m\u001b[0mtext\u001b[0m\u001b[0;34m,\u001b[0m \u001b[0;34m**\u001b[0m\u001b[0mkwargs\u001b[0m\u001b[0;34m)\u001b[0m\u001b[0;34m\u001b[0m\u001b[0;34m\u001b[0m\u001b[0m\n\u001b[0m\u001b[1;32m    901\u001b[0m \u001b[0;34m\u001b[0m\u001b[0m\n\u001b[1;32m    902\u001b[0m     \u001b[0;34m@\u001b[0m\u001b[0mproperty\u001b[0m\u001b[0;34m\u001b[0m\u001b[0;34m\u001b[0m\u001b[0m\n",
      "\u001b[0;32m/opt/conda/lib/python3.7/site-packages/simplejson/__init__.py\u001b[0m in \u001b[0;36mloads\u001b[0;34m(s, encoding, cls, object_hook, parse_float, parse_int, parse_constant, object_pairs_hook, use_decimal, **kw)\u001b[0m\n\u001b[1;32m    523\u001b[0m             \u001b[0mparse_constant\u001b[0m \u001b[0;32mis\u001b[0m \u001b[0;32mNone\u001b[0m \u001b[0;32mand\u001b[0m \u001b[0mobject_pairs_hook\u001b[0m \u001b[0;32mis\u001b[0m \u001b[0;32mNone\u001b[0m\u001b[0;34m\u001b[0m\u001b[0;34m\u001b[0m\u001b[0m\n\u001b[1;32m    524\u001b[0m             and not use_decimal and not kw):\n\u001b[0;32m--> 525\u001b[0;31m         \u001b[0;32mreturn\u001b[0m \u001b[0m_default_decoder\u001b[0m\u001b[0;34m.\u001b[0m\u001b[0mdecode\u001b[0m\u001b[0;34m(\u001b[0m\u001b[0ms\u001b[0m\u001b[0;34m)\u001b[0m\u001b[0;34m\u001b[0m\u001b[0;34m\u001b[0m\u001b[0m\n\u001b[0m\u001b[1;32m    526\u001b[0m     \u001b[0;32mif\u001b[0m \u001b[0mcls\u001b[0m \u001b[0;32mis\u001b[0m \u001b[0;32mNone\u001b[0m\u001b[0;34m:\u001b[0m\u001b[0;34m\u001b[0m\u001b[0;34m\u001b[0m\u001b[0m\n\u001b[1;32m    527\u001b[0m         \u001b[0mcls\u001b[0m \u001b[0;34m=\u001b[0m \u001b[0mJSONDecoder\u001b[0m\u001b[0;34m\u001b[0m\u001b[0;34m\u001b[0m\u001b[0m\n",
      "\u001b[0;32m/opt/conda/lib/python3.7/site-packages/simplejson/decoder.py\u001b[0m in \u001b[0;36mdecode\u001b[0;34m(self, s, _w, _PY3)\u001b[0m\n\u001b[1;32m    368\u001b[0m         \u001b[0;32mif\u001b[0m \u001b[0m_PY3\u001b[0m \u001b[0;32mand\u001b[0m \u001b[0misinstance\u001b[0m\u001b[0;34m(\u001b[0m\u001b[0ms\u001b[0m\u001b[0;34m,\u001b[0m \u001b[0mbytes\u001b[0m\u001b[0;34m)\u001b[0m\u001b[0;34m:\u001b[0m\u001b[0;34m\u001b[0m\u001b[0;34m\u001b[0m\u001b[0m\n\u001b[1;32m    369\u001b[0m             \u001b[0ms\u001b[0m \u001b[0;34m=\u001b[0m \u001b[0mstr\u001b[0m\u001b[0;34m(\u001b[0m\u001b[0ms\u001b[0m\u001b[0;34m,\u001b[0m \u001b[0mself\u001b[0m\u001b[0;34m.\u001b[0m\u001b[0mencoding\u001b[0m\u001b[0;34m)\u001b[0m\u001b[0;34m\u001b[0m\u001b[0;34m\u001b[0m\u001b[0m\n\u001b[0;32m--> 370\u001b[0;31m         \u001b[0mobj\u001b[0m\u001b[0;34m,\u001b[0m \u001b[0mend\u001b[0m \u001b[0;34m=\u001b[0m \u001b[0mself\u001b[0m\u001b[0;34m.\u001b[0m\u001b[0mraw_decode\u001b[0m\u001b[0;34m(\u001b[0m\u001b[0ms\u001b[0m\u001b[0;34m)\u001b[0m\u001b[0;34m\u001b[0m\u001b[0;34m\u001b[0m\u001b[0m\n\u001b[0m\u001b[1;32m    371\u001b[0m         \u001b[0mend\u001b[0m \u001b[0;34m=\u001b[0m \u001b[0m_w\u001b[0m\u001b[0;34m(\u001b[0m\u001b[0ms\u001b[0m\u001b[0;34m,\u001b[0m \u001b[0mend\u001b[0m\u001b[0;34m)\u001b[0m\u001b[0;34m.\u001b[0m\u001b[0mend\u001b[0m\u001b[0;34m(\u001b[0m\u001b[0;34m)\u001b[0m\u001b[0;34m\u001b[0m\u001b[0;34m\u001b[0m\u001b[0m\n\u001b[1;32m    372\u001b[0m         \u001b[0;32mif\u001b[0m \u001b[0mend\u001b[0m \u001b[0;34m!=\u001b[0m \u001b[0mlen\u001b[0m\u001b[0;34m(\u001b[0m\u001b[0ms\u001b[0m\u001b[0;34m)\u001b[0m\u001b[0;34m:\u001b[0m\u001b[0;34m\u001b[0m\u001b[0;34m\u001b[0m\u001b[0m\n",
      "\u001b[0;32m/opt/conda/lib/python3.7/site-packages/simplejson/decoder.py\u001b[0m in \u001b[0;36mraw_decode\u001b[0;34m(self, s, idx, _w, _PY3)\u001b[0m\n\u001b[1;32m    398\u001b[0m             \u001b[0;32melif\u001b[0m \u001b[0mord0\u001b[0m \u001b[0;34m==\u001b[0m \u001b[0;36m0xef\u001b[0m \u001b[0;32mand\u001b[0m \u001b[0ms\u001b[0m\u001b[0;34m[\u001b[0m\u001b[0midx\u001b[0m\u001b[0;34m:\u001b[0m\u001b[0midx\u001b[0m \u001b[0;34m+\u001b[0m \u001b[0;36m3\u001b[0m\u001b[0;34m]\u001b[0m \u001b[0;34m==\u001b[0m \u001b[0;34m'\\xef\\xbb\\xbf'\u001b[0m\u001b[0;34m:\u001b[0m\u001b[0;34m\u001b[0m\u001b[0;34m\u001b[0m\u001b[0m\n\u001b[1;32m    399\u001b[0m                 \u001b[0midx\u001b[0m \u001b[0;34m+=\u001b[0m \u001b[0;36m3\u001b[0m\u001b[0;34m\u001b[0m\u001b[0;34m\u001b[0m\u001b[0m\n\u001b[0;32m--> 400\u001b[0;31m         \u001b[0;32mreturn\u001b[0m \u001b[0mself\u001b[0m\u001b[0;34m.\u001b[0m\u001b[0mscan_once\u001b[0m\u001b[0;34m(\u001b[0m\u001b[0ms\u001b[0m\u001b[0;34m,\u001b[0m \u001b[0midx\u001b[0m\u001b[0;34m=\u001b[0m\u001b[0m_w\u001b[0m\u001b[0;34m(\u001b[0m\u001b[0ms\u001b[0m\u001b[0;34m,\u001b[0m \u001b[0midx\u001b[0m\u001b[0;34m)\u001b[0m\u001b[0;34m.\u001b[0m\u001b[0mend\u001b[0m\u001b[0;34m(\u001b[0m\u001b[0;34m)\u001b[0m\u001b[0;34m)\u001b[0m\u001b[0;34m\u001b[0m\u001b[0;34m\u001b[0m\u001b[0m\n\u001b[0m",
      "\u001b[0;31mJSONDecodeError\u001b[0m: Expecting value: line 7 column 1 (char 6)"
     ]
    }
   ],
   "source": [
    "flm.Choropleth(\n",
    "    geo_data=wc,\n",
    "    name='Les localités',\n",
    "    data=df_viz,\n",
    "    columns=['longitude','latitude'],\n",
    "    key_on='feature.properties.name',\n",
    "    fill_color='PuRd',\n",
    "    nan_fill_color='white'\n",
    ").add_to(world)\n",
    "\n",
    "folium.LayerControl(collapsed=True).add_to(world)"
   ]
  },
  {
   "cell_type": "markdown",
   "metadata": {},
   "source": [
    "> 0) Matrice de covariance\n",
    "> 0.1) Des affichages simples\n",
    "> 1) Nombre de victimes par provinces\n",
    "> 2) Nombre de morts dans l'armée et dans la société civile\n",
    "> 3) Observer les faits durant les années\n",
    "> 4) Moyenne des décès par année\n",
    "> 5) La proportion des types d'évenements\n",
    "> 6) Représentation spatiale des localités (+ le point 4)\n",
    "> 7) Représenter l'évolution des types d'évenements pendant le temps\n",
    "> 8) Observer les interractions durant les années\n",
    "> 9) Nuages de points avec x et y comme latitude et longitude et, localité comme des points étiquettes Localite(latitude,longitude) et jointplot\n",
    "> 10) Connaître les sources qui informe le plus et, les sources qui informes le moins\n",
    "> 11) Moyenne des décès par année avec un box plot\n",
    "> 12) réaliser une matrice colorié (Heat Map) pour représenter le nombre de fois que les acteurs ont organisés une manifestations entre 1997 et 2020\n",
    "> 13) En partant des 3 meilleurs sources, représenter sur 3 années prises au hasard, le nombre d'évenemnts\n",
    "> 14) Retoucher (design) le dataset avec plotly\n",
    "> 15) Représentation en groupe by\n",
    "> 16) Matrice de covariance finale"
   ]
  },
  {
   "cell_type": "code",
   "execution_count": 129,
   "metadata": {
    "execution": {
     "iopub.execute_input": "2021-07-28T23:09:46.716944Z",
     "iopub.status.busy": "2021-07-28T23:09:46.716389Z",
     "iopub.status.idle": "2021-07-28T23:09:46.756146Z",
     "shell.execute_reply": "2021-07-28T23:09:46.754900Z",
     "shell.execute_reply.started": "2021-07-28T23:09:46.716898Z"
    }
   },
   "outputs": [
    {
     "name": "stdout",
     "output_type": "stream",
     "text": [
      "<class 'pandas.core.frame.DataFrame'>\n",
      "RangeIndex: 17417 entries, 0 to 17416\n",
      "Data columns (total 20 columns):\n",
      " #   Column            Non-Null Count  Dtype         \n",
      "---  ------            --------------  -----         \n",
      " 0   event_id_no_cnty  17417 non-null  int64         \n",
      " 1   event_date        17417 non-null  datetime64[ns]\n",
      " 2   year              17417 non-null  int64         \n",
      " 3   event_type        17417 non-null  object        \n",
      " 4   sub_event_type    17417 non-null  object        \n",
      " 5   actor1            17417 non-null  object        \n",
      " 6   assoc_actor_1     2861 non-null   object        \n",
      " 7   actor2            15022 non-null  object        \n",
      " 8   assoc_actor_2     2623 non-null   object        \n",
      " 9   province1         17417 non-null  object        \n",
      " 10  province2         17417 non-null  object        \n",
      " 11  province3         17393 non-null  object        \n",
      " 12  localite          17417 non-null  object        \n",
      " 13  latitude          17417 non-null  float64       \n",
      " 14  longitude         17417 non-null  float64       \n",
      " 15  source            17417 non-null  object        \n",
      " 16  source_scale      17417 non-null  object        \n",
      " 17  faits             17417 non-null  int64         \n",
      " 18  timestamp         17417 non-null  float64       \n",
      " 19  interactions      17417 non-null  float64       \n",
      "dtypes: datetime64[ns](1), float64(4), int64(3), object(12)\n",
      "memory usage: 2.7+ MB\n"
     ]
    }
   ],
   "source": [
    "df_viz.info()"
   ]
  },
  {
   "cell_type": "markdown",
   "metadata": {},
   "source": [
    "### 3.5 ) Final Data Processing"
   ]
  },
  {
   "cell_type": "markdown",
   "metadata": {},
   "source": []
  },
  {
   "cell_type": "code",
   "execution_count": null,
   "metadata": {},
   "outputs": [],
   "source": []
  },
  {
   "cell_type": "markdown",
   "metadata": {},
   "source": [
    "### 3.6 ) Modélisation"
   ]
  },
  {
   "cell_type": "code",
   "execution_count": 41,
   "metadata": {
    "execution": {
     "iopub.execute_input": "2021-07-28T22:02:50.508670Z",
     "iopub.status.busy": "2021-07-28T22:02:50.508070Z",
     "iopub.status.idle": "2021-07-28T22:02:50.516430Z",
     "shell.execute_reply": "2021-07-28T22:02:50.515627Z",
     "shell.execute_reply.started": "2021-07-28T22:02:50.508622Z"
    }
   },
   "outputs": [],
   "source": [
    "df_model = df.copy()"
   ]
  },
  {
   "cell_type": "markdown",
   "metadata": {},
   "source": [
    "### 3.7 ) Prédiction et classification"
   ]
  },
  {
   "cell_type": "markdown",
   "metadata": {},
   "source": [
    "# ENCODAGE OU PAS ? (soon)"
   ]
  },
  {
   "cell_type": "code",
   "execution_count": null,
   "metadata": {},
   "outputs": [],
   "source": [
    "df_more = pd.get_dummies(dadf_more['event_type'], columns=np.unique(df_more['event_type'].values))"
   ]
  }
 ],
 "metadata": {
  "kernelspec": {
   "display_name": "Python 3",
   "language": "python",
   "name": "python3"
  },
  "language_info": {
   "codemirror_mode": {
    "name": "ipython",
    "version": 3
   },
   "file_extension": ".py",
   "mimetype": "text/x-python",
   "name": "python",
   "nbconvert_exporter": "python",
   "pygments_lexer": "ipython3",
   "version": "3.7.10"
  }
 },
 "nbformat": 4,
 "nbformat_minor": 4
}
